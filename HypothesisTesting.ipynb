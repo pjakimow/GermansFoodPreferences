{
 "cells": [
  {
   "cell_type": "code",
   "execution_count": 1,
   "metadata": {
    "scrolled": true
   },
   "outputs": [
    {
     "name": "stdout",
     "output_type": "stream",
     "text": [
      "1576832\n"
     ]
    }
   ],
   "source": [
    "import pandas as pd\n",
    "import gc\n",
    "import math\n",
    "\n",
    "df = pd.read_csv(\"data_V5.csv\")\n",
    "print(len(df))"
   ]
  },
  {
   "cell_type": "markdown",
   "metadata": {},
   "source": [
    "## Assigning values and finding ratios"
   ]
  },
  {
   "cell_type": "code",
   "execution_count": 2,
   "metadata": {
    "collapsed": true
   },
   "outputs": [],
   "source": [
    "meat = ['Fleisch', 'Braten', 'Grillfest', 'Grillen', 'Fisch', 'Barbecue', 'Fastfood', 'Wildschweingulasch']\n",
    "veg = ['Vegetarisch', 'Vegan', 'Salate', 'Gesund und Diaet']\n",
    "\n",
    "main = \"Berlin\"\n",
    "targets = ['Hamburg', 'Munich', 'Koeln', 'Frankfurt_Am_Main', 'Potsdam', 'Bremerhaven', 'Erlangen', 'Siegen', 'Darmstadt']"
   ]
  },
  {
   "cell_type": "code",
   "execution_count": 3,
   "metadata": {
    "collapsed": true
   },
   "outputs": [],
   "source": [
    "df_b = df[df[\"city\"] == main]\n",
    "\n",
    "df_b_f = df_b[df_b['categories'].str.contains('|'.join(meat))]\n",
    "df_b_v = df_b[df_b['categories'].str.contains('|'.join(veg))]"
   ]
  },
  {
   "cell_type": "code",
   "execution_count": 4,
   "metadata": {
    "collapsed": true
   },
   "outputs": [],
   "source": [
    "df_b_veg = df_b[df_b['categories'].str.contains('Vegetarisch')]"
   ]
  },
  {
   "cell_type": "markdown",
   "metadata": {},
   "source": [
    "### *'Vegetarisch'* ratio in summer"
   ]
  },
  {
   "cell_type": "code",
   "execution_count": 5,
   "metadata": {
    "scrolled": true
   },
   "outputs": [
    {
     "data": {
      "text/plain": [
       "0.12921972012445004"
      ]
     },
     "execution_count": 5,
     "metadata": {},
     "output_type": "execute_result"
    }
   ],
   "source": [
    "season = 'summer'\n",
    "\n",
    "len(df_b_veg[df_b_veg['season'] == season])/len(df_b[df_b['season'] == season])"
   ]
  },
  {
   "cell_type": "code",
   "execution_count": 6,
   "metadata": {},
   "outputs": [
    {
     "name": "stdout",
     "output_type": "stream",
     "text": [
      "veg ratio on summer\n",
      "|target city       |veg ratio      |\n",
      "|Hamburg           |0.1260         |\n",
      "|Munich            |0.1263         |\n",
      "|Koeln             |0.1237         |\n",
      "|Frankfurt_Am_Main |0.1163         |\n",
      "|Potsdam           |0.1322         |\n",
      "|Bremerhaven       |0.1169         |\n",
      "|Erlangen          |0.1257         |\n",
      "|Siegen            |0.1214         |\n",
      "|Darmstadt         |0.1282         |\n"
     ]
    }
   ],
   "source": [
    "print('veg ratio on '+season)\n",
    "str_format = '|{:<18}|{:<15}|'\n",
    "str_format2 = '|{:<18}|{:<15.4f}|'\n",
    "print(str_format.format('target city', 'veg ratio'))\n",
    "\n",
    "for target in targets:\n",
    "    df_t = df[df[\"city\"] == target]\n",
    "    df_t_veg = df_t[df_t['categories'].str.contains('Vegetarisch')]\n",
    "\n",
    "    print(str_format2.format(target, len(df_t_veg[df_t_veg['season'] == season])/len(df_t[df_t['season'] == season])))"
   ]
  },
  {
   "cell_type": "markdown",
   "metadata": {},
   "source": [
    "### *'Vegetarisch'* ratio in winter"
   ]
  },
  {
   "cell_type": "code",
   "execution_count": 7,
   "metadata": {},
   "outputs": [
    {
     "data": {
      "text/plain": [
       "0.11338361411926885"
      ]
     },
     "execution_count": 7,
     "metadata": {},
     "output_type": "execute_result"
    }
   ],
   "source": [
    "season = 'winter'\n",
    "\n",
    "len(df_b_veg[df_b_veg['season'] == season])/len(df_b[df_b['season'] == season])"
   ]
  },
  {
   "cell_type": "code",
   "execution_count": 8,
   "metadata": {},
   "outputs": [
    {
     "name": "stdout",
     "output_type": "stream",
     "text": [
      "veg ratio on winter\n",
      "|target city       |veg ratio      |\n",
      "|Hamburg           |0.1151         |\n",
      "|Munich            |0.1142         |\n",
      "|Koeln             |0.1187         |\n",
      "|Frankfurt_Am_Main |0.0924         |\n",
      "|Potsdam           |0.1183         |\n",
      "|Bremerhaven       |0.1036         |\n",
      "|Erlangen          |0.1179         |\n",
      "|Siegen            |0.1007         |\n",
      "|Darmstadt         |0.1082         |\n"
     ]
    }
   ],
   "source": [
    "print('veg ratio on '+season)\n",
    "str_format = '|{:<18}|{:<15}|'\n",
    "str_format2 = '|{:<18}|{:<15.4f}|'\n",
    "print(str_format.format('target city', 'veg ratio'))\n",
    "\n",
    "for target in targets:\n",
    "    df_t = df[df[\"city\"] == target]\n",
    "    df_t_veg = df_t[df_t['categories'].str.contains('Vegetarisch')]\n",
    "\n",
    "    print(str_format2.format(target, len(df_t_veg[df_t_veg['season'] == season])/len(df_t[df_t['season'] == season])))"
   ]
  },
  {
   "cell_type": "markdown",
   "metadata": {},
   "source": [
    "### Z-score"
   ]
  },
  {
   "cell_type": "code",
   "execution_count": 9,
   "metadata": {},
   "outputs": [],
   "source": [
    "#summer\n",
    "season = 'summer'"
   ]
  },
  {
   "cell_type": "code",
   "execution_count": 10,
   "metadata": {},
   "outputs": [
    {
     "name": "stdout",
     "output_type": "stream",
     "text": [
      "z-score on summer\n",
      "|main city      |target city       |z-score        |\n",
      "|Berlin         |Hamburg           |2.6929         |\n",
      "|Berlin         |Munich            |2.5483         |\n",
      "|Berlin         |Koeln             |3.7816         |\n",
      "|Berlin         |Frankfurt_Am_Main |9.9155         |\n",
      "|Berlin         |Potsdam           |-0.6826        |\n",
      "|Berlin         |Bremerhaven       |2.4158         |\n",
      "|Berlin         |Erlangen          |1.0739         |\n",
      "|Berlin         |Siegen            |1.9687         |\n",
      "|Berlin         |Darmstadt         |0.3866         |\n"
     ]
    }
   ],
   "source": [
    "#summer - vegetarisch only\n",
    "\n",
    "print('z-score on '+season)\n",
    "str_format = '|{:<15}|{:<18}|{:<15}|'\n",
    "str_format2 = '|{:<15}|{:<18}|{:<15.4f}|'\n",
    "print(str_format.format('main city','target city','z-score'))\n",
    "\n",
    "for target in targets:\n",
    "    df_t = df[df[\"city\"] == target]\n",
    "    df_t_veg = df_t[df_t['categories'].str.contains('Vegetarisch')]\n",
    "\n",
    "    data1 = df_b[df_b['season'] == season]\n",
    "    data2 = df_t[df_t['season'] == season]\n",
    "    n1 = len(data1)\n",
    "    n2 = len(data2)\n",
    "    p1 = len(df_b_veg[df_b_veg['season'] == season])/n1\n",
    "    p2 = len(df_t_veg[df_t_veg['season'] == season])/n2\n",
    "\n",
    "    p = (p1 * n1 + p2 * n2)/(n1 + n2)\n",
    "    se = math.sqrt(p*(1-p)*((1/n1)+(1/n2)))\n",
    "    z = (p1 - p2)/se\n",
    "\n",
    "    print(str_format2.format(main, target, z))"
   ]
  },
  {
   "cell_type": "code",
   "execution_count": 11,
   "metadata": {
    "scrolled": true
   },
   "outputs": [
    {
     "name": "stdout",
     "output_type": "stream",
     "text": [
      "z-score on summer\n",
      "|main city      |target city       |z-score        |\n",
      "|Berlin         |Hamburg           |-2.3166        |\n",
      "|Berlin         |Munich            |1.3365         |\n",
      "|Berlin         |Koeln             |-7.0024        |\n",
      "|Berlin         |Frankfurt_Am_Main |4.6821         |\n",
      "|Berlin         |Potsdam           |1.2206         |\n",
      "|Berlin         |Bremerhaven       |-4.2613        |\n",
      "|Berlin         |Erlangen          |0.2904         |\n",
      "|Berlin         |Siegen            |-2.8118        |\n",
      "|Berlin         |Darmstadt         |-3.2327        |\n"
     ]
    }
   ],
   "source": [
    "#summer - all 4 categories\n",
    "\n",
    "print('z-score on '+season)\n",
    "str_format = '|{:<15}|{:<18}|{:<15}|'\n",
    "str_format2 = '|{:<15}|{:<18}|{:<15.4f}|'\n",
    "print(str_format.format('main city','target city','z-score'))\n",
    "\n",
    "for target in targets:\n",
    "    df_t = df[df[\"city\"] == target]\n",
    "    df_t_v = df_t[df_t['categories'].str.contains('|'.join(veg))]\n",
    "\n",
    "    data1 = df_b[df_b['season'] == season]\n",
    "    data2 = df_t[df_t['season'] == season]\n",
    "    n1 = len(data1)\n",
    "    n2 = len(data2)\n",
    "    p1 = len(df_b_v[df_b_v['season'] == season])/n1\n",
    "    p2 = len(df_t_v[df_t_v['season'] == season])/n2\n",
    "\n",
    "    p = (p1 * n1 + p2 * n2)/(n1 + n2)\n",
    "    se = math.sqrt(p*(1-p)*((1/n1)+(1/n2)))\n",
    "    z = (p1 - p2)/se\n",
    "\n",
    "    print(str_format2.format(main, target, z))"
   ]
  },
  {
   "cell_type": "code",
   "execution_count": 12,
   "metadata": {},
   "outputs": [],
   "source": [
    "#winter\n",
    "season = 'winter'"
   ]
  },
  {
   "cell_type": "code",
   "execution_count": 13,
   "metadata": {},
   "outputs": [
    {
     "name": "stdout",
     "output_type": "stream",
     "text": [
      "z-score on winter\n",
      "|main city      |target city       |z-score        |\n",
      "|Berlin         |Hamburg           |-1.2746        |\n",
      "|Berlin         |Munich            |-0.6610        |\n",
      "|Berlin         |Koeln             |-3.1671        |\n",
      "|Berlin         |Frankfurt_Am_Main |17.5027        |\n",
      "|Berlin         |Potsdam           |-0.9285        |\n",
      "|Berlin         |Bremerhaven       |1.6791         |\n",
      "|Berlin         |Erlangen          |-1.2444        |\n",
      "|Berlin         |Siegen            |2.8831         |\n",
      "|Berlin         |Darmstadt         |1.5477         |\n"
     ]
    }
   ],
   "source": [
    "#winter - vegetarisch only\n",
    "\n",
    "print('z-score on '+season)\n",
    "str_format = '|{:<15}|{:<18}|{:<15}|'\n",
    "str_format2 = '|{:<15}|{:<18}|{:<15.4f}|'\n",
    "print(str_format.format('main city','target city','z-score'))\n",
    "\n",
    "for target in targets:\n",
    "    df_t = df[df[\"city\"] == target]\n",
    "    df_t_veg = df_t[df_t['categories'].str.contains('Vegetarisch')]\n",
    "\n",
    "    data1 = df_b[df_b['season'] == season]\n",
    "    data2 = df_t[df_t['season'] == season]\n",
    "    n1 = len(data1)\n",
    "    n2 = len(data2)\n",
    "    p1 = len(df_b_veg[df_b_veg['season'] == season])/n1\n",
    "    p2 = len(df_t_veg[df_t_veg['season'] == season])/n2\n",
    "\n",
    "    p = (p1 * n1 + p2 * n2)/(n1 + n2)\n",
    "    se = math.sqrt(p*(1-p)*((1/n1)+(1/n2)))\n",
    "    z = (p1 - p2)/se\n",
    "\n",
    "    print(str_format2.format(main, target, z))"
   ]
  },
  {
   "cell_type": "code",
   "execution_count": 14,
   "metadata": {},
   "outputs": [
    {
     "name": "stdout",
     "output_type": "stream",
     "text": [
      "z-score on winter\n",
      "|main city      |target city       |z-score        |\n",
      "|Berlin         |Hamburg           |-1.1074        |\n",
      "|Berlin         |Munich            |4.3651         |\n",
      "|Berlin         |Koeln             |-4.0500        |\n",
      "|Berlin         |Frankfurt_Am_Main |17.2495        |\n",
      "|Berlin         |Potsdam           |-3.1911        |\n",
      "|Berlin         |Bremerhaven       |0.6892         |\n",
      "|Berlin         |Erlangen          |2.9141         |\n",
      "|Berlin         |Siegen            |-1.0835        |\n",
      "|Berlin         |Darmstadt         |0.2049         |\n"
     ]
    }
   ],
   "source": [
    "#winter - all 4 categories\n",
    "\n",
    "print('z-score on '+season)\n",
    "str_format = '|{:<15}|{:<18}|{:<15}|'\n",
    "str_format2 = '|{:<15}|{:<18}|{:<15.4f}|'\n",
    "print(str_format.format('main city','target city','z-score'))\n",
    "\n",
    "for target in targets:\n",
    "    df_t = df[df[\"city\"] == target]\n",
    "    df_t_v = df_t[df_t['categories'].str.contains('|'.join(veg))]\n",
    "\n",
    "    data1 = df_b[df_b['season'] == season]\n",
    "    data2 = df_t[df_t['season'] == season]\n",
    "    n1 = len(data1)\n",
    "    n2 = len(data2)\n",
    "    p1 = len(df_b_v[df_b_v['season'] == season])/n1\n",
    "    p2 = len(df_t_v[df_t_v['season'] == season])/n2\n",
    "\n",
    "    p = (p1 * n1 + p2 * n2)/(n1 + n2)\n",
    "    se = math.sqrt(p*(1-p)*((1/n1)+(1/n2)))\n",
    "    z = (p1 - p2)/se\n",
    "\n",
    "    print(str_format2.format(main, target, z))"
   ]
  },
  {
   "cell_type": "code",
   "execution_count": null,
   "metadata": {
    "collapsed": true
   },
   "outputs": [],
   "source": []
  }
 ],
 "metadata": {
  "kernelspec": {
   "display_name": "Python 3",
   "language": "python",
   "name": "python3"
  },
  "language_info": {
   "codemirror_mode": {
    "name": "ipython",
    "version": 3
   },
   "file_extension": ".py",
   "mimetype": "text/x-python",
   "name": "python",
   "nbconvert_exporter": "python",
   "pygments_lexer": "ipython3",
   "version": "3.6.4"
  }
 },
 "nbformat": 4,
 "nbformat_minor": 2
}
