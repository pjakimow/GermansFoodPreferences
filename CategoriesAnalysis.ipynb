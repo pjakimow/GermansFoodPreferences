{
 "cells": [
  {
   "cell_type": "markdown",
   "metadata": {},
   "source": [
    "# Read file"
   ]
  },
  {
   "cell_type": "code",
   "execution_count": 1,
   "metadata": {},
   "outputs": [],
   "source": [
    "import numpy as np\n",
    "import pandas as pd\n",
    "import matplotlib.pyplot as plt"
   ]
  },
  {
   "cell_type": "code",
   "execution_count": 2,
   "metadata": {},
   "outputs": [],
   "source": [
    "path = 'data_V5.csv'"
   ]
  },
  {
   "cell_type": "code",
   "execution_count": 3,
   "metadata": {},
   "outputs": [],
   "source": [
    "df = pd.read_csv(path, sep=',', encoding='ISO-8859-1')"
   ]
  },
  {
   "cell_type": "code",
   "execution_count": 4,
   "metadata": {},
   "outputs": [
    {
     "data": {
      "text/html": [
       "<div>\n",
       "<style scoped>\n",
       "    .dataframe tbody tr th:only-of-type {\n",
       "        vertical-align: middle;\n",
       "    }\n",
       "\n",
       "    .dataframe tbody tr th {\n",
       "        vertical-align: top;\n",
       "    }\n",
       "\n",
       "    .dataframe thead th {\n",
       "        text-align: right;\n",
       "    }\n",
       "</style>\n",
       "<table border=\"1\" class=\"dataframe\">\n",
       "  <thead>\n",
       "    <tr style=\"text-align: right;\">\n",
       "      <th></th>\n",
       "      <th>date</th>\n",
       "      <th>recipe_id</th>\n",
       "      <th>country</th>\n",
       "      <th>region</th>\n",
       "      <th>city</th>\n",
       "      <th>categories</th>\n",
       "      <th>day</th>\n",
       "      <th>hour</th>\n",
       "      <th>season</th>\n",
       "    </tr>\n",
       "  </thead>\n",
       "  <tbody>\n",
       "    <tr>\n",
       "      <th>0</th>\n",
       "      <td>29.07.2013 21:14</td>\n",
       "      <td>136996.0</td>\n",
       "      <td>DE</td>\n",
       "      <td>16.0</td>\n",
       "      <td>Berlin</td>\n",
       "      <td>['Braten (Fleisch)', 'Fleisch', 'Milchprodukte...</td>\n",
       "      <td>29/07/2013</td>\n",
       "      <td>21:14</td>\n",
       "      <td>summer</td>\n",
       "    </tr>\n",
       "    <tr>\n",
       "      <th>1</th>\n",
       "      <td>29.07.2013 21:14</td>\n",
       "      <td>255239.0</td>\n",
       "      <td>DE</td>\n",
       "      <td>2.0</td>\n",
       "      <td>Munich</td>\n",
       "      <td>['Asien', 'Japan', 'Suppen/Eintoepfe', 'Vorspe...</td>\n",
       "      <td>29/07/2013</td>\n",
       "      <td>21:14</td>\n",
       "      <td>summer</td>\n",
       "    </tr>\n",
       "    <tr>\n",
       "      <th>2</th>\n",
       "      <td>29.07.2013 21:14</td>\n",
       "      <td>447948.0</td>\n",
       "      <td>DE</td>\n",
       "      <td>16.0</td>\n",
       "      <td>Berlin</td>\n",
       "      <td>['kalt', 'glutenfrei', 'laktosefrei', 'ohne We...</td>\n",
       "      <td>29/07/2013</td>\n",
       "      <td>21:14</td>\n",
       "      <td>summer</td>\n",
       "    </tr>\n",
       "    <tr>\n",
       "      <th>3</th>\n",
       "      <td>29.07.2013 21:14</td>\n",
       "      <td>131582.0</td>\n",
       "      <td>DE</td>\n",
       "      <td>16.0</td>\n",
       "      <td>Berlin</td>\n",
       "      <td>['glutenfrei', 'laktosefrei', 'ohne Weizen']</td>\n",
       "      <td>29/07/2013</td>\n",
       "      <td>21:14</td>\n",
       "      <td>summer</td>\n",
       "    </tr>\n",
       "    <tr>\n",
       "      <th>4</th>\n",
       "      <td>29.07.2013 21:15</td>\n",
       "      <td>35361.0</td>\n",
       "      <td>DE</td>\n",
       "      <td>16.0</td>\n",
       "      <td>Berlin</td>\n",
       "      <td>['trocknen', 'Gesund und Diaet', 'laktosefrei'...</td>\n",
       "      <td>29/07/2013</td>\n",
       "      <td>21:15</td>\n",
       "      <td>summer</td>\n",
       "    </tr>\n",
       "  </tbody>\n",
       "</table>\n",
       "</div>"
      ],
      "text/plain": [
       "               date  recipe_id country  region    city  \\\n",
       "0  29.07.2013 21:14   136996.0      DE    16.0  Berlin   \n",
       "1  29.07.2013 21:14   255239.0      DE     2.0  Munich   \n",
       "2  29.07.2013 21:14   447948.0      DE    16.0  Berlin   \n",
       "3  29.07.2013 21:14   131582.0      DE    16.0  Berlin   \n",
       "4  29.07.2013 21:15    35361.0      DE    16.0  Berlin   \n",
       "\n",
       "                                          categories         day   hour  \\\n",
       "0  ['Braten (Fleisch)', 'Fleisch', 'Milchprodukte...  29/07/2013  21:14   \n",
       "1  ['Asien', 'Japan', 'Suppen/Eintoepfe', 'Vorspe...  29/07/2013  21:14   \n",
       "2  ['kalt', 'glutenfrei', 'laktosefrei', 'ohne We...  29/07/2013  21:14   \n",
       "3       ['glutenfrei', 'laktosefrei', 'ohne Weizen']  29/07/2013  21:14   \n",
       "4  ['trocknen', 'Gesund und Diaet', 'laktosefrei'...  29/07/2013  21:15   \n",
       "\n",
       "   season  \n",
       "0  summer  \n",
       "1  summer  \n",
       "2  summer  \n",
       "3  summer  \n",
       "4  summer  "
      ]
     },
     "execution_count": 4,
     "metadata": {},
     "output_type": "execute_result"
    }
   ],
   "source": [
    "df.head()"
   ]
  },
  {
   "cell_type": "markdown",
   "metadata": {},
   "source": [
    "# Count categories"
   ]
  },
  {
   "cell_type": "code",
   "execution_count": 5,
   "metadata": {},
   "outputs": [],
   "source": [
    "def get_categories_counter(categories_column):\n",
    "    \"\"\" nan_indexes are not indexes from df/series but normal indexes\"\"\"\n",
    "    \n",
    "    import math\n",
    "    from tqdm import tqdm\n",
    "    \n",
    "    result = dict()\n",
    "    nan_indexes = list()\n",
    "    i = 0\n",
    "    with tqdm(total=len(categories_column)) as pbar:\n",
    "        for categories in categories_column:\n",
    "            i += 1\n",
    "            if (type(categories)) == str:\n",
    "                categories = categories.replace('[','').replace(']','').replace(\"'\",\"\").replace(', ',',').lower()\n",
    "\n",
    "                for category in categories.split(','):\n",
    "                    if result.get(category) != None:\n",
    "                        result[category] += 1\n",
    "                    else:\n",
    "                        result[category] = 1\n",
    "            else:\n",
    "                nan_indexes += [i]\n",
    "                if result.get('nan') != None:\n",
    "                    result['nan'] += 1\n",
    "                else:\n",
    "                    result['nan'] = 1\n",
    "            \n",
    "            pbar.update(1)\n",
    "           \n",
    "    return result, nan_indexes"
   ]
  },
  {
   "cell_type": "code",
   "execution_count": 6,
   "metadata": {},
   "outputs": [
    {
     "name": "stderr",
     "output_type": "stream",
     "text": [
      "100%|██████████| 1576832/1576832 [00:19<00:00, 82092.71it/s] \n"
     ]
    }
   ],
   "source": [
    "categories_counter, nan_indexes = get_categories_counter(df.categories)"
   ]
  },
  {
   "cell_type": "code",
   "execution_count": 7,
   "metadata": {},
   "outputs": [
    {
     "name": "stdout",
     "output_type": "stream",
     "text": [
      "Number of nan values in the dataset: 350840 . It is  22.25 % from the whole dataset.\n"
     ]
    }
   ],
   "source": [
    "print('Number of nan values in the dataset:', len(nan_indexes), \n",
    "      '. It is ', np.round(len(nan_indexes)/ len(df) * 100, 2),'% from the whole dataset.')"
   ]
  },
  {
   "cell_type": "code",
   "execution_count": 8,
   "metadata": {},
   "outputs": [
    {
     "name": "stdout",
     "output_type": "stream",
     "text": [
      "We have  1225992  examples left.\n"
     ]
    }
   ],
   "source": [
    "print('We have ', len(df) - len(nan_indexes), ' examples left.')"
   ]
  },
  {
   "cell_type": "markdown",
   "metadata": {},
   "source": [
    "# Plot data"
   ]
  },
  {
   "cell_type": "code",
   "execution_count": 9,
   "metadata": {},
   "outputs": [],
   "source": [
    "import operator"
   ]
  },
  {
   "cell_type": "code",
   "execution_count": 10,
   "metadata": {},
   "outputs": [],
   "source": [
    "sorted_desc = dict( sorted(categories_counter.items(), key=operator.itemgetter(1),reverse=True))"
   ]
  },
  {
   "cell_type": "code",
   "execution_count": 11,
   "metadata": {},
   "outputs": [
    {
     "data": {
      "image/png": "[encoded data removed]",
      "text/plain": [
       "<Figure size 432x288 with 1 Axes>"
      ]
     },
     "metadata": {},
     "output_type": "display_data"
    }
   ],
   "source": [
    "# take only n top results\n",
    "n = 30\n",
    "n_keys = list(sorted_desc.keys())[:n]\n",
    "n_values = [v for k, v in list(sorted_desc.items())[:n]]\n",
    "\n",
    "plt.bar(range(n), n_values)\n",
    "plt.ylabel('number of examples')\n",
    "plt.title('top '+str(n)+' categories')\n",
    "plt.xlabel('categories')\n",
    "plt.xticks(range(n), n_keys, rotation='vertical')\n",
    "plt.show()"
   ]
  },
  {
   "cell_type": "markdown",
   "metadata": {},
   "source": [
    "## Group data by season"
   ]
  },
  {
   "cell_type": "code",
   "execution_count": 12,
   "metadata": {},
   "outputs": [
    {
     "name": "stdout",
     "output_type": "stream",
     "text": [
      "summer\n",
      "913359\n"
     ]
    },
    {
     "name": "stderr",
     "output_type": "stream",
     "text": [
      "100%|██████████| 913359/913359 [00:11<00:00, 78393.94it/s] \n"
     ]
    },
    {
     "name": "stdout",
     "output_type": "stream",
     "text": [
      "Number of nan elements: 226663 ( 24.82 %)\n",
      "We have  36954 ( 4.05 %) empty categories.\n",
      "winter\n",
      "663473\n"
     ]
    },
    {
     "name": "stderr",
     "output_type": "stream",
     "text": [
      "100%|██████████| 663473/663473 [00:09<00:00, 71851.66it/s] \n"
     ]
    },
    {
     "name": "stdout",
     "output_type": "stream",
     "text": [
      "Number of nan elements: 124177 ( 18.72 %)\n",
      "We have  25664 ( 3.87 %) empty categories.\n"
     ]
    }
   ],
   "source": [
    "df_by_season = df.groupby('season')\n",
    "\n",
    "categories_season = dict()\n",
    "for name, group in df_by_season:\n",
    "    print(name)\n",
    "    print(len(group))\n",
    "    #print(group.index)\n",
    "    categories_season[name], nan_list = get_categories_counter(group.categories)\n",
    "    print('Number of nan elements:', len(nan_list), '(', np.round(len(nan_list)/len(group)*100, 2),'%)')\n",
    "    print('We have ', categories_season[name][''], '(', np.round(categories_season[name]['']/len(group)*100, 2),'%)' , 'empty categories.')"
   ]
  },
  {
   "cell_type": "markdown",
   "metadata": {},
   "source": [
    "## Delete nan and empty values from dict\n",
    "We don't want these values on charts"
   ]
  },
  {
   "cell_type": "code",
   "execution_count": 14,
   "metadata": {},
   "outputs": [],
   "source": [
    "del(categories_season['winter']['nan'])\n",
    "del(categories_season['summer']['nan'])"
   ]
  },
  {
   "cell_type": "code",
   "execution_count": 15,
   "metadata": {},
   "outputs": [],
   "source": [
    "del(categories_season['winter'][''])\n",
    "del(categories_season['summer'][''])"
   ]
  },
  {
   "cell_type": "markdown",
   "metadata": {},
   "source": [
    "# Plot by season"
   ]
  },
  {
   "cell_type": "code",
   "execution_count": 16,
   "metadata": {},
   "outputs": [],
   "source": [
    "import plotly \n",
    "from plotly import tools\n",
    "import plotly.plotly as py\n",
    "import plotly.graph_objs as go"
   ]
  },
  {
   "cell_type": "code",
   "execution_count": null,
   "metadata": {},
   "outputs": [],
   "source": [
    "with open('plotly_config.txt') as file:\n",
    "    content = file.read()\n",
    "    \n",
    "username, api_key = content.split(';')\n",
    "print('usename:', username, '\\napi_key:', api_key)"
   ]
  },
  {
   "cell_type": "code",
   "execution_count": 18,
   "metadata": {},
   "outputs": [],
   "source": [
    "plotly.tools.set_credentials_file(username=username, api_key=api_key)"
   ]
  },
  {
   "cell_type": "code",
   "execution_count": 19,
   "metadata": {},
   "outputs": [
    {
     "name": "stdout",
     "output_type": "stream",
     "text": [
      "This is the format of your plot grid:\n",
      "[ (1,1) x1,y1 ]\n",
      "[ (2,1) x2,y2 ]\n",
      "\n"
     ]
    },
    {
     "data": {
      "text/html": [
       "<iframe id=\"igraph\" scrolling=\"no\" style=\"border:none;\" seamless=\"seamless\" src=\"https://plot.ly/~pjakimow/10.embed\" height=\"600px\" width=\"800px\"></iframe>"
      ],
      "text/plain": [
       "<plotly.tools.PlotlyDisplay object>"
      ]
     },
     "execution_count": 19,
     "metadata": {},
     "output_type": "execute_result"
    }
   ],
   "source": [
    "# both seasons\n",
    "labels = list(categories_season.keys())\n",
    "\n",
    "sorted_desc = dict(sorted(categories_season[labels[0]].items(), key=operator.itemgetter(1),reverse=True))\n",
    "n_keys = list(sorted_desc.keys())[:n]\n",
    "n_values = [v for k, v in list(sorted_desc.items())[:n]]\n",
    "\n",
    "trace1 = go.Bar(x=n_keys, y=n_values)\n",
    "\n",
    "sorted_desc = dict(sorted(categories_season[labels[1]].items(), key=operator.itemgetter(1),reverse=True))\n",
    "n_keys = list(sorted_desc.keys())[:n]\n",
    "n_values = [v for k, v in list(sorted_desc.items())[:n]]\n",
    "\n",
    "trace2 = go.Bar(x=n_keys, y=n_values)\n",
    "\n",
    "fig = tools.make_subplots(rows=2, cols=1, subplot_titles=(labels[0], labels[1]))\n",
    "\n",
    "fig.append_trace(trace1, 1, 1)\n",
    "fig.append_trace(trace2, 2, 1)\n",
    "\n",
    "fig['layout'].update(height=600, width=800, title='Top ' + str(n) + ' categories')\n",
    "\n",
    "py.iplot(fig, filename='all_cities_both_seasons')"
   ]
  },
  {
   "cell_type": "code",
   "execution_count": 299,
   "metadata": {},
   "outputs": [
    {
     "data": {
      "text/html": [
       "<iframe id=\"igraph\" scrolling=\"no\" style=\"border:none;\" seamless=\"seamless\" src=\"https://plot.ly/~pjakimow/8.embed\" height=\"525px\" width=\"100%\"></iframe>"
      ],
      "text/plain": [
       "<plotly.tools.PlotlyDisplay object>"
      ]
     },
     "execution_count": 299,
     "metadata": {},
     "output_type": "execute_result"
    }
   ],
   "source": [
    "# summer\n",
    "sorted_desc = dict(sorted(categories_season['summer'].items(), key=operator.itemgetter(1),reverse=True))\n",
    "n_keys = list(sorted_desc.keys())[:n]\n",
    "n_values = [v for k, v in list(sorted_desc.items())[:n]]\n",
    "\n",
    "trace = {\n",
    "  'x': n_keys,\n",
    "  'y': n_values,\n",
    "  'name': 'Trace',\n",
    "  'type': 'bar'\n",
    " }\n",
    " \n",
    "data = [trace];\n",
    "layout = {\n",
    "  #'xaxis': {'title': 'categories'},\n",
    "  'yaxis': {'title': 'number of examples'},\n",
    "  'barmode': 'relative',\n",
    "  'title': 'Top '+str(n)+' categories' + '<br> (summer)'\n",
    "};\n",
    "py.iplot({'data': data, 'layout': layout}, filename='all_cities_summer')"
   ]
  },
  {
   "cell_type": "code",
   "execution_count": 300,
   "metadata": {},
   "outputs": [
    {
     "data": {
      "text/html": [
       "<iframe id=\"igraph\" scrolling=\"no\" style=\"border:none;\" seamless=\"seamless\" src=\"https://plot.ly/~pjakimow/6.embed\" height=\"525px\" width=\"100%\"></iframe>"
      ],
      "text/plain": [
       "<plotly.tools.PlotlyDisplay object>"
      ]
     },
     "execution_count": 300,
     "metadata": {},
     "output_type": "execute_result"
    }
   ],
   "source": [
    "# winter\n",
    "sorted_desc = dict(sorted(categories_season['winter'].items(), key=operator.itemgetter(1),reverse=True))\n",
    "n_keys = list(sorted_desc.keys())[:n]\n",
    "n_values = [v for k, v in list(sorted_desc.items())[:n]]\n",
    "\n",
    "trace = {\n",
    "  'x': n_keys,\n",
    "  'y': n_values,\n",
    "  'name': 'Trace',\n",
    "  'type': 'bar'\n",
    " }\n",
    " \n",
    "data = [trace];\n",
    "layout = {\n",
    " # 'xaxis': {'title': 'categories'},\n",
    "  'yaxis': {'title': 'number of examples'},\n",
    "  'barmode': 'relative',\n",
    "  'title': 'Top '+str(n)+' categories' + '<br> (winter)'\n",
    "};\n",
    "py.iplot({'data': data, 'layout': layout}, filename='all_cities_winter')"
   ]
  },
  {
   "cell_type": "markdown",
   "metadata": {},
   "source": [
    "# Group data by city"
   ]
  },
  {
   "cell_type": "code",
   "execution_count": 20,
   "metadata": {
    "scrolled": true
   },
   "outputs": [
    {
     "name": "stdout",
     "output_type": "stream",
     "text": [
      "\n",
      " Berlin\n",
      "369769\n"
     ]
    },
    {
     "name": "stderr",
     "output_type": "stream",
     "text": [
      "100%|██████████| 369769/369769 [00:05<00:00, 65650.57it/s]\n"
     ]
    },
    {
     "name": "stdout",
     "output_type": "stream",
     "text": [
      "Number of nan elements: 0 ( 0.0 %)\n",
      "We have  19849 ( 5.37 %) empty categories.\n",
      "\n",
      " Bremerhaven\n",
      "7394\n"
     ]
    },
    {
     "name": "stderr",
     "output_type": "stream",
     "text": [
      "100%|██████████| 7394/7394 [00:00<00:00, 27324.82it/s]\n"
     ]
    },
    {
     "name": "stdout",
     "output_type": "stream",
     "text": [
      "Number of nan elements: 0 ( 0.0 %)\n",
      "We have  380 ( 5.14 %) empty categories.\n",
      "\n",
      " Darmstadt\n",
      "27743\n"
     ]
    },
    {
     "name": "stderr",
     "output_type": "stream",
     "text": [
      "100%|██████████| 27743/27743 [00:00<00:00, 37585.92it/s]\n"
     ]
    },
    {
     "name": "stdout",
     "output_type": "stream",
     "text": [
      "Number of nan elements: 0 ( 0.0 %)\n",
      "We have  1540 ( 5.55 %) empty categories.\n",
      "\n",
      " Erlangen\n",
      "19104\n"
     ]
    },
    {
     "name": "stderr",
     "output_type": "stream",
     "text": [
      "100%|██████████| 19104/19104 [00:00<00:00, 40809.25it/s]\n"
     ]
    },
    {
     "name": "stdout",
     "output_type": "stream",
     "text": [
      "Number of nan elements: 0 ( 0.0 %)\n",
      "We have  960 ( 5.03 %) empty categories.\n",
      "\n",
      " Frankfurt_Am_Main\n",
      "207472\n"
     ]
    },
    {
     "name": "stderr",
     "output_type": "stream",
     "text": [
      "100%|██████████| 207472/207472 [00:03<00:00, 57822.05it/s]\n"
     ]
    },
    {
     "name": "stdout",
     "output_type": "stream",
     "text": [
      "Number of nan elements: 0 ( 0.0 %)\n",
      "We have  9958 ( 4.8 %) empty categories.\n",
      "\n",
      " Hamburg\n",
      "206573\n"
     ]
    },
    {
     "name": "stderr",
     "output_type": "stream",
     "text": [
      "100%|██████████| 206573/206573 [00:03<00:00, 63883.16it/s]\n"
     ]
    },
    {
     "name": "stdout",
     "output_type": "stream",
     "text": [
      "Number of nan elements: 0 ( 0.0 %)\n",
      "We have  10457 ( 5.06 %) empty categories.\n",
      "\n",
      " Koeln\n",
      "116548\n"
     ]
    },
    {
     "name": "stderr",
     "output_type": "stream",
     "text": [
      "100%|██████████| 116548/116548 [00:01<00:00, 67834.15it/s]\n"
     ]
    },
    {
     "name": "stdout",
     "output_type": "stream",
     "text": [
      "Number of nan elements: 0 ( 0.0 %)\n",
      "We have  5784 ( 4.96 %) empty categories.\n",
      "\n",
      " Munich\n",
      "249118\n"
     ]
    },
    {
     "name": "stderr",
     "output_type": "stream",
     "text": [
      "100%|██████████| 249118/249118 [00:03<00:00, 63296.05it/s]\n"
     ]
    },
    {
     "name": "stdout",
     "output_type": "stream",
     "text": [
      "Number of nan elements: 0 ( 0.0 %)\n",
      "We have  12461 ( 5.0 %) empty categories.\n",
      "\n",
      " Potsdam\n",
      "9586\n"
     ]
    },
    {
     "name": "stderr",
     "output_type": "stream",
     "text": [
      "100%|██████████| 9586/9586 [00:00<00:00, 46315.52it/s]\n"
     ]
    },
    {
     "name": "stdout",
     "output_type": "stream",
     "text": [
      "Number of nan elements: 0 ( 0.0 %)\n",
      "We have  564 ( 5.88 %) empty categories.\n",
      "\n",
      " Siegen\n",
      "12685\n"
     ]
    },
    {
     "name": "stderr",
     "output_type": "stream",
     "text": [
      "100%|██████████| 12685/12685 [00:00<00:00, 49871.77it/s]\n"
     ]
    },
    {
     "name": "stdout",
     "output_type": "stream",
     "text": [
      "Number of nan elements: 0 ( 0.0 %)\n",
      "We have  665 ( 5.24 %) empty categories.\n"
     ]
    }
   ],
   "source": [
    "df_by_city = df.groupby('city')\n",
    "\n",
    "categories_city = dict()\n",
    "for name, group in df_by_city:\n",
    "    print('\\n',name)\n",
    "    print(len(group))\n",
    "\n",
    "    categories_city[name], nan_list = get_categories_counter(group.categories)\n",
    "    print('Number of nan elements:', len(nan_list), '(', np.round(len(nan_list)/len(group)*100, 2),'%)')\n",
    "    print('We have ', categories_city[name][''], '(', np.round(categories_city[name]['']/len(group)*100, 2),'%)' , 'empty categories.')"
   ]
  },
  {
   "cell_type": "markdown",
   "metadata": {},
   "source": [
    "## Delete empty values"
   ]
  },
  {
   "cell_type": "code",
   "execution_count": 21,
   "metadata": {},
   "outputs": [
    {
     "name": "stdout",
     "output_type": "stream",
     "text": [
      "[nan, 'Koeln', 'Siegen', 'Frankfurt_Am_Main', 'Bremerhaven', 'Munich', 'Hamburg', 'Berlin', 'Erlangen', 'Darmstadt']\n"
     ]
    }
   ],
   "source": [
    "cities = list(set(df.city))[1:]\n",
    "print(cities)"
   ]
  },
  {
   "cell_type": "code",
   "execution_count": null,
   "metadata": {},
   "outputs": [],
   "source": [
    "for city in cities:\n",
    "    del(categories_city[city][''])"
   ]
  },
  {
   "cell_type": "markdown",
   "metadata": {},
   "source": [
    "# Plot by city"
   ]
  },
  {
   "cell_type": "code",
   "execution_count": 22,
   "metadata": {},
   "outputs": [],
   "source": [
    "cities_pairs = [('Berlin', 'Potsdam'), ('Koeln', 'Siegen'), ('Frankfurt_Am_Main', 'Darmstadt'), ('Munich', 'Erlangen'), ('Hamburg', 'Bremerhaven')]"
   ]
  },
  {
   "cell_type": "code",
   "execution_count": 23,
   "metadata": {},
   "outputs": [],
   "source": [
    "chosen_city = cities_pairs[0][0]"
   ]
  },
  {
   "cell_type": "code",
   "execution_count": 24,
   "metadata": {},
   "outputs": [
    {
     "data": {
      "text/html": [
       "<iframe id=\"igraph\" scrolling=\"no\" style=\"border:none;\" seamless=\"seamless\" src=\"https://plot.ly/~pjakimow/12.embed\" height=\"525px\" width=\"100%\"></iframe>"
      ],
      "text/plain": [
       "<plotly.tools.PlotlyDisplay object>"
      ]
     },
     "execution_count": 24,
     "metadata": {},
     "output_type": "execute_result"
    }
   ],
   "source": [
    "sorted_desc = dict(sorted(categories_city[chosen_city].items(), key=operator.itemgetter(1),reverse=True))\n",
    "n = 20\n",
    "n_keys = list(sorted_desc.keys())[:n]\n",
    "n_values = [v for k, v in list(sorted_desc.items())[:n]]\n",
    "\n",
    "trace = {\n",
    "  'x': n_keys,\n",
    "  'y': n_values,\n",
    "  'name': 'Trace',\n",
    "  'type': 'bar'\n",
    " }\n",
    " \n",
    "data = [trace];\n",
    "layout = {\n",
    " # 'xaxis': {'title': 'categories'},\n",
    "  'yaxis': {'title': 'number of examples'},\n",
    "  'barmode': 'relative',\n",
    "  'title': 'Top ' + str(n) + ' categories' + '<br> for ' + chosen_city\n",
    "};\n",
    "py.iplot({'data': data, 'layout': layout}, filename='top_categories_one_city')"
   ]
  },
  {
   "cell_type": "markdown",
   "metadata": {},
   "source": [
    "## Plot both cities from pair"
   ]
  },
  {
   "cell_type": "markdown",
   "metadata": {},
   "source": [
    "### Plots in one row"
   ]
  },
  {
   "cell_type": "markdown",
   "metadata": {},
   "source": [
    "pair_number: number of pair\n",
    "\n",
    "n: number of top n categories to show"
   ]
  },
  {
   "cell_type": "code",
   "execution_count": 25,
   "metadata": {},
   "outputs": [],
   "source": [
    "def plot_v1(categories_city, cities_pairs, pair_nr, n):\n",
    "    labels = list(cities_pairs[pair_nr])\n",
    "    sorted_desc = dict(sorted(categories_city[labels[0]].items(), key=operator.itemgetter(1),reverse=True))\n",
    "    n_keys = list(sorted_desc.keys())[:n]\n",
    "    n_values = [v for k, v in list(sorted_desc.items())[:n]]\n",
    "\n",
    "    trace1 = go.Bar(x=n_keys, y=n_values, name=labels[0])\n",
    "\n",
    "    sorted_desc = dict(sorted(categories_city[labels[1]].items(), key=operator.itemgetter(1),reverse=True))\n",
    "    n_keys = list(sorted_desc.keys())[:n]\n",
    "    n_values = [v for k, v in list(sorted_desc.items())[:n]]\n",
    "\n",
    "    trace2 = go.Bar(x=n_keys, y=n_values, name=labels[1])\n",
    "\n",
    "    fig = tools.make_subplots(rows=1, cols=2, subplot_titles=(labels[0], labels[1]))\n",
    "\n",
    "    fig.append_trace(trace1, 1, 1)\n",
    "    fig.append_trace(trace2, 1, 2)\n",
    "\n",
    "    fig['layout'].update(height=500, width=1000, title='Top ' + str(n) + ' categories')\n",
    "    \n",
    "    return fig"
   ]
  },
  {
   "cell_type": "code",
   "execution_count": 26,
   "metadata": {},
   "outputs": [],
   "source": [
    "def plot_v2(categories_city, cities_pairs, pair_nr, n):\n",
    "    labels = list(cities_pairs[pair_nr])\n",
    "    sorted_desc = dict(sorted(categories_city[labels[0]].items(), key=operator.itemgetter(1),reverse=True))\n",
    "    n_keys = list(sorted_desc.keys())[:n]\n",
    "    n_values = [v for k, v in list(sorted_desc.items())[:n]]\n",
    "\n",
    "    trace1 = go.Bar(x=n_keys, y=n_values, name=labels[0])\n",
    "\n",
    "    sorted_desc = dict(sorted(categories_city[labels[1]].items(), key=operator.itemgetter(1),reverse=True))\n",
    "    n_keys = list(sorted_desc.keys())[:n]\n",
    "    n_values = [v for k, v in list(sorted_desc.items())[:n]]\n",
    "\n",
    "    trace2 = go.Bar(x=n_keys, y=n_values, name=labels[1])\n",
    "\n",
    "    layout = go.Layout(\n",
    "        barmode='group',\n",
    "        title='Top ' + str(n) + ' categories',\n",
    "        yaxis=dict(\n",
    "            title='number of examples',\n",
    "            titlefont=dict(\n",
    "                size=14,\n",
    "                color='rgb(107, 107, 107)'\n",
    "            ),\n",
    "            tickfont=dict(\n",
    "                size=12,\n",
    "                color='rgb(107, 107, 107)'\n",
    "            )\n",
    "        ),\n",
    "        legend=dict(\n",
    "            x=1,\n",
    "            y=1.0,\n",
    "            bgcolor='rgba(255, 255, 255, 0)',\n",
    "            bordercolor='rgba(255, 255, 255, 0)'\n",
    "        )\n",
    "    )\n",
    "\n",
    "    fig = go.Figure(data=[trace1, trace2], layout=layout)\n",
    "    \n",
    "    return fig"
   ]
  },
  {
   "cell_type": "code",
   "execution_count": 27,
   "metadata": {},
   "outputs": [],
   "source": [
    "def plot_v3(categories_city, cities_pairs, pair_nr, n):\n",
    "    labels = list(cities_pairs[pair_nr])\n",
    "    sorted_desc = dict(sorted(categories_city[labels[0]].items(), key=operator.itemgetter(1),reverse=True))\n",
    "    n_keys = list(sorted_desc.keys())[:n]\n",
    "    n_values = [v for k, v in list(sorted_desc.items())[:n]]\n",
    "\n",
    "    trace1 = go.Bar(x=n_keys, y=n_values, name=labels[0])\n",
    "\n",
    "    sorted_desc = dict(sorted(categories_city[labels[1]].items(), key=operator.itemgetter(1),reverse=True))\n",
    "    n_keys = list(sorted_desc.keys())[:n]\n",
    "    n_values = [v for k, v in list(sorted_desc.items())[:n]]\n",
    "\n",
    "    trace2 = go.Bar(x=n_keys, y=n_values, name=labels[1])\n",
    "\n",
    "    layout = go.Layout(\n",
    "        barmode='overlay',\n",
    "        height=500,\n",
    "        width=1000,\n",
    "        title='Top ' + str(n) + ' categories',\n",
    "        yaxis=dict(\n",
    "            title='number of examples',\n",
    "            titlefont=dict(\n",
    "                size=14,\n",
    "                color='rgb(107, 107, 107)'\n",
    "            ),\n",
    "            tickfont=dict(\n",
    "                size=12,\n",
    "                color='rgb(107, 107, 107)'\n",
    "            )\n",
    "        ),\n",
    "        legend=dict(\n",
    "            x=1,\n",
    "            y=1.0,\n",
    "            bgcolor='rgba(255, 255, 255, 0)',\n",
    "            bordercolor='rgba(255, 255, 255, 0)'\n",
    "        )\n",
    "    )\n",
    "        \n",
    "    fig = go.Figure(data=[trace1, trace2], layout=layout)\n",
    "\n",
    "    return fig"
   ]
  },
  {
   "cell_type": "code",
   "execution_count": 28,
   "metadata": {},
   "outputs": [
    {
     "data": {
      "text/html": [
       "<iframe id=\"igraph\" scrolling=\"no\" style=\"border:none;\" seamless=\"seamless\" src=\"https://plot.ly/~pjakimow/22.embed\" height=\"500px\" width=\"1000px\"></iframe>"
      ],
      "text/plain": [
       "<plotly.tools.PlotlyDisplay object>"
      ]
     },
     "execution_count": 28,
     "metadata": {},
     "output_type": "execute_result"
    }
   ],
   "source": [
    "fig = plot_v3(categories_city, cities_pairs, pair_nr=0, n=20)\n",
    "py.iplot(fig, filename='top_categories_pair_of_cities_0')"
   ]
  },
  {
   "cell_type": "code",
   "execution_count": 29,
   "metadata": {},
   "outputs": [
    {
     "name": "stdout",
     "output_type": "stream",
     "text": [
      "This is the format of your plot grid:\n",
      "[ (1,1) x1,y1 ]  [ (1,2) x2,y2 ]\n",
      "\n"
     ]
    },
    {
     "data": {
      "text/html": [
       "<iframe id=\"igraph\" scrolling=\"no\" style=\"border:none;\" seamless=\"seamless\" src=\"https://plot.ly/~pjakimow/22.embed\" height=\"500px\" width=\"1000px\"></iframe>"
      ],
      "text/plain": [
       "<plotly.tools.PlotlyDisplay object>"
      ]
     },
     "execution_count": 29,
     "metadata": {},
     "output_type": "execute_result"
    }
   ],
   "source": [
    "fig = plot_v1(categories_city, cities_pairs, pair_nr=0, n=20)\n",
    "py.iplot(fig, filename='top_categories_pair_of_cities_0')"
   ]
  },
  {
   "cell_type": "code",
   "execution_count": 30,
   "metadata": {},
   "outputs": [
    {
     "data": {
      "text/html": [
       "<iframe id=\"igraph\" scrolling=\"no\" style=\"border:none;\" seamless=\"seamless\" src=\"https://plot.ly/~pjakimow/22.embed\" height=\"525px\" width=\"100%\"></iframe>"
      ],
      "text/plain": [
       "<plotly.tools.PlotlyDisplay object>"
      ]
     },
     "execution_count": 30,
     "metadata": {},
     "output_type": "execute_result"
    }
   ],
   "source": [
    "fig = plot_v2(categories_city, cities_pairs, pair_nr=0, n=20)\n",
    "py.iplot(fig, filename='top_categories_pair_of_cities_0')"
   ]
  },
  {
   "cell_type": "code",
   "execution_count": 308,
   "metadata": {},
   "outputs": [
    {
     "name": "stdout",
     "output_type": "stream",
     "text": [
      "This is the format of your plot grid:\n",
      "[ (1,1) x1,y1 ]  [ (1,2) x2,y2 ]\n",
      "\n"
     ]
    },
    {
     "data": {
      "text/html": [
       "<iframe id=\"igraph\" scrolling=\"no\" style=\"border:none;\" seamless=\"seamless\" src=\"https://plot.ly/~pjakimow/20.embed\" height=\"500px\" width=\"1000px\"></iframe>"
      ],
      "text/plain": [
       "<plotly.tools.PlotlyDisplay object>"
      ]
     },
     "execution_count": 308,
     "metadata": {},
     "output_type": "execute_result"
    }
   ],
   "source": [
    "fig = plot_v1(categories_city, cities_pairs, pair_nr=1, n=20)\n",
    "py.iplot(fig, filename='top_categories_pair_of_cities_1')"
   ]
  },
  {
   "cell_type": "code",
   "execution_count": 309,
   "metadata": {},
   "outputs": [
    {
     "name": "stdout",
     "output_type": "stream",
     "text": [
      "This is the format of your plot grid:\n",
      "[ (1,1) x1,y1 ]  [ (1,2) x2,y2 ]\n",
      "\n"
     ]
    },
    {
     "data": {
      "text/html": [
       "<iframe id=\"igraph\" scrolling=\"no\" style=\"border:none;\" seamless=\"seamless\" src=\"https://plot.ly/~pjakimow/18.embed\" height=\"500px\" width=\"1000px\"></iframe>"
      ],
      "text/plain": [
       "<plotly.tools.PlotlyDisplay object>"
      ]
     },
     "execution_count": 309,
     "metadata": {},
     "output_type": "execute_result"
    }
   ],
   "source": [
    "fig = plot_v1(categories_city, cities_pairs, pair_nr=2, n=20)\n",
    "py.iplot(fig, filename='top_categories_pair_of_cities_2')"
   ]
  },
  {
   "cell_type": "code",
   "execution_count": 310,
   "metadata": {},
   "outputs": [
    {
     "name": "stdout",
     "output_type": "stream",
     "text": [
      "This is the format of your plot grid:\n",
      "[ (1,1) x1,y1 ]  [ (1,2) x2,y2 ]\n",
      "\n"
     ]
    },
    {
     "data": {
      "text/html": [
       "<iframe id=\"igraph\" scrolling=\"no\" style=\"border:none;\" seamless=\"seamless\" src=\"https://plot.ly/~pjakimow/16.embed\" height=\"500px\" width=\"1000px\"></iframe>"
      ],
      "text/plain": [
       "<plotly.tools.PlotlyDisplay object>"
      ]
     },
     "execution_count": 310,
     "metadata": {},
     "output_type": "execute_result"
    }
   ],
   "source": [
    "fig = plot_v1(categories_city, cities_pairs, pair_nr=3, n=20)\n",
    "py.iplot(fig, filename='top_categories_pair_of_cities_3')"
   ]
  },
  {
   "cell_type": "code",
   "execution_count": 311,
   "metadata": {},
   "outputs": [
    {
     "name": "stdout",
     "output_type": "stream",
     "text": [
      "This is the format of your plot grid:\n",
      "[ (1,1) x1,y1 ]  [ (1,2) x2,y2 ]\n",
      "\n"
     ]
    },
    {
     "data": {
      "text/html": [
       "<iframe id=\"igraph\" scrolling=\"no\" style=\"border:none;\" seamless=\"seamless\" src=\"https://plot.ly/~pjakimow/24.embed\" height=\"500px\" width=\"1000px\"></iframe>"
      ],
      "text/plain": [
       "<plotly.tools.PlotlyDisplay object>"
      ]
     },
     "execution_count": 311,
     "metadata": {},
     "output_type": "execute_result"
    }
   ],
   "source": [
    "fig = plot_v1(categories_city, cities_pairs, pair_nr=4, n=20)\n",
    "py.iplot(fig, filename='top_categories_pair_of_cities_4')"
   ]
  },
  {
   "cell_type": "markdown",
   "metadata": {},
   "source": [
    "### Plots in one column"
   ]
  },
  {
   "cell_type": "code",
   "execution_count": 31,
   "metadata": {
    "scrolled": false
   },
   "outputs": [
    {
     "name": "stdout",
     "output_type": "stream",
     "text": [
      "This is the format of your plot grid:\n",
      "[ (1,1) x1,y1 ]\n",
      "[ (2,1) x2,y2 ]\n",
      "\n"
     ]
    },
    {
     "data": {
      "text/html": [
       "<iframe id=\"igraph\" scrolling=\"no\" style=\"border:none;\" seamless=\"seamless\" src=\"https://plot.ly/~pjakimow/14.embed\" height=\"600px\" width=\"600px\"></iframe>"
      ],
      "text/plain": [
       "<plotly.tools.PlotlyDisplay object>"
      ]
     },
     "execution_count": 31,
     "metadata": {},
     "output_type": "execute_result"
    }
   ],
   "source": [
    "pair_nr = 0\n",
    "n = 20\n",
    "\n",
    "labels = list(cities_pairs[pair_nr])\n",
    "sorted_desc = dict(sorted(categories_city[labels[0]].items(), key=operator.itemgetter(1),reverse=True))\n",
    "n_keys = list(sorted_desc.keys())[:n]\n",
    "n_values = [v for k, v in list(sorted_desc.items())[:n]]\n",
    "\n",
    "trace1 = go.Bar(x=n_keys, y=n_values)\n",
    "\n",
    "sorted_desc = dict(sorted(categories_city[labels[1]].items(), key=operator.itemgetter(1),reverse=True))\n",
    "n_keys = list(sorted_desc.keys())[:n]\n",
    "n_values = [v for k, v in list(sorted_desc.items())[:n]]\n",
    "\n",
    "trace2 = go.Bar(x=n_keys, y=n_values)\n",
    "\n",
    "fig = tools.make_subplots(rows=2, cols=1, subplot_titles=(labels[0], labels[1]))\n",
    "\n",
    "fig.append_trace(trace1, 1, 1)\n",
    "fig.append_trace(trace2, 2, 1)\n",
    "\n",
    "fig['layout'].update(height=600, width=600, title='Top ' + str(n) + ' categories')\n",
    "\n",
    "py.iplot(fig, filename='top_categories_pair_of_cities')"
   ]
  },
  {
   "cell_type": "markdown",
   "metadata": {},
   "source": [
    "# Find unique categories"
   ]
  },
  {
   "cell_type": "code",
   "execution_count": 32,
   "metadata": {},
   "outputs": [],
   "source": [
    "def get_categories(categories_column):\n",
    "    \n",
    "    import math\n",
    "    from tqdm import tqdm\n",
    "    \n",
    "    result = dict()\n",
    "    i = 0\n",
    "    with tqdm(total=len(categories_column)) as pbar:\n",
    "        for categories in categories_column:\n",
    "            i += 1\n",
    "            if (type(categories)) == str:\n",
    "                categories = categories.replace('[','').replace(']','').replace(\"'\",\"\").replace(', ',',').lower()\n",
    "\n",
    "                for category in categories.split(','):\n",
    "                    if result.get(category) != None:\n",
    "                        result[category] += 1\n",
    "                    else:\n",
    "                        result[category] = 1\n",
    "            else:\n",
    "                if result.get('nan') != None:\n",
    "                    result['nan'] += 1\n",
    "                else:\n",
    "                    result['nan'] = 1\n",
    "            \n",
    "            pbar.update(1)\n",
    "           \n",
    "    return result"
   ]
  },
  {
   "cell_type": "code",
   "execution_count": 33,
   "metadata": {},
   "outputs": [
    {
     "name": "stderr",
     "output_type": "stream",
     "text": [
      "100%|██████████| 1576832/1576832 [00:18<00:00, 87402.83it/s] \n"
     ]
    }
   ],
   "source": [
    "c = get_categories(df.categories)"
   ]
  },
  {
   "cell_type": "code",
   "execution_count": 34,
   "metadata": {},
   "outputs": [],
   "source": [
    "sorted_desc = dict(sorted(c.items(), key=operator.itemgetter(1),reverse=True))"
   ]
  },
  {
   "cell_type": "code",
   "execution_count": 35,
   "metadata": {},
   "outputs": [
    {
     "data": {
      "text/plain": [
       "{'ohne weizen': 1095555,\n",
       " 'glutenfrei': 651479,\n",
       " 'laktosefrei': 468793,\n",
       " 'nan': 350840,\n",
       " 'hauptspeise': 336356,\n",
       " 'schnell & einfach': 335893,\n",
       " 'mittagstisch': 266412,\n",
       " 'preiswerte': 235826,\n",
       " 'abendessen': 222823,\n",
       " 'milchprodukte': 186127,\n",
       " 'sommer': 180737,\n",
       " 'party': 175749,\n",
       " 'fleisch': 164771,\n",
       " 'kaffee & kuchen': 160505,\n",
       " 'europa': 159743,\n",
       " 'kuchen/torte': 155204,\n",
       " 'vegetarisch': 145357,\n",
       " 'dessert': 132700,\n",
       " 'herbst': 127352,\n",
       " 'fruehling': 126766,\n",
       " 'winter': 120675,\n",
       " 'vorspeise': 116249,\n",
       " 'zwischengericht': 107096,\n",
       " 'gesund und diaet': 106406,\n",
       " 'grillfest': 103040,\n",
       " 'zwischenmahlzeit': 100580,\n",
       " 'salate': 97603,\n",
       " 'kindergeburtstag': 87806,\n",
       " 'picknick': 86118,\n",
       " 'suppen/eintoepfe': 81304,\n",
       " 'date': 78798,\n",
       " 'auflauf /ueberbackenes': 74373,\n",
       " 'festlich': 72086,\n",
       " 'braten (fleisch)': 69179,\n",
       " 'resteverwertung': 67999,\n",
       " 'beilagen': 66693,\n",
       " 'kindergerichte': 65377,\n",
       " '': 62618,\n",
       " 'kalt': 60238,\n",
       " 'studentenkueche': 58965,\n",
       " 'fingerfood/snack': 57607,\n",
       " 'weihnachten': 55875,\n",
       " 'fruehstueck': 55213,\n",
       " 'fingerfood': 54632,\n",
       " 'mit alkohol': 53919,\n",
       " 'grillen': 53200,\n",
       " 'nudeln/pasta': 51079,\n",
       " 'dips/cremes/saucen': 50483,\n",
       " 'ostern': 47146,\n",
       " 'fisch': 46762,\n",
       " 'italien': 45949,\n",
       " 'hochzeit': 42304,\n",
       " 'asien': 41680,\n",
       " 'eingemachtes': 39832,\n",
       " 'taufe': 38777,\n",
       " 'backen': 37837,\n",
       " 'exotische kueche': 36160,\n",
       " 'konfekt/suessware': 33881,\n",
       " 'karneval/fasching': 30431,\n",
       " 'barbecue': 30224,\n",
       " 'braten': 29100,\n",
       " 'brot': 28992,\n",
       " 'pikante kuchen/pizza': 27630,\n",
       " 'eisspeise/halbgefrorenes': 26800,\n",
       " 'amerika': 25476,\n",
       " 'cross-cooking': 24800,\n",
       " 'camping': 24127,\n",
       " 'pfannkuchen/crepe': 23816,\n",
       " 'kochen': 23719,\n",
       " 'alkoholische getraenke': 22550,\n",
       " 'pfannengerichte': 21894,\n",
       " 'bayerische kueche': 19163,\n",
       " 'fettarm': 19130,\n",
       " 'halloween': 18722,\n",
       " 'fastfood': 16438,\n",
       " 'norddeutsche kueche': 14674,\n",
       " 'kalorienarm': 14372,\n",
       " 'plaetzchen/kekse': 13762,\n",
       " 'tuerkei (europ.)': 12616,\n",
       " 'vegan': 11645,\n",
       " 'buffets/dekorationen': 11190,\n",
       " 'diabetiker': 10666,\n",
       " 'kohlenhydratarm': 10356,\n",
       " 'wuerzmittel/marinade ': 10184,\n",
       " 'griechenland': 10100,\n",
       " 'frankreich': 9686,\n",
       " 'alkoholfreie getraenke': 9503,\n",
       " 'spanien': 9447,\n",
       " 'mexiko': 9120,\n",
       " 'orient': 8663,\n",
       " 'sandwiches/brote': 8658,\n",
       " 'marinieren': 8440,\n",
       " 'indien': 8274,\n",
       " 'berliner kueche': 8214,\n",
       " 'westfaelische kueche': 7936,\n",
       " 'china': 7759,\n",
       " 'schwaebische kueche': 7165,\n",
       " 'oesterreich': 6999,\n",
       " 'schmoren': 6912,\n",
       " 'rheinische kueche': 6652,\n",
       " 'thailand': 6514,\n",
       " 'afrika': 6385,\n",
       " 'badische kueche ': 6240,\n",
       " 'warm': 5763,\n",
       " 'russland': 5191,\n",
       " 'menue': 4856,\n",
       " 'thueringer kueche': 4549,\n",
       " 'fraenkische kueche ': 4536,\n",
       " 'saechsische kueche': 4526,\n",
       " 'duensten': 4263,\n",
       " 'ohne ei': 3884,\n",
       " 'hamburger kueche': 3796,\n",
       " 'ungarn': 3708,\n",
       " 'pfannenruehren': 3642,\n",
       " 'arabische kueche': 3618,\n",
       " 'dosengericht': 3458,\n",
       " 'low fat ??': 3357,\n",
       " 'schweiz': 3239,\n",
       " 'weihnachtsgebaeck': 3095,\n",
       " 'trennkost': 3058,\n",
       " 'deutschland': 2963,\n",
       " 'hessische kueche': 2520,\n",
       " 'eiweissreich': 2396,\n",
       " 'frittieren': 2339,\n",
       " 'pfaelzische kueche': 2291,\n",
       " 'vollwert': 2237,\n",
       " 'schweden': 2162,\n",
       " 'schlesische kueche ': 2052,\n",
       " 'japan': 2038,\n",
       " 'karibik': 1991,\n",
       " 'libanon': 1985,\n",
       " 'mikrowellenessen': 1926,\n",
       " 'babynahrung': 1921,\n",
       " 'weihnachtsdessert': 1862,\n",
       " 'raeuchern': 1805,\n",
       " 'trocknen': 1786,\n",
       " 'marokko': 1730,\n",
       " 'grossbritannien': 1601,\n",
       " 'polen': 1564,\n",
       " 'portugal': 1537,\n",
       " 'lateinamerika': 1469,\n",
       " 'elsaessische kueche ': 1462,\n",
       " 'menue-kategorien': 1380,\n",
       " 'saarlaendische kueche ': 1346,\n",
       " 'daenemark': 1335,\n",
       " 'roesten': 1114,\n",
       " 'daempfen': 1012,\n",
       " 'korea': 1008,\n",
       " 'vietnam': 965,\n",
       " 'mecklenburgische kueche': 965,\n",
       " 'serbien': 940,\n",
       " 'allgaeuer kueche': 795,\n",
       " 'bosnien / herzegowina': 731,\n",
       " 'ostfriesische kueche': 723,\n",
       " 'nordamerika': 723,\n",
       " 'rumaenien': 712,\n",
       " 'kroatien': 708,\n",
       " 'brandenburger kueche': 690,\n",
       " 'australien': 672,\n",
       " 'tunesien': 657,\n",
       " 'beizen': 656,\n",
       " 'spezielles': 630,\n",
       " 'brasilien': 624,\n",
       " 'allergien und unvertraeglichkeiten': 584,\n",
       " 'poekeln': 553,\n",
       " 'anlaesse': 544,\n",
       " 'ohne milch': 529,\n",
       " 'aegypten': 523,\n",
       " 'belgien': 511,\n",
       " 'suedafrika': 494,\n",
       " 'argentinien': 491,\n",
       " 'baltikum': 478,\n",
       " 'indonesien': 477,\n",
       " 'cholesterinarm': 468,\n",
       " 'flambieren': 453,\n",
       " 'international': 451,\n",
       " 'pochieren': 446,\n",
       " 'kanada': 441,\n",
       " 'syrien': 424,\n",
       " 'irland': 380,\n",
       " 'ayurveda': 375,\n",
       " 'bulgarien': 365,\n",
       " 'blanchieren': 361,\n",
       " 'bremer kueche': 348,\n",
       " 'kuba': 344,\n",
       " 'afghanistan': 338,\n",
       " 'norwegen': 322,\n",
       " 'albanien': 319,\n",
       " 'gerichtekategorie': 319,\n",
       " 'ohne soja': 294,\n",
       " 'israel': 267,\n",
       " 'iran': 251,\n",
       " 'histaminarm': 248,\n",
       " 'finnland': 238,\n",
       " 'ballaststoffreich': 229,\n",
       " 'ghana': 194,\n",
       " 'gefluegel': 192,\n",
       " 'island': 184,\n",
       " 'niedersaechsische kueche': 178,\n",
       " 'peru': 170,\n",
       " 'suedamerika': 169,\n",
       " 'ukraine': 168,\n",
       " 'malta': 166,\n",
       " 'tschechische republik': 162,\n",
       " 'algerien': 148,\n",
       " 'aethiopien': 146,\n",
       " 'kongo': 126,\n",
       " 'mazedonien': 125,\n",
       " 'nigeria': 123,\n",
       " 'jamaika': 122,\n",
       " 'senegal': 118,\n",
       " 'philippinen': 117,\n",
       " 'wild': 111,\n",
       " 'kenia': 106,\n",
       " 'neuseeland': 106,\n",
       " 'regionale kueche': 101,\n",
       " 'fructosearm': 94,\n",
       " 'chile': 86,\n",
       " 'gemuese': 77,\n",
       " 'dominikanische repubilik': 73,\n",
       " 'litauen': 72,\n",
       " 'slowenien': 66,\n",
       " 'georgien': 65,\n",
       " 'eritrea': 56,\n",
       " 'kolumbien': 52,\n",
       " 'niederlande': 49,\n",
       " 'malaysia': 49,\n",
       " 'mongolei': 45,\n",
       " 'luxemburg': 45,\n",
       " 'roh': 44,\n",
       " 'pakistan': 42,\n",
       " 'jemen': 36,\n",
       " 'sauerlaender kueche': 35,\n",
       " 'jordanien': 33,\n",
       " 'namibia': 28,\n",
       " 'moldawien': 20,\n",
       " 'schinken rezepte': 20,\n",
       " 'bolivien': 16,\n",
       " 'irak': 15,\n",
       " 'sahne rezepte': 14,\n",
       " 'muffins rezepte': 14,\n",
       " 'somalia': 13,\n",
       " 'fresh-coctai': 13,\n",
       " 'fruchtiger obstsalat': 13,\n",
       " 'sauerkraut': 13,\n",
       " 'frische austern': 13,\n",
       " 'brunnen aus gurke': 13,\n",
       " 'feldsalat mit radiccio': 13,\n",
       " 'gewuerz kraeutersalz mit baerlauch': 13,\n",
       " 'green-yellow-red smoothie oder jamaica smoothie': 13,\n",
       " 'spaghetti rezepte': 13,\n",
       " 'libyen': 13,\n",
       " 'armenien': 12,\n",
       " 'falsche kokosmilch': 12,\n",
       " 'kokosmilch-selbstgemacht': 12,\n",
       " 'und': 12,\n",
       " 'wildschweingulasch': 12,\n",
       " 'der besondere latte macchiato': 11,\n",
       " 'warme honigmilch': 11,\n",
       " 'danes spezial - komplett geleerte marmeladenglaeser ggg': 11,\n",
       " 'milcheis ganz einfach': 11,\n",
       " 'kinder-kakao': 11,\n",
       " 'ecuador': 11,\n",
       " 'kaese rezepte': 11,\n",
       " 'torte rezepte': 11,\n",
       " 'braune butter': 11,\n",
       " 'mousse au chocolat': 11,\n",
       " 'croustades': 9,\n",
       " 'bauernschnitte mit zwiebeln': 9,\n",
       " 'lakritz- ingwer - gesoeff ?': 9,\n",
       " 'spinat rezepte': 9,\n",
       " 'gefuellte rezepte': 9,\n",
       " 'roellchen rezepte': 9,\n",
       " 'geklaerte butter': 9,\n",
       " 'nudelauflauf rezepte': 9,\n",
       " 'pikante kuchen blaetterteig mit nusskaese und salami': 8,\n",
       " 'gegart': 8,\n",
       " 'blaetterteig rezepte': 8,\n",
       " 'marzipankartoffeln': 8,\n",
       " 'kaesekuchen rezepte': 8,\n",
       " 'dessert erdbeerschichtdessert': 7,\n",
       " 'getraenke': 7,\n",
       " 'quiche rezepte': 7,\n",
       " 'ganache in ? variationen': 7,\n",
       " 'knobi-joghurt': 7,\n",
       " 'knoepflesuppe': 7,\n",
       " 'salate couscoussalat der zweite': 7,\n",
       " 'djuvec keine sternen vergeben bitte': 7,\n",
       " 'schoko - crossies': 7,\n",
       " 'spinatspaetzle rezepte': 7,\n",
       " 'muffins': 7,\n",
       " 'malediven': 7,\n",
       " 'mozartkugeln': 7,\n",
       " 'sirup - karamellsirup': 7,\n",
       " 'zubereitungsmethode': 7,\n",
       " 'schafskaese rezepte': 7,\n",
       " 'pilzen rezepte': 7,\n",
       " 'burgerbroetchen rezepte': 6,\n",
       " 'fitnessfood kilokick': 6,\n",
       " 'erdbeerlimes - ww rezept': 6,\n",
       " 'alles in butter ?': 6,\n",
       " 'apfel-zimt-sirup': 6,\n",
       " 'birnen-feigen-carpaccio mit edelpilzkaese': 6,\n",
       " 'orangensalat mit chili und vanille': 6,\n",
       " 'ziegenkaesetaler': 6,\n",
       " 'biggis mohn-kaese-kuchen': 6,\n",
       " 'mann war ich schnell': 6,\n",
       " 'geburtstag- buchstabenkekse fuer leni': 6,\n",
       " 'pasta rezepte': 6,\n",
       " 'sauerteig': 6,\n",
       " 'lettland': 6,\n",
       " 'braune butter nussbutter': 6,\n",
       " 'butter - lamm': 6,\n",
       " 'braune butter - geeh': 6,\n",
       " 'ghee oder geklaerte butter': 6,\n",
       " 'kraeuter rezepte': 6,\n",
       " 'lachs rezepte': 6,\n",
       " 'quark rezepte': 6,\n",
       " 'grundrezept karamell': 6,\n",
       " 'milchhonig': 6,\n",
       " 'vanillezucker selbst gemacht': 6,\n",
       " 'getraenk beeren und kernobst-saft bzw sirup selber herstellen': 6,\n",
       " 'butter-nut kuerbiskompott': 6,\n",
       " 'karamellisierte zitronen': 6,\n",
       " 'laeuterzucker fuer cocktails und': 6,\n",
       " 'schoko rezepte': 6,\n",
       " 'bisquit-fruechtetorte': 6,\n",
       " 'selbstgemachter rezepte': 6,\n",
       " 'schokoladenpudding rezepte': 6,\n",
       " 'aufs brot frischkaese mit baerlauchpesto': 6,\n",
       " 'vorbereitung cocktailtomaten gefuellt mit frischkaese': 6,\n",
       " 'sisserls suesser fruehstueckskaese': 6,\n",
       " 'sisserls - fruestueckskaes': 6,\n",
       " 'kuerbiskerncreme': 6,\n",
       " 'nuri aufstrich': 6,\n",
       " 'lachsaufstrich': 6,\n",
       " 'knoedel rezepte': 6,\n",
       " 'slowakei': 6,\n",
       " 'bei ??': 6,\n",
       " '? grad im schatten': 6,\n",
       " 'karamell - milch': 5,\n",
       " 'haehnchenfluegel mit pommeskartoffeln': 5,\n",
       " 'crema volteada': 5,\n",
       " 'gulaschnudeln': 5,\n",
       " 'suppe zwiebelnudeln fuer eilige': 5,\n",
       " 'wilde wiener': 5,\n",
       " 'fenchel rezepte': 5,\n",
       " 'gefuellte eier mit mayonaise': 5,\n",
       " 'thunfisch rezepte': 5,\n",
       " 'feta rezepte': 5,\n",
       " 'ravioli rezepte': 5,\n",
       " 'cottbusser postkutscherfruehstueck': 5,\n",
       " 'forelle geraeuchert': 5,\n",
       " 'lachscreme auf cracker': 5,\n",
       " 'schweinebratenscheiben gefuellt': 5,\n",
       " 'rote beete blitzsalat': 5,\n",
       " 'monis fleischsalat': 5,\n",
       " 'fruchtiger moehrensalat': 5,\n",
       " 'abgefaelschter tafelspitz': 5,\n",
       " 'sosse rezepte': 5,\n",
       " 'spargel rezepte': 5,\n",
       " 'lachssosse rezepte': 5,\n",
       " 'eistorte rezepte': 5,\n",
       " 'apfelkuchen rezepte': 5,\n",
       " 'glueckskekse rezepte': 5,\n",
       " 'amaretti-makronen': 5,\n",
       " 'amaretti': 5,\n",
       " 'angesetzter - bananenlikoer': 5,\n",
       " 'makronen': 5,\n",
       " 'marillenkompott': 5,\n",
       " 'kokosmakronen extra zart': 5,\n",
       " 'und noch ein gelee': 5,\n",
       " 'sambuca rezepte': 5,\n",
       " 'kaffee rezepte': 5,\n",
       " 'negerkusskuchen': 5,\n",
       " 'mohrenkopf - torte': 5,\n",
       " 'schnelle eiskaffee torteletts': 5,\n",
       " 'flotte erdbeertorte': 5,\n",
       " 'schoko-sahne-torte': 5,\n",
       " 'kuppeltorte mit walderdbeersahne': 5,\n",
       " 'budding nonna rita': 5,\n",
       " 'aufstrich rezepte': 5,\n",
       " 'sauce rezepte': 5,\n",
       " 'tomaten rezepte': 5,\n",
       " 'sahne': 5,\n",
       " 'waffeln rezepte': 4,\n",
       " 'schnelle vanillesosse': 4,\n",
       " 'wuerstchen rezepte': 4,\n",
       " 'schlafrock rezepte': 4,\n",
       " 'pizzabrot deluxe': 4,\n",
       " 'brownies rezepte': 4,\n",
       " 'putensteak rezepte': 4,\n",
       " 'butterkaesekruste rezepte': 4,\n",
       " 'erdnussosse rezepte': 4,\n",
       " 'pommesgewuerz': 4,\n",
       " 'kuerbis - nuggets': 4,\n",
       " 'gemuesepfanne': 4,\n",
       " 'radieschensalat ala kukuluru': 4,\n",
       " 'geschenk kraeutersenf a la gudrun': 4,\n",
       " 'keks co dreierlei cookies': 4,\n",
       " 'ei im speckmantel': 4,\n",
       " 'nougat-parfait': 4,\n",
       " 'rucola rezepte': 4,\n",
       " 'consomme mit kaeseschoeberl': 4,\n",
       " 'gaby-s allgaeuer kaesehoernle': 4,\n",
       " 'allgaeuer kaesspatzen': 4,\n",
       " 'eigepackte wiener': 4,\n",
       " 'beilage roter reis': 4,\n",
       " 'bbq vom wagyu graupenrisotto spargel lucki maurer': 4,\n",
       " 'schwaebische kaesspaetzle': 4,\n",
       " 'hirschcarpaccio mit petersilienpesto an salat und bergkaeseplaettchen': 4,\n",
       " 'kraeuterflaedle rezepte': 4,\n",
       " 'erdbeersauce': 4,\n",
       " 'vanillekipferl': 4,\n",
       " 'quarkauflauf': 4,\n",
       " 'pfefferminz rezepte': 4,\n",
       " 'grundrezept ganache': 4,\n",
       " 'schokonussbruch': 4,\n",
       " 'schokocups mit vollmich und weisser kuvertuere': 4,\n",
       " 'weiches karamel mit schokoueberzug': 4,\n",
       " 'eierlikoerpralinen - tricolore': 4,\n",
       " 'orangentrueffel': 4,\n",
       " 'schoko crossis ': 4,\n",
       " 'crossis': 4,\n",
       " 'choco crossies': 4,\n",
       " 'porree rezepte': 4,\n",
       " 'mojito': 4,\n",
       " 'bierbrot': 4,\n",
       " 'lasagne rezepte': 4,\n",
       " 'pressknoedel rezepte': 4,\n",
       " 'kaesewuerstchen im speckmantel': 4,\n",
       " 'nudel pangasius salat': 4,\n",
       " 'panierte gefuellte straussensteak': 4,\n",
       " 'kartoffelquiche': 4,\n",
       " 'grilltomate': 4,\n",
       " 'tapa de aceitunas y anchoas': 4,\n",
       " 'pikantes gebaeck kartoffel-strudel': 4,\n",
       " 'spaetzli - spinatspaetzli knoepfli': 4,\n",
       " 'tortellini rezepte': 4,\n",
       " 'salat mit steakstreifen': 4,\n",
       " 'brownie rezepte': 4,\n",
       " 'weichgekochte eier': 4,\n",
       " 'minzcreme': 4,\n",
       " 'getraenk schoko-eis-drink': 4,\n",
       " 'spezialeis erdbeer-schoko nach pueckler-art': 4,\n",
       " 'schneefloeckchen weissroeckchen - zwieback': 4,\n",
       " 'pudding': 4,\n",
       " 'gebratenes mus mit selbst gemachtem eis': 4,\n",
       " 'eis nutella sahne eiscreme': 4,\n",
       " 'meeresfruechte -ehrliche garnelen': 4,\n",
       " 'selbstgemachte tagliatelle': 4,\n",
       " 'selbstgemachte nudeln': 4,\n",
       " 'marienkaefer muffins': 4,\n",
       " 'mehlbutter': 4,\n",
       " 'nudelteig fuer': 4,\n",
       " 'spaetzle': 4,\n",
       " 'backen blaetterteig - grundrezept': 4,\n",
       " 'kleine gluecksschweinchen': 4,\n",
       " 'wildschweingulasch rezepte': 4,\n",
       " 'galliano hotshot': 4,\n",
       " 'champagnercocktail': 4,\n",
       " 'haselnusskuchen mit zitrone-gurke-minze-creme annie hoffmann': 4,\n",
       " 'geeister kaiserschmarrn mit beschwipsten zwetschgen und heissem hirschkuss mit schlag': 4,\n",
       " 'gambas auf fruehlingssalaten': 4,\n",
       " 'nudeln rezepte': 4,\n",
       " 'kokosbusserl': 4,\n",
       " 'suesser rezepte': 4,\n",
       " 'likoer rum-rosine': 3,\n",
       " 'cocktail saure milch': 3,\n",
       " 'brotaufstrich - jostamarmelade': 3,\n",
       " 'heisser rumtopf': 3,\n",
       " 'rosinenhaeufchen': 3,\n",
       " 'robinson cruso': 3,\n",
       " 'heisse rum-schokolade': 3,\n",
       " 'hausgemachte schokoladensauce': 3,\n",
       " 'sisserls - stracciatella becher': 3,\n",
       " 'sisserls - paniermehl selbst gemacht': 3,\n",
       " 'zucchini rezepte': 3,\n",
       " 'baerlauchbratwurst': 3,\n",
       " 'spaghettibarbecuesosse': 3,\n",
       " 'geeistes erbsensueppchen mit bild und raupi': 3,\n",
       " 'scampi ricardo raul richter': 3,\n",
       " 'pfifferlingragout mit semmelknoedel': 3,\n",
       " 'pot-au-feu von edelfischen': 3,\n",
       " 'biggis gemuesebeilagen mungosprossen mit mango und chilifaeden': 3,\n",
       " 'pizzakatzes kalbsbraten im bratschlauch': 3,\n",
       " 'huehnersuppe': 3,\n",
       " 'marmorkuchen rezepte': 3,\n",
       " 'brotteig rezepte': 3,\n",
       " 'blumentopf rezepte': 3,\n",
       " 'roggensauerteig': 3,\n",
       " 'sonstiges sauerteig aus roggen': 3,\n",
       " 'sauerteig grundrezept': 3,\n",
       " 'vollkorn-weihnachtsplaetzchen': 3,\n",
       " '?-korn mischung': 3,\n",
       " 'dinkelvollkornbrot mit sauerteig': 3,\n",
       " 'gedrehte stangenbrote': 3,\n",
       " 'fruehstueck in holland': 3,\n",
       " 'snack am abend': 3,\n",
       " 'semmelbroesel paniermehl': 3,\n",
       " 'erdbeer - butter': 3,\n",
       " 'haehnchenbrust rezepte': 3,\n",
       " 'ueberbackene minutensteaks': 3,\n",
       " 'lauch-creme-gemuese': 3,\n",
       " 'sushi-gurken mit fliegenpilz': 3,\n",
       " 'kaese-lauch-pfanne': 3,\n",
       " 'putenbraten': 3,\n",
       " 'fisch - die muntere forelle': 3,\n",
       " 'kochkaeseschnitzel nach kurpfaelzer art': 3,\n",
       " 'schweinemedaillons an kochkaesesauce': 3,\n",
       " 'basilikum rezepte': 3,\n",
       " 'reis': 3,\n",
       " 'kartoffel-speck-knoedel': 3,\n",
       " 'spiessrutenauflauf an kleinen gemeinheiten der saison': 3,\n",
       " 'flap jack': 3,\n",
       " 'mirabellen- zwetschgenknoedel auf die faule art und weise': 3,\n",
       " 'kuerbis kloesschen': 3,\n",
       " 'knoedel mit speck': 3,\n",
       " 'gefuellte knoedel': 3,\n",
       " 'amarettorosinen rezepte': 3,\n",
       " 'aprikosen - schmandkuchen': 3,\n",
       " 'joghurt-quark mit fruechten': 3,\n",
       " 'spritzgebaeck': 3,\n",
       " 'koenigskuchen': 3,\n",
       " 'hackbaellchen rezepte': 3,\n",
       " 'sahnesosse rezepte': 3,\n",
       " 'rotkohl': 3,\n",
       " 'kuerbis-chutney': 3,\n",
       " 'haehnchenroulade': 3,\n",
       " 'kuerbiscremesuppe': 3,\n",
       " 'spinat - pizza': 3,\n",
       " 'kuchen - schwarzwaelder-kirsch-torte nach danes art': 3,\n",
       " 'rosenkuchen mit kirschen': 3,\n",
       " 'speckbrot': 3,\n",
       " 'buttermilch rezepte': 3,\n",
       " 'scones rezepte': 3,\n",
       " 'selbstgemachte rezepte': 3,\n",
       " 'burger rezepte': 3,\n",
       " 'aegyptische gewuerzmischung dukkah': 3,\n",
       " 'raita mit gurke': 3,\n",
       " 'tomate und minze': 3,\n",
       " 'grillmarinade orientalisch': 3,\n",
       " 'schweineruecken aus dem schmortopf auf indische art': 3,\n",
       " 'tex-mex gewuerzmischung': 3,\n",
       " 'gewuerzmischung - garam masala': 3,\n",
       " 'merguez': 3,\n",
       " 'garam masala': 3,\n",
       " 'hack rezepte': 3,\n",
       " 'adventskalender ?? tag nusswoelckchen': 3,\n",
       " 'reicher rezepte': 3,\n",
       " 'kaffee-likoer': 3,\n",
       " 'schluesselblumenwein aus babsis bauerngarten': 3,\n",
       " 'spare ribs auf chinesische art': 3,\n",
       " 'miesmuscheln': 3,\n",
       " 'eierpunsch': 3,\n",
       " 'bowle': 3,\n",
       " 'rosa gebratenes rinderfilet an glasierten tamarillos': 3,\n",
       " 'mais-suppe mit hack': 3,\n",
       " 'marzipangebaeck rezepte': 3,\n",
       " 'nougatpralinen': 3,\n",
       " 'marzipankugel im schokoladenmantel': 3,\n",
       " 'himbeerkuchen': 3,\n",
       " 'nougatsterne': 3,\n",
       " 'nougatroulade mit haferflocken': 3,\n",
       " 'kuchen apfel-schokoladen-kuchen': 3,\n",
       " 'penne-broccoli-gratin': 3,\n",
       " 'schokocrossies': 3,\n",
       " 'kirschmichel rezepte': 3,\n",
       " 'babynahrung kuchenbrei': 3,\n",
       " 'spiegelei - aber kein echtes': 3,\n",
       " 'schoko-griesspudding': 3,\n",
       " 'kokosgriessschmarren': 3,\n",
       " 'griessschmarrn': 3,\n",
       " 'polenta': 3,\n",
       " 'griessbrei': 3,\n",
       " 'giesspudding mit eis und amarenakirschen': 3,\n",
       " 'himbeertraum': 3,\n",
       " 'kambodscha': 3,\n",
       " 'gratin rezepte': 3,\n",
       " 'gefuellt rezepte': 3,\n",
       " 'senfrostbraten rezepte': 3,\n",
       " 'brotaufstrich peanutbutter-apple-cream': 3,\n",
       " 'original daenisches apfeldessert': 3,\n",
       " 'kartoffelpuffer pierre sanoussi-bliss': 3,\n",
       " 'apfelschmausplaetzchen fuer mensch und tier': 3,\n",
       " 'eierkuchen mit naturjoghurt': 3,\n",
       " 'rindersteak mit rotweinsosse': 3,\n",
       " 'calvados-kracher mirjam muentefering': 3,\n",
       " 'kartoffelsalat': 3,\n",
       " 'stuwen rezepte': 3,\n",
       " 'bisquit-rolade': 3,\n",
       " 'spritzguss fuer baum-behang': 3,\n",
       " 'fleischgerichte kasseler-kotelett': 3,\n",
       " 'selbstgemachte schokolade': 3,\n",
       " 'kalter hund': 3,\n",
       " 'eierplaetzchen': 3,\n",
       " 'un kurabiye': 3,\n",
       " 'eierplaetzchen verziert': 3,\n",
       " 'roeschti rezepte': 3,\n",
       " 'schmalz rezepte': 3,\n",
       " 'sonstiges butterschwan': 3,\n",
       " 'mehlbutter beurre manie': 3,\n",
       " 'paratha': 3,\n",
       " 'apfel-zimt-pfannkuchen': 3,\n",
       " 'kaeseschnitzel mit blumenkohl': 3,\n",
       " 'salzkartoffeln und sauce hollandaise': 3,\n",
       " 'brotaufstrich honig-butter': 3,\n",
       " 'sauerkirschauflauf rezepte': 3,\n",
       " 'schokokuchen': 3,\n",
       " 'nussige zitronenwuerfel': 3,\n",
       " 'sprudelkuchen muffins': 3,\n",
       " 'schokoladentorte': 3,\n",
       " 'bananen-schoko-torte': 3,\n",
       " 'giotto-torte': 3,\n",
       " 'bananen-schnitten a la ulrike': 3,\n",
       " 'kuchen apfelkuchen mit kokos': 3,\n",
       " 'doener rezepte': 3,\n",
       " 'fuer rezepte': 3,\n",
       " 'seeraeuber rezepte': 3,\n",
       " 'gefuellte pitataschen': 3,\n",
       " 'pita-taschen mit haehnchenbruststreifen': 3,\n",
       " 'haehnchen taschen': 3,\n",
       " 'fitness puten-pita': 3,\n",
       " 'tuerkische pizza - etwas abgewandelt': 3,\n",
       " 'pita mit wuerstle-paprika-zucchini-curry-mix': 3,\n",
       " 'pita-brote mit thunfisch-fuellung? schneller gesunder mediterraner snack mit leckerer creme': 3,\n",
       " 'silvesterbuffet': 3,\n",
       " 'heisse schokiibitterschokolade': 3,\n",
       " 'blitz-schoko-cremefettarm': 3,\n",
       " 'dessert fruchtig-schwipsige schokosuppe': 3,\n",
       " 'backen monis kalter hund': 3,\n",
       " 'dessert zartbitter-schokoladen-eis': 3,\n",
       " 'zartbitterschokoladen-mousse': 3,\n",
       " 'quarkkuchen rezepte': 3,\n",
       " 'mein ruck zuck dessert': 3,\n",
       " 'zwiebel - dip': 3,\n",
       " 'erdbeerquark': 3,\n",
       " 'joghurtgetraenk - ayran': 3,\n",
       " 'weihnachtsquark': 3,\n",
       " 'bulgurpuffer': 3,\n",
       " 'obstiges mit quark': 3,\n",
       " 'angemachter camembert': 3,\n",
       " 'eierkuchenpfannkuchencrepses': 3,\n",
       " 'grundteig': 3,\n",
       " 'sauerteigansatz siegfried bruder von hermann': 3,\n",
       " 'biskuitboden': 3,\n",
       " 'baguette - franzoesische art': 3,\n",
       " 'italienisches brot': 3,\n",
       " 'scheiterhaufen rezepte': 3,\n",
       " 'schnitzel rezepte': 3,\n",
       " 'kaesekoerbchen': 3,\n",
       " 'kaesechips': 3,\n",
       " 'erdbeeren rezepte': 3,\n",
       " 'gemischte beeren mit baiser': 3,\n",
       " 'biskotten - selbstgemacht': 3,\n",
       " 'weihnachtsbaeckerei eins-zwei-drei': 3,\n",
       " 'marzipanhase zum osterfest': 3,\n",
       " 'getraenk sauerkirsch - sahnelikoer': 3,\n",
       " 'vanille-milchreis': 2,\n",
       " 'bine s bananen - kokos - shake': 2,\n",
       " 'rhabarbermus': 2,\n",
       " 'froscheier - kindheitserinnerung': 2,\n",
       " 'blaubeer dessert keine sternen vergeben bitte': 2,\n",
       " 'himbeersosse': 2,\n",
       " 'butterstreusel oder kruemel fuer obstkuchen': 2,\n",
       " 'hefekuchen usw': 2,\n",
       " 'venezuela': 2,\n",
       " 'joghurt rezepte': 2,\n",
       " 'gebaeck rezepte': 2,\n",
       " 'creme kuchen': 2,\n",
       " 'aprikosen-muffin': 2,\n",
       " 'schokotarte a la tiramisu': 2,\n",
       " 'schoko-birnen-kuchen': 2,\n",
       " 'white cookies': 2,\n",
       " 'apfel-ruebli-muffins': 2,\n",
       " 'saftig-weiche muffins von nermin': 2,\n",
       " 'schoko-kirsch-kuchen mit mandelknusper': 2,\n",
       " 'mini rezepte': 2,\n",
       " 'salamistrudel rezepte': 2,\n",
       " 'salami-ei-muffins mit kaese': 2,\n",
       " 'ueberbackenes toast gorgonzola': 2,\n",
       " 'schneller snack': 2,\n",
       " 'partyhappen salami-schnecken': 2,\n",
       " 'raclette toast': 2,\n",
       " 'brotschnitten geschmacksache': 2,\n",
       " 'hermann rezepte': 2,\n",
       " 'gebratene knoedel': 2,\n",
       " 'windradl': 2,\n",
       " 'sanddorn-royal': 2,\n",
       " 'panko paniermehl': 2,\n",
       " 'rollbraten im roemertopf': 2,\n",
       " 'gegrillte milchbroetchen': 2,\n",
       " 'lustige grillwurst': 2,\n",
       " 'scharfe rezepte': 2,\n",
       " 'hefekuchen dreierlei teil ii': 2,\n",
       " 'schweinefilet mit balsamico': 2,\n",
       " 'fisch fruchtiger cocktail mit flusskrebsfleisch': 2,\n",
       " 'sauerrahm selbst gemacht': 2,\n",
       " 'chicoree - creme - sueppchen': 2,\n",
       " 'brezel - auflauf': 2,\n",
       " 'alwins blumenkohlomlette': 2,\n",
       " 'sauerbraten': 2,\n",
       " 'lebkuchenwaffeln rezepte': 2,\n",
       " 'kombucha rezepte': 2,\n",
       " 'kirschen rezepte': 2,\n",
       " 'zitronen-oel': 2,\n",
       " 'gemuesebruehe': 2,\n",
       " 'rosmarin-backofen-kartoffeln': 2,\n",
       " 'zitronenoel': 2,\n",
       " 'zitrus-ingwer-marmelade': 2,\n",
       " 'orangen-zitronen-butter': 2,\n",
       " 'gebrannte walnuesse': 2,\n",
       " 'getraenke minzsirup': 2,\n",
       " 'herzhafte rezepte': 2,\n",
       " 'kraeuterquark rezepte': 2,\n",
       " 'nocken rezepte': 2,\n",
       " 'malfatti rezepte': 2,\n",
       " 'limoncello mit pfefferminze': 2,\n",
       " 'marshmallow-eiscreme': 2,\n",
       " 'reiberdatschi': 2,\n",
       " 'fruehstueck kokos-johannisbeer-porridge': 2,\n",
       " 'leo-s kraut - wurst - pfanne': 2,\n",
       " 'spargel mit westfaelischen knochenschinken': 2,\n",
       " 'pilzkartoffeln und zerlassener butter': 2,\n",
       " 'weissrussland': 2,\n",
       " 'zwiebelsuppe rezepte': 2,\n",
       " 'chesterstangen rezepte': 2,\n",
       " 'gefuellte schweinesteaks': 2,\n",
       " 'thunfisch- baguetts': 2,\n",
       " 'toast ueberbacken': 2,\n",
       " 'ueberraschungsaeckchen ?': 2,\n",
       " 'mein spezi-toast herzhaft': 2,\n",
       " 'schnelle - tage': 2,\n",
       " 'henkersmahlzeit': 2,\n",
       " 'fusilli mit paprika-sahnesosse': 2,\n",
       " 'speckknoedel rezepte': 2,\n",
       " 'fleischbruehe rezepte': 2,\n",
       " 'spaghetti mit ziegenfrischkaese-sauce und rucola': 2,\n",
       " 'pasta mit vanille-carbonara und feldsalat': 2,\n",
       " 'salat - lauwarmer fenchelsalat': 2,\n",
       " 'alpenpizza': 2,\n",
       " 'herzhafte toastmuffins': 2,\n",
       " 'spargel mit schwarzwaelder schinken': 2,\n",
       " 'salat tiroler speckkraut-salat': 2,\n",
       " 'suedtiroler speckknoedel suppe': 2,\n",
       " 'sudan': 2,\n",
       " 'suessigkeit gefrorenes kokos-konfekt': 2,\n",
       " 'gebrannte mandeln': 2,\n",
       " 'fruehlingszwiebelsuppe rezepte': 2,\n",
       " 'baellchen rezepte': 2,\n",
       " 'orange slice': 2,\n",
       " 'eingelegte rosinen fuers osterbrot': 2,\n",
       " 'osterkuchen': 2,\n",
       " 'chili-gelee': 2,\n",
       " 'forelle - gold': 2,\n",
       " 'ueberraschungstoertchenich will auch mal': 2,\n",
       " 'blitz-salat': 2,\n",
       " 'haehnchenbrustfilet mit fenchel-gemuese im backpapierpaeckchen': 2,\n",
       " 'pitter und jupp': 2,\n",
       " 'weisswein rezepte': 2,\n",
       " 'pesto rezepte': 2,\n",
       " 'paprika rezepte': 2,\n",
       " 'huehnchen rezepte': 2,\n",
       " 'rahmkohlrabi rezepte': 2,\n",
       " 'zander im pancetta-mantel mit zuckerschoten-erbsen-salat': 2,\n",
       " 'lachs mit kartoffel - kaesekruste': 2,\n",
       " 'gebrannte mandeln wie vom weihnachtsmarkt': 2,\n",
       " 'zanderfilet mit kartoffelschuppen': 2,\n",
       " 'plombenzieher': 2,\n",
       " 'erdnussbutter crunchy': 2,\n",
       " 'forelle im senfmantel': 2,\n",
       " 'originale rezepte': 2,\n",
       " 'lassange rezepte': 2,\n",
       " 'selbst rezepte': 2,\n",
       " 'hergestellten rezepte': 2,\n",
       " 'platten rezepte': 2,\n",
       " 'versunkener rezepte': 2,\n",
       " 'orangenkaramel rezepte': 2,\n",
       " 'karamel - dickmann - creme': 2,\n",
       " 'malagacreme': 2,\n",
       " 'sisserls apfelquark-taschen': 2,\n",
       " 'honey bells ': 2,\n",
       " 'kuchen': 2,\n",
       " 'bienenstich mit stachelbeeren': 2,\n",
       " 'pflaumen-quark-torte zwetschgen-quark-torte': 2,\n",
       " 'kekse vanille-karamel - heidesand': 2,\n",
       " 'bienenstich-torte': 2,\n",
       " 'gedoerrten rezepte': 2,\n",
       " 'cranberries rezepte': 2,\n",
       " 'omas loewenzahnhonig': 2,\n",
       " 'new york feeling': 2,\n",
       " 'ramen-nudeln': 2,\n",
       " 'indian summer cornbread': 2,\n",
       " 'hobnobs mit toffee-topping': 2,\n",
       " 'huehnchen-gourmetroellchen an salbeisauce': 2,\n",
       " 'paglia rezepte': 2,\n",
       " 'fieno rezepte': 2,\n",
       " 'fettucine mit garnelen-dill-sauce': 2,\n",
       " 'fettucine mit lachs und zucchini': 2,\n",
       " 'fettucine tricolore': 2,\n",
       " 'gourmet nudelpfanne': 2,\n",
       " 'bandnudeln mit haehnchenbrust und get tomaten': 2,\n",
       " 'fettucine alfredo': 2,\n",
       " 'fettucine mit raeucherlachs': 2,\n",
       " 'rinderfilet auf bandnudeln mit gruenem spargel und zuckerschoten': 2,\n",
       " 'lachssauce rezepte': 2,\n",
       " 'spinat-lachsrolle': 2,\n",
       " 'zauber-bonbon': 2,\n",
       " 'herzhaft toast-koerbchen toertchen': 2,\n",
       " 'pizzatoast-kochschinken fuer nichtgernkocher': 2,\n",
       " 'herzhafte kartoffelhaelften': 2,\n",
       " 'baerlauchpesto': 2,\n",
       " 'orangenplaetzchen': 2,\n",
       " 'spaghetti mit jagdwurstragout': 2,\n",
       " 'pikante blaetterteig rolle': 2,\n",
       " 'putenoberkeule im roemertopf': 2,\n",
       " 'workshop einfache schnitt-techniken': 2,\n",
       " 'zwiebel basilikumbroetchen': 2,\n",
       " 'brockkartoffeln': 2,\n",
       " 'kuskus mit champigniongemuese': 2,\n",
       " 'mein leckerstes spritzgebaeck': 2,\n",
       " 'sehr einfacher pfannkuchen ohne ei': 2,\n",
       " 'malzbierbrot': 2,\n",
       " 'maedchenmilch': 2,\n",
       " 'obstboden tortenboden einfach und schnell': 2,\n",
       " 'einfacher tortenboden': 2,\n",
       " '?-zutaten paleo-pancakes': 2,\n",
       " 'ananas rezepte': 2,\n",
       " 'dessert - vanillepudding ohne tuetenzauber': 2,\n",
       " 'dessert omens karamelpudding': 2,\n",
       " 'blaetterteigteilchen apfel - quatsch': 2,\n",
       " 'ketchup mild': 2,\n",
       " 'weihnachtsmann-pudding': 2,\n",
       " 'kirschgruetze': 2,\n",
       " 'schokopudding': 2,\n",
       " 'gruen rezepte': 2,\n",
       " 'weiss rezepte': 2,\n",
       " 'antipsti - blaetterteigpasteten mit mortadella mousse': 2,\n",
       " 'kalbfleisch involtini milka loff fernandes': 2,\n",
       " 'schinken nudel': 2,\n",
       " 'pasta ala ebolino': 2,\n",
       " 'kochen kaese-ruehrei': 2,\n",
       " 'sandwich-rolle': 2,\n",
       " 'meine zucchinilasagne': 2,\n",
       " 'mohnkuchen rezepte': 2,\n",
       " 'nudelsalat rezepte': 2,\n",
       " 'blaetterteig - teilchen': 2,\n",
       " 'gefuellte putenroellchen auf suess-sauer rotkohl': 2,\n",
       " 'ueberbackene kartoffeln': 2,\n",
       " 'haehnchensalat mal anders': 2,\n",
       " 'farfalle mit trueffelsosse': 2,\n",
       " 'kartoffel-broccoli-auflauf': 2,\n",
       " 'brotaufstrich herzhaft': 2,\n",
       " 'kleine schnitzelchen vom filet mit parmesan in der panade': 2,\n",
       " 'himbeer rezepte': 2,\n",
       " 'punsch rezepte': 2,\n",
       " 'taler rezepte': 2,\n",
       " 'burgenlaender': 2,\n",
       " 'dessert eisaepfel': 2,\n",
       " 'flammende herzen und leuchtende sterne': 2,\n",
       " 'himbeer-philadelphia-torte mit kokos': 2,\n",
       " 'torta di amore pierre geissensetter': 2,\n",
       " 'walnusstaler': 2,\n",
       " 'juwelen-plaetzchen': 2,\n",
       " 'tomatenreis': 2,\n",
       " 'bandnudeln rezepte': 2,\n",
       " 'brotsuppe': 2,\n",
       " 'moehren-gemuesebeilage': 2,\n",
       " 'lachs-sahne-sauce': 2,\n",
       " 'gegrillte champinons': 2,\n",
       " 'focaccia mit speck': 2,\n",
       " 'brot focaccia': 2,\n",
       " 'blumenkohl mit eier-salsa': 2,\n",
       " 'wuerzige schweinefilet-tomaten-spiesse': 2,\n",
       " 'pikante rezepte': 2,\n",
       " 'salami rezepte': 2,\n",
       " 'diverses kraeuter - butter': 2,\n",
       " 'selbst hergestellt': 2,\n",
       " 'diverses salat - kraeuter - mischung': 2,\n",
       " 'spanischmaurischer lomobraten': 2,\n",
       " 'brot - mein fruehstuecksbrot ?': 2,\n",
       " 'pikante kuchen herzhafte blaetterteig-haeppchen': 2,\n",
       " 'roastbeef': 2,\n",
       " 'foerster-medallions ueberbacken mit braunen champignons': 2,\n",
       " 'henry s chili gewuerz salz': 2,\n",
       " 'mama rezepte': 2,\n",
       " 'eierlikoertopfkuchen rezepte': 2,\n",
       " 'schoko-nougat makronen zur weihnachtszeit': 2,\n",
       " 'unter butterstreuseln versteckte aepfel': 2,\n",
       " 'der sommer ist noch nicht vorbei schoko-kaffee-eis': 2,\n",
       " 'grillage-torte': 2,\n",
       " 'sprich grillasch': 2,\n",
       " 'spanische fluessige heisse trinkschokolade': 2,\n",
       " 'plaetzchen kekse dominosteine lebkuchen - schokowuerfel rz frei schnautze': 2,\n",
       " '???? schokokuchen ????': 2,\n",
       " 'pralinen-schokosauce': 2,\n",
       " 'fuer desserts und eis': 2,\n",
       " 'cherrytomate mit mozarella im speckmantel': 2,\n",
       " 'aalener rezepte': 2,\n",
       " 'spitzaerschle rezepte': 2,\n",
       " 'schweinelende rezepte': 2,\n",
       " 'baylis': 2,\n",
       " 'kaffeeschnaps': 2,\n",
       " 'after - eight - mousse': 2,\n",
       " 'weinbrandweichseln': 2,\n",
       " 'getraenke co sahne - karamel - likoer': 2,\n",
       " 'baileys': 2,\n",
       " 'marillen-marmelade': 2,\n",
       " 'pumuckl - likoer': 2,\n",
       " 'hackbraten rezepte': 2,\n",
       " 'dessert milchschnitte fluechtet in schokopudding': 2,\n",
       " 'nudelrolle rezepte': 2,\n",
       " 'huhn rezepte': 2,\n",
       " 'haehnchenfilet rezepte': 2,\n",
       " 'kardamom rezepte': 2,\n",
       " 'wuerzige schokoladenmilch': 2,\n",
       " 'gewuerzter orangensirup': 2,\n",
       " 'selbstgemachter apfeltee mit zimt und gewuerzen': 2,\n",
       " 'orangen milchreis': 2,\n",
       " 'biggis gequetschte ofenkartoffeln mit kardamon-kuemmel-oel': 2,\n",
       " 'sirup - chai-sirup': 2,\n",
       " 'gewuerzter basmati-reis': 2,\n",
       " 'indisches kokosreis flammerie': 2,\n",
       " 'rahm rezepte': 2,\n",
       " 'kessel rezepte': 2,\n",
       " 'cajun chicken': 2,\n",
       " 'karlsbader schnitte': 2,\n",
       " 'kevins-lieblingssandwich': 2,\n",
       " 'eier rezepte': 2,\n",
       " 'kassler-sauerkrautroellchen auf kartoffelbrei': 2,\n",
       " 'gugelhupf rezepte': 2,\n",
       " 'schokokrossies': 2,\n",
       " 'nachspeise black pearls': 2,\n",
       " 'kraeuterbutterbaguette': 2,\n",
       " 'zucchini auf vorrat': 2,\n",
       " 'fleischwurstkuechle': 2,\n",
       " 'amaretto sekt': 2,\n",
       " 'kimis schoko-crisps': 2,\n",
       " 'torte malakoff': 2,\n",
       " 'argentinisches roastbeef': 2,\n",
       " 'eisschokolade': 2,\n",
       " 'sahnesauce rezepte': 2,\n",
       " 'fruehlingsbrot rezepte': 2,\n",
       " 'gruene rezepte': 2,\n",
       " 'spinat': 2,\n",
       " 'schonkost moehren an reis': 2,\n",
       " 'ueberbackene putenbrustmedallions': 2,\n",
       " 'bratkartoffeln einmal anders und schnell': 2,\n",
       " 'schonkost fenchel - zucchini geduenstet': 2,\n",
       " 'gebratene teigwaren mit wurstel und salat': 2,\n",
       " 'vegan kuerbis - kokosmilch - suppe': 2,\n",
       " 'speckbananen': 2,\n",
       " 'knoblauch-paprika haehnchenschenkel mit kartoffel aus dem ofen': 2,\n",
       " 'toast-camembert': 2,\n",
       " 'camembert-pfannkuchen': 2,\n",
       " 'putenschnitzel mit ananas': 2,\n",
       " 'kochenhirschgulasch': 2,\n",
       " 'kaninchenschenkel in rotweinsosse': 2,\n",
       " 'hirschbraten an wildrahmsauce': 2,\n",
       " 'camembert-arme-ritter': 2,\n",
       " 'rinderrouladen nach mutters art': 2,\n",
       " 'kraeftig': 2,\n",
       " 'deftig': 2,\n",
       " 'brokkoli-nuss lasagne': 2,\n",
       " 'pfirsich rezepte': 2,\n",
       " 'maracuja rezepte': 2,\n",
       " 'likoer rezepte': 2,\n",
       " 'blitz fingerfood': 2,\n",
       " 'garnelenspiesse mit matjesfilet und antipasta': 2,\n",
       " 'leiterchen mit spargel': 2,\n",
       " 'lachsbuletten mit gemuese mix': 2,\n",
       " 'fettucine-pasta mit gemischten salat': 2,\n",
       " 'gruenkohleintopf': 2,\n",
       " 'paprika-steak mit zwiebeln und beilagen': 2,\n",
       " 'rindersteak mit spargel': 2,\n",
       " 'mousse au chocolate- torte': 2,\n",
       " 'chocolate habanero-cookie': 2,\n",
       " 'chocolate cake auf pfirsich-basilikum-kompott hein simons': 2,\n",
       " 'chocolate-habanero minze-pesto': 2,\n",
       " 'chocolate chip cookies': 2,\n",
       " 'kaltschale - a la gina': 2,\n",
       " 'mascarpone-mousse-au-chocolate im glas mit amarettinibroesel nachspeise': 2,\n",
       " 'kokos dattel kugeln - cocos dattel balls': 2,\n",
       " 'milchnudeln rezepte': 2,\n",
       " 'schichtpudding schwarzweiss': 2,\n",
       " 'dessertpudding mit haselnuessen': 2,\n",
       " 'puddingschnecken': 2,\n",
       " 'pudding an rote gruetze': 2,\n",
       " 'banane-dessert': 2,\n",
       " 'quarkcreme mit himbeeren': 2,\n",
       " 'nutella-pudding': 2,\n",
       " 'cavalcantis rezepte': 2,\n",
       " 'stockfisch rezepte': 2,\n",
       " 'labskaus': 2,\n",
       " 'stockfisch mit frittierten kartoffelwuerfeln': 2,\n",
       " 'stockfisch hofer art': 2,\n",
       " 'bacalhau a bras - portugisisches kabeljaugericht': 2,\n",
       " 'kalt-warmes von garnelen': 2,\n",
       " 'stockfisch und kartoffeln a la henssler': 2,\n",
       " 'bakaliaros plaki stockfisch in tomatensosse und kartoffeln': 2,\n",
       " ...}"
      ]
     },
     "execution_count": 35,
     "metadata": {},
     "output_type": "execute_result"
    }
   ],
   "source": [
    "sorted_desc"
   ]
  },
  {
   "cell_type": "code",
   "execution_count": 36,
   "metadata": {},
   "outputs": [],
   "source": [
    "del (sorted_desc[''])"
   ]
  },
  {
   "cell_type": "code",
   "execution_count": 37,
   "metadata": {},
   "outputs": [],
   "source": [
    "del (sorted_desc['nan'])"
   ]
  },
  {
   "cell_type": "markdown",
   "metadata": {},
   "source": [
    "### Choose frequent categories"
   ]
  },
  {
   "cell_type": "code",
   "execution_count": 38,
   "metadata": {},
   "outputs": [],
   "source": [
    "dict2 = dict()\n",
    "for k,v in sorted_desc.items():\n",
    "    if v >= 100:\n",
    "        dict2[k]=v"
   ]
  },
  {
   "cell_type": "code",
   "execution_count": 39,
   "metadata": {},
   "outputs": [
    {
     "data": {
      "text/plain": [
       "214"
      ]
     },
     "execution_count": 39,
     "metadata": {},
     "output_type": "execute_result"
    }
   ],
   "source": [
    "len(dict2)"
   ]
  },
  {
   "cell_type": "code",
   "execution_count": 40,
   "metadata": {},
   "outputs": [
    {
     "data": {
      "text/plain": [
       "{'abendessen': 222823,\n",
       " 'aegypten': 523,\n",
       " 'aethiopien': 146,\n",
       " 'afghanistan': 338,\n",
       " 'afrika': 6385,\n",
       " 'albanien': 319,\n",
       " 'algerien': 148,\n",
       " 'alkoholfreie getraenke': 9503,\n",
       " 'alkoholische getraenke': 22550,\n",
       " 'allergien und unvertraeglichkeiten': 584,\n",
       " 'allgaeuer kueche': 795,\n",
       " 'amerika': 25476,\n",
       " 'anlaesse': 544,\n",
       " 'arabische kueche': 3618,\n",
       " 'argentinien': 491,\n",
       " 'asien': 41680,\n",
       " 'auflauf /ueberbackenes': 74373,\n",
       " 'australien': 672,\n",
       " 'ayurveda': 375,\n",
       " 'babynahrung': 1921,\n",
       " 'backen': 37837,\n",
       " 'badische kueche ': 6240,\n",
       " 'ballaststoffreich': 229,\n",
       " 'baltikum': 478,\n",
       " 'barbecue': 30224,\n",
       " 'bayerische kueche': 19163,\n",
       " 'beilagen': 66693,\n",
       " 'beizen': 656,\n",
       " 'belgien': 511,\n",
       " 'berliner kueche': 8214,\n",
       " 'blanchieren': 361,\n",
       " 'bosnien / herzegowina': 731,\n",
       " 'brandenburger kueche': 690,\n",
       " 'brasilien': 624,\n",
       " 'braten': 29100,\n",
       " 'braten (fleisch)': 69179,\n",
       " 'bremer kueche': 348,\n",
       " 'brot': 28992,\n",
       " 'buffets/dekorationen': 11190,\n",
       " 'bulgarien': 365,\n",
       " 'camping': 24127,\n",
       " 'china': 7759,\n",
       " 'cholesterinarm': 468,\n",
       " 'cross-cooking': 24800,\n",
       " 'daempfen': 1012,\n",
       " 'daenemark': 1335,\n",
       " 'date': 78798,\n",
       " 'dessert': 132700,\n",
       " 'deutschland': 2963,\n",
       " 'diabetiker': 10666,\n",
       " 'dips/cremes/saucen': 50483,\n",
       " 'dosengericht': 3458,\n",
       " 'duensten': 4263,\n",
       " 'eingemachtes': 39832,\n",
       " 'eisspeise/halbgefrorenes': 26800,\n",
       " 'eiweissreich': 2396,\n",
       " 'elsaessische kueche ': 1462,\n",
       " 'europa': 159743,\n",
       " 'exotische kueche': 36160,\n",
       " 'fastfood': 16438,\n",
       " 'festlich': 72086,\n",
       " 'fettarm': 19130,\n",
       " 'fingerfood': 54632,\n",
       " 'fingerfood/snack': 57607,\n",
       " 'finnland': 238,\n",
       " 'fisch': 46762,\n",
       " 'flambieren': 453,\n",
       " 'fleisch': 164771,\n",
       " 'fraenkische kueche ': 4536,\n",
       " 'frankreich': 9686,\n",
       " 'frittieren': 2339,\n",
       " 'fruehling': 126766,\n",
       " 'fruehstueck': 55213,\n",
       " 'gefluegel': 192,\n",
       " 'gerichtekategorie': 319,\n",
       " 'gesund und diaet': 106406,\n",
       " 'ghana': 194,\n",
       " 'glutenfrei': 651479,\n",
       " 'griechenland': 10100,\n",
       " 'grillen': 53200,\n",
       " 'grillfest': 103040,\n",
       " 'grossbritannien': 1601,\n",
       " 'halloween': 18722,\n",
       " 'hamburger kueche': 3796,\n",
       " 'hauptspeise': 336356,\n",
       " 'herbst': 127352,\n",
       " 'hessische kueche': 2520,\n",
       " 'histaminarm': 248,\n",
       " 'hochzeit': 42304,\n",
       " 'indien': 8274,\n",
       " 'indonesien': 477,\n",
       " 'international': 451,\n",
       " 'iran': 251,\n",
       " 'irland': 380,\n",
       " 'island': 184,\n",
       " 'israel': 267,\n",
       " 'italien': 45949,\n",
       " 'jamaika': 122,\n",
       " 'japan': 2038,\n",
       " 'kaffee & kuchen': 160505,\n",
       " 'kalorienarm': 14372,\n",
       " 'kalt': 60238,\n",
       " 'kanada': 441,\n",
       " 'karibik': 1991,\n",
       " 'karneval/fasching': 30431,\n",
       " 'kenia': 106,\n",
       " 'kindergeburtstag': 87806,\n",
       " 'kindergerichte': 65377,\n",
       " 'kochen': 23719,\n",
       " 'kohlenhydratarm': 10356,\n",
       " 'konfekt/suessware': 33881,\n",
       " 'kongo': 126,\n",
       " 'korea': 1008,\n",
       " 'kroatien': 708,\n",
       " 'kuba': 344,\n",
       " 'kuchen/torte': 155204,\n",
       " 'laktosefrei': 468793,\n",
       " 'lateinamerika': 1469,\n",
       " 'libanon': 1985,\n",
       " 'low fat ??': 3357,\n",
       " 'malta': 166,\n",
       " 'marinieren': 8440,\n",
       " 'marokko': 1730,\n",
       " 'mazedonien': 125,\n",
       " 'mecklenburgische kueche': 965,\n",
       " 'menue': 4856,\n",
       " 'menue-kategorien': 1380,\n",
       " 'mexiko': 9120,\n",
       " 'mikrowellenessen': 1926,\n",
       " 'milchprodukte': 186127,\n",
       " 'mit alkohol': 53919,\n",
       " 'mittagstisch': 266412,\n",
       " 'neuseeland': 106,\n",
       " 'niedersaechsische kueche': 178,\n",
       " 'nigeria': 123,\n",
       " 'nordamerika': 723,\n",
       " 'norddeutsche kueche': 14674,\n",
       " 'norwegen': 322,\n",
       " 'nudeln/pasta': 51079,\n",
       " 'oesterreich': 6999,\n",
       " 'ohne ei': 3884,\n",
       " 'ohne milch': 529,\n",
       " 'ohne soja': 294,\n",
       " 'ohne weizen': 1095555,\n",
       " 'orient': 8663,\n",
       " 'ostern': 47146,\n",
       " 'ostfriesische kueche': 723,\n",
       " 'party': 175749,\n",
       " 'peru': 170,\n",
       " 'pfaelzische kueche': 2291,\n",
       " 'pfannengerichte': 21894,\n",
       " 'pfannenruehren': 3642,\n",
       " 'pfannkuchen/crepe': 23816,\n",
       " 'philippinen': 117,\n",
       " 'picknick': 86118,\n",
       " 'pikante kuchen/pizza': 27630,\n",
       " 'plaetzchen/kekse': 13762,\n",
       " 'pochieren': 446,\n",
       " 'poekeln': 553,\n",
       " 'polen': 1564,\n",
       " 'portugal': 1537,\n",
       " 'preiswerte': 235826,\n",
       " 'raeuchern': 1805,\n",
       " 'regionale kueche': 101,\n",
       " 'resteverwertung': 67999,\n",
       " 'rheinische kueche': 6652,\n",
       " 'roesten': 1114,\n",
       " 'rumaenien': 712,\n",
       " 'russland': 5191,\n",
       " 'saarlaendische kueche ': 1346,\n",
       " 'saechsische kueche': 4526,\n",
       " 'salate': 97603,\n",
       " 'sandwiches/brote': 8658,\n",
       " 'schlesische kueche ': 2052,\n",
       " 'schmoren': 6912,\n",
       " 'schnell & einfach': 335893,\n",
       " 'schwaebische kueche': 7165,\n",
       " 'schweden': 2162,\n",
       " 'schweiz': 3239,\n",
       " 'senegal': 118,\n",
       " 'serbien': 940,\n",
       " 'sommer': 180737,\n",
       " 'spanien': 9447,\n",
       " 'spezielles': 630,\n",
       " 'studentenkueche': 58965,\n",
       " 'suedafrika': 494,\n",
       " 'suedamerika': 169,\n",
       " 'suppen/eintoepfe': 81304,\n",
       " 'syrien': 424,\n",
       " 'taufe': 38777,\n",
       " 'thailand': 6514,\n",
       " 'thueringer kueche': 4549,\n",
       " 'trennkost': 3058,\n",
       " 'trocknen': 1786,\n",
       " 'tschechische republik': 162,\n",
       " 'tuerkei (europ.)': 12616,\n",
       " 'tunesien': 657,\n",
       " 'ukraine': 168,\n",
       " 'ungarn': 3708,\n",
       " 'vegan': 11645,\n",
       " 'vegetarisch': 145357,\n",
       " 'vietnam': 965,\n",
       " 'vollwert': 2237,\n",
       " 'vorspeise': 116249,\n",
       " 'warm': 5763,\n",
       " 'weihnachten': 55875,\n",
       " 'weihnachtsdessert': 1862,\n",
       " 'weihnachtsgebaeck': 3095,\n",
       " 'westfaelische kueche': 7936,\n",
       " 'wild': 111,\n",
       " 'winter': 120675,\n",
       " 'wuerzmittel/marinade ': 10184,\n",
       " 'zwischengericht': 107096,\n",
       " 'zwischenmahlzeit': 100580}"
      ]
     },
     "execution_count": 40,
     "metadata": {},
     "output_type": "execute_result"
    }
   ],
   "source": [
    "dict2"
   ]
  },
  {
   "cell_type": "code",
   "execution_count": 384,
   "metadata": {},
   "outputs": [],
   "source": [
    "count = 0\n",
    "sumuj = 0 \n",
    "for k,v in sorted_desc.items():\n",
    "    if v < 100:\n",
    "        count += 1\n",
    "        sumuj += v"
   ]
  },
  {
   "cell_type": "code",
   "execution_count": 385,
   "metadata": {},
   "outputs": [
    {
     "data": {
      "text/plain": [
       "1984"
      ]
     },
     "execution_count": 385,
     "metadata": {},
     "output_type": "execute_result"
    }
   ],
   "source": [
    "count"
   ]
  },
  {
   "cell_type": "code",
   "execution_count": 386,
   "metadata": {},
   "outputs": [
    {
     "data": {
      "text/plain": [
       "4981"
      ]
     },
     "execution_count": 386,
     "metadata": {},
     "output_type": "execute_result"
    }
   ],
   "source": [
    "sumuj"
   ]
  },
  {
   "cell_type": "markdown",
   "metadata": {},
   "source": [
    "# Group by season and city"
   ]
  },
  {
   "cell_type": "code",
   "execution_count": 41,
   "metadata": {},
   "outputs": [
    {
     "name": "stdout",
     "output_type": "stream",
     "text": [
      "Berlin\n",
      "218883\n"
     ]
    },
    {
     "name": "stderr",
     "output_type": "stream",
     "text": [
      "100%|██████████| 218883/218883 [00:04<00:00, 51311.77it/s]\n"
     ]
    },
    {
     "name": "stdout",
     "output_type": "stream",
     "text": [
      "Number of nan elements: 0 ( 0.0 %)\n",
      "We have  12377 ( 5.65 %) empty categories.\n",
      "Bremerhaven\n",
      "4373\n"
     ]
    },
    {
     "name": "stderr",
     "output_type": "stream",
     "text": [
      "100%|██████████| 4373/4373 [00:00<00:00, 46691.41it/s]\n"
     ]
    },
    {
     "name": "stdout",
     "output_type": "stream",
     "text": [
      "Number of nan elements: 0 ( 0.0 %)\n",
      "We have  270 ( 6.17 %) empty categories.\n",
      "Darmstadt\n",
      "18242\n"
     ]
    },
    {
     "name": "stderr",
     "output_type": "stream",
     "text": [
      "100%|██████████| 18242/18242 [00:00<00:00, 45307.85it/s]\n"
     ]
    },
    {
     "name": "stdout",
     "output_type": "stream",
     "text": [
      "Number of nan elements: 0 ( 0.0 %)\n",
      "We have  1050 ( 5.76 %) empty categories.\n",
      "Erlangen\n",
      "10908\n"
     ]
    },
    {
     "name": "stderr",
     "output_type": "stream",
     "text": [
      "100%|██████████| 10908/10908 [00:00<00:00, 42866.31it/s]\n"
     ]
    },
    {
     "name": "stdout",
     "output_type": "stream",
     "text": [
      "Number of nan elements: 0 ( 0.0 %)\n",
      "We have  560 ( 5.13 %) empty categories.\n",
      "Frankfurt_Am_Main\n",
      "92387\n"
     ]
    },
    {
     "name": "stderr",
     "output_type": "stream",
     "text": [
      "100%|██████████| 92387/92387 [00:01<00:00, 48634.39it/s]\n"
     ]
    },
    {
     "name": "stdout",
     "output_type": "stream",
     "text": [
      "Number of nan elements: 0 ( 0.0 %)\n",
      "We have  5060 ( 5.48 %) empty categories.\n",
      "Hamburg\n",
      "117115\n"
     ]
    },
    {
     "name": "stderr",
     "output_type": "stream",
     "text": [
      "100%|██████████| 117115/117115 [00:01<00:00, 65161.20it/s]\n"
     ]
    },
    {
     "name": "stdout",
     "output_type": "stream",
     "text": [
      "Number of nan elements: 0 ( 0.0 %)\n",
      "We have  6054 ( 5.17 %) empty categories.\n",
      "Koeln\n",
      "69527\n"
     ]
    },
    {
     "name": "stderr",
     "output_type": "stream",
     "text": [
      "100%|██████████| 69527/69527 [00:01<00:00, 63661.63it/s]\n"
     ]
    },
    {
     "name": "stdout",
     "output_type": "stream",
     "text": [
      "Number of nan elements: 0 ( 0.0 %)\n",
      "We have  3588 ( 5.16 %) empty categories.\n",
      "Munich\n",
      "142046\n"
     ]
    },
    {
     "name": "stderr",
     "output_type": "stream",
     "text": [
      "100%|██████████| 142046/142046 [00:02<00:00, 67378.25it/s]\n"
     ]
    },
    {
     "name": "stdout",
     "output_type": "stream",
     "text": [
      "Number of nan elements: 0 ( 0.0 %)\n",
      "We have  7239 ( 5.1 %) empty categories.\n",
      "Potsdam\n",
      "5883\n"
     ]
    },
    {
     "name": "stderr",
     "output_type": "stream",
     "text": [
      "100%|██████████| 5883/5883 [00:00<00:00, 36595.05it/s]\n"
     ]
    },
    {
     "name": "stdout",
     "output_type": "stream",
     "text": [
      "Number of nan elements: 0 ( 0.0 %)\n",
      "We have  357 ( 6.07 %) empty categories.\n",
      "Siegen\n",
      "7332\n"
     ]
    },
    {
     "name": "stderr",
     "output_type": "stream",
     "text": [
      "100%|██████████| 7332/7332 [00:00<00:00, 33608.56it/s]\n"
     ]
    },
    {
     "name": "stdout",
     "output_type": "stream",
     "text": [
      "Number of nan elements: 0 ( 0.0 %)\n",
      "We have  399 ( 5.44 %) empty categories.\n"
     ]
    }
   ],
   "source": [
    "df_summer = df[df.season == 'summer']\n",
    "\n",
    "cities_summer = dict()\n",
    "df_by_city = df_summer.groupby('city')\n",
    "for name, group in df_by_city:\n",
    "    print(name)\n",
    "    print(len(group))\n",
    "\n",
    "    cities_summer[name], nan_list = get_categories_counter(group.categories)\n",
    "    print('Number of nan elements:', len(nan_list), '(', np.round(len(nan_list)/len(group)*100, 2),'%)')\n",
    "    print('We have ', cities_summer[name][''], '(', np.round(cities_summer[name]['']/len(group)*100, 2),'%)' , 'empty categories.')"
   ]
  },
  {
   "cell_type": "code",
   "execution_count": 42,
   "metadata": {},
   "outputs": [
    {
     "name": "stdout",
     "output_type": "stream",
     "text": [
      "Berlin\n",
      "150886\n"
     ]
    },
    {
     "name": "stderr",
     "output_type": "stream",
     "text": [
      "100%|██████████| 150886/150886 [00:02<00:00, 60880.16it/s]\n"
     ]
    },
    {
     "name": "stdout",
     "output_type": "stream",
     "text": [
      "Number of nan elements: 0 ( 0.0 %)\n",
      "We have  7472 ( 4.95 %) empty categories.\n",
      "Bremerhaven\n",
      "3021\n"
     ]
    },
    {
     "name": "stderr",
     "output_type": "stream",
     "text": [
      "100%|██████████| 3021/3021 [00:00<00:00, 50174.40it/s]\n"
     ]
    },
    {
     "name": "stdout",
     "output_type": "stream",
     "text": [
      "Number of nan elements: 0 ( 0.0 %)\n",
      "We have  110 ( 3.64 %) empty categories.\n",
      "Darmstadt\n",
      "9501\n"
     ]
    },
    {
     "name": "stderr",
     "output_type": "stream",
     "text": [
      "100%|██████████| 9501/9501 [00:00<00:00, 35369.67it/s]\n"
     ]
    },
    {
     "name": "stdout",
     "output_type": "stream",
     "text": [
      "Number of nan elements: 0 ( 0.0 %)\n",
      "We have  490 ( 5.16 %) empty categories.\n",
      "Erlangen\n",
      "8196\n"
     ]
    },
    {
     "name": "stderr",
     "output_type": "stream",
     "text": [
      "100%|██████████| 8196/8196 [00:00<00:00, 30533.83it/s]\n"
     ]
    },
    {
     "name": "stdout",
     "output_type": "stream",
     "text": [
      "Number of nan elements: 0 ( 0.0 %)\n",
      "We have  400 ( 4.88 %) empty categories.\n",
      "Frankfurt_Am_Main\n",
      "115085\n"
     ]
    },
    {
     "name": "stderr",
     "output_type": "stream",
     "text": [
      "100%|██████████| 115085/115085 [00:01<00:00, 68747.65it/s]\n"
     ]
    },
    {
     "name": "stdout",
     "output_type": "stream",
     "text": [
      "Number of nan elements: 0 ( 0.0 %)\n",
      "We have  4898 ( 4.26 %) empty categories.\n",
      "Hamburg\n",
      "89458\n"
     ]
    },
    {
     "name": "stderr",
     "output_type": "stream",
     "text": [
      "100%|██████████| 89458/89458 [00:01<00:00, 68540.45it/s]\n"
     ]
    },
    {
     "name": "stdout",
     "output_type": "stream",
     "text": [
      "Number of nan elements: 0 ( 0.0 %)\n",
      "We have  4403 ( 4.92 %) empty categories.\n",
      "Koeln\n",
      "47021\n"
     ]
    },
    {
     "name": "stderr",
     "output_type": "stream",
     "text": [
      "100%|██████████| 47021/47021 [00:00<00:00, 58450.26it/s]\n"
     ]
    },
    {
     "name": "stdout",
     "output_type": "stream",
     "text": [
      "Number of nan elements: 0 ( 0.0 %)\n",
      "We have  2196 ( 4.67 %) empty categories.\n",
      "Munich\n",
      "107072\n"
     ]
    },
    {
     "name": "stderr",
     "output_type": "stream",
     "text": [
      "100%|██████████| 107072/107072 [00:01<00:00, 67769.20it/s]\n"
     ]
    },
    {
     "name": "stdout",
     "output_type": "stream",
     "text": [
      "Number of nan elements: 0 ( 0.0 %)\n",
      "We have  5222 ( 4.88 %) empty categories.\n",
      "Potsdam\n",
      "3703\n"
     ]
    },
    {
     "name": "stderr",
     "output_type": "stream",
     "text": [
      "100%|██████████| 3703/3703 [00:00<00:00, 47981.18it/s]\n"
     ]
    },
    {
     "name": "stdout",
     "output_type": "stream",
     "text": [
      "Number of nan elements: 0 ( 0.0 %)\n",
      "We have  207 ( 5.59 %) empty categories.\n",
      "Siegen\n",
      "5353\n"
     ]
    },
    {
     "name": "stderr",
     "output_type": "stream",
     "text": [
      "100%|██████████| 5353/5353 [00:00<00:00, 54715.60it/s]\n"
     ]
    },
    {
     "name": "stdout",
     "output_type": "stream",
     "text": [
      "Number of nan elements: 0 ( 0.0 %)\n",
      "We have  266 ( 4.97 %) empty categories.\n"
     ]
    }
   ],
   "source": [
    "df_winter = df[df.season == 'winter']\n",
    "\n",
    "cities_winter = dict()\n",
    "df_by_city = df_winter.groupby('city')\n",
    "for name, group in df_by_city:\n",
    "    print(name)\n",
    "    print(len(group))\n",
    "\n",
    "    cities_winter[name], nan_list = get_categories_counter(group.categories)\n",
    "    print('Number of nan elements:', len(nan_list), '(', np.round(len(nan_list)/len(group)*100, 2),'%)')\n",
    "    print('We have ', cities_winter[name][''], '(', np.round(cities_winter[name]['']/len(group)*100, 2),'%)' , 'empty categories.')"
   ]
  },
  {
   "cell_type": "code",
   "execution_count": 51,
   "metadata": {},
   "outputs": [],
   "source": [
    "for city in cities:\n",
    "    try:\n",
    "        del(cities_summer[city][''])\n",
    "    except:\n",
    "        pass\n",
    "    try:\n",
    "        del(cities_summer[city]['nan'])\n",
    "    except:\n",
    "        pass\n",
    "    try:\n",
    "        del(cities_winter[city][''])\n",
    "    except:\n",
    "        pass\n",
    "    try:\n",
    "        del(cities_winter[city]['nan'])\n",
    "    except:\n",
    "        pass"
   ]
  },
  {
   "cell_type": "code",
   "execution_count": 56,
   "metadata": {},
   "outputs": [],
   "source": [
    "def get_plot_summer_winter(cities_summer, cities_winter, city, n=20):\n",
    "    sorted_desc = dict(sorted(cities_summer[city].items(), key=operator.itemgetter(1),reverse=True))\n",
    "    n_keys = list(sorted_desc.keys())[:n]\n",
    "    n_values = [v for k, v in list(sorted_desc.items())[:n]]\n",
    "\n",
    "    trace1 = go.Bar(x=n_keys, y=n_values, name='summer')\n",
    "\n",
    "    sorted_desc = dict(sorted(cities_winter[city].items(), key=operator.itemgetter(1),reverse=True))\n",
    "    n_keys = list(sorted_desc.keys())[:n]\n",
    "    n_values = [v for k, v in list(sorted_desc.items())[:n]]\n",
    "\n",
    "    trace2 = go.Bar(x=n_keys, y=n_values, name='winter')\n",
    "\n",
    "    fig = tools.make_subplots(rows=1, cols=2, subplot_titles=('summer', 'winter'))\n",
    "\n",
    "    fig.append_trace(trace1, 1, 1)\n",
    "    fig.append_trace(trace2, 1, 2)\n",
    "\n",
    "    fig['layout'].update(height=500, width=1000, title='Top ' + str(n) + ' categories <br> for '+city)\n",
    "\n",
    "    return fig"
   ]
  },
  {
   "cell_type": "code",
   "execution_count": 57,
   "metadata": {},
   "outputs": [
    {
     "name": "stdout",
     "output_type": "stream",
     "text": [
      "This is the format of your plot grid:\n",
      "[ (1,1) x1,y1 ]  [ (1,2) x2,y2 ]\n",
      "\n"
     ]
    },
    {
     "data": {
      "text/html": [
       "<iframe id=\"igraph\" scrolling=\"no\" style=\"border:none;\" seamless=\"seamless\" src=\"https://plot.ly/~pjakimow/26.embed\" height=\"500px\" width=\"1000px\"></iframe>"
      ],
      "text/plain": [
       "<plotly.tools.PlotlyDisplay object>"
      ]
     },
     "execution_count": 57,
     "metadata": {},
     "output_type": "execute_result"
    }
   ],
   "source": [
    "fig = get_plot_summer_winter(cities_summer, cities_winter, cities_pairs[0][0], n=20)\n",
    "py.iplot(fig, filename='plot')"
   ]
  },
  {
   "cell_type": "code",
   "execution_count": 417,
   "metadata": {},
   "outputs": [
    {
     "name": "stdout",
     "output_type": "stream",
     "text": [
      "This is the format of your plot grid:\n",
      "[ (1,1) x1,y1 ]  [ (1,2) x2,y2 ]\n",
      "\n"
     ]
    },
    {
     "data": {
      "text/html": [
       "<iframe id=\"igraph\" scrolling=\"no\" style=\"border:none;\" seamless=\"seamless\" src=\"https://plot.ly/~pjakimow/26.embed\" height=\"500px\" width=\"1000px\"></iframe>"
      ],
      "text/plain": [
       "<plotly.tools.PlotlyDisplay object>"
      ]
     },
     "execution_count": 417,
     "metadata": {},
     "output_type": "execute_result"
    }
   ],
   "source": [
    "fig = get_plot_summer_winter(cities_summer, cities_winter, cities_pairs[0][1], n=20)\n",
    "py.iplot(fig, filename='plot')"
   ]
  },
  {
   "cell_type": "code",
   "execution_count": 418,
   "metadata": {},
   "outputs": [
    {
     "name": "stdout",
     "output_type": "stream",
     "text": [
      "This is the format of your plot grid:\n",
      "[ (1,1) x1,y1 ]  [ (1,2) x2,y2 ]\n",
      "\n"
     ]
    },
    {
     "data": {
      "text/html": [
       "<iframe id=\"igraph\" scrolling=\"no\" style=\"border:none;\" seamless=\"seamless\" src=\"https://plot.ly/~pjakimow/26.embed\" height=\"500px\" width=\"1000px\"></iframe>"
      ],
      "text/plain": [
       "<plotly.tools.PlotlyDisplay object>"
      ]
     },
     "execution_count": 418,
     "metadata": {},
     "output_type": "execute_result"
    }
   ],
   "source": [
    "fig = get_plot_summer_winter(cities_summer, cities_winter, cities_pairs[1][0], n=20)\n",
    "py.iplot(fig, filename='plot')"
   ]
  },
  {
   "cell_type": "code",
   "execution_count": 419,
   "metadata": {},
   "outputs": [
    {
     "name": "stdout",
     "output_type": "stream",
     "text": [
      "This is the format of your plot grid:\n",
      "[ (1,1) x1,y1 ]  [ (1,2) x2,y2 ]\n",
      "\n"
     ]
    },
    {
     "data": {
      "text/html": [
       "<iframe id=\"igraph\" scrolling=\"no\" style=\"border:none;\" seamless=\"seamless\" src=\"https://plot.ly/~pjakimow/26.embed\" height=\"500px\" width=\"1000px\"></iframe>"
      ],
      "text/plain": [
       "<plotly.tools.PlotlyDisplay object>"
      ]
     },
     "execution_count": 419,
     "metadata": {},
     "output_type": "execute_result"
    }
   ],
   "source": [
    "fig = get_plot_summer_winter(cities_summer, cities_winter, cities_pairs[1][1], n=20)\n",
    "py.iplot(fig, filename='plot')"
   ]
  },
  {
   "cell_type": "code",
   "execution_count": 420,
   "metadata": {},
   "outputs": [
    {
     "name": "stdout",
     "output_type": "stream",
     "text": [
      "This is the format of your plot grid:\n",
      "[ (1,1) x1,y1 ]  [ (1,2) x2,y2 ]\n",
      "\n"
     ]
    },
    {
     "data": {
      "text/html": [
       "<iframe id=\"igraph\" scrolling=\"no\" style=\"border:none;\" seamless=\"seamless\" src=\"https://plot.ly/~pjakimow/26.embed\" height=\"500px\" width=\"1000px\"></iframe>"
      ],
      "text/plain": [
       "<plotly.tools.PlotlyDisplay object>"
      ]
     },
     "execution_count": 420,
     "metadata": {},
     "output_type": "execute_result"
    }
   ],
   "source": [
    "fig = get_plot_summer_winter(cities_summer, cities_winter, cities_pairs[2][0], n=20)\n",
    "py.iplot(fig, filename='plot')"
   ]
  },
  {
   "cell_type": "code",
   "execution_count": 421,
   "metadata": {
    "scrolled": false
   },
   "outputs": [
    {
     "name": "stdout",
     "output_type": "stream",
     "text": [
      "This is the format of your plot grid:\n",
      "[ (1,1) x1,y1 ]  [ (1,2) x2,y2 ]\n",
      "\n"
     ]
    },
    {
     "data": {
      "text/html": [
       "<iframe id=\"igraph\" scrolling=\"no\" style=\"border:none;\" seamless=\"seamless\" src=\"https://plot.ly/~pjakimow/26.embed\" height=\"500px\" width=\"1000px\"></iframe>"
      ],
      "text/plain": [
       "<plotly.tools.PlotlyDisplay object>"
      ]
     },
     "execution_count": 421,
     "metadata": {},
     "output_type": "execute_result"
    }
   ],
   "source": [
    "fig = get_plot_summer_winter(cities_summer, cities_winter, cities_pairs[2][1], n=20)\n",
    "py.iplot(fig, filename='plot')"
   ]
  },
  {
   "cell_type": "code",
   "execution_count": null,
   "metadata": {},
   "outputs": [],
   "source": []
  }
 ],
 "metadata": {
  "kernelspec": {
   "display_name": "Python 3",
   "language": "python",
   "name": "python3"
  },
  "language_info": {
   "codemirror_mode": {
    "name": "ipython",
    "version": 3
   },
   "file_extension": ".py",
   "mimetype": "text/x-python",
   "name": "python",
   "nbconvert_exporter": "python",
   "pygments_lexer": "ipython3",
   "version": "3.6.4"
  }
 },
 "nbformat": 4,
 "nbformat_minor": 2
}
