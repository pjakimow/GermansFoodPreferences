{
 "cells": [
  {
   "cell_type": "markdown",
   "metadata": {},
   "source": [
    "# Install and import"
   ]
  },
  {
   "cell_type": "code",
   "execution_count": null,
   "metadata": {},
   "outputs": [],
   "source": [
    "! pip install numpy\n",
    "! pip install pandas\n",
    "! pip install matplotlib\n",
    "! pip install pickle\n",
    "! pip install plotly\n",
    "! pip install chart-studio"
   ]
  },
  {
   "cell_type": "code",
   "execution_count": null,
   "metadata": {},
   "outputs": [],
   "source": [
    "import numpy as np\n",
    "import pandas as pd\n",
    "import matplotlib\n",
    "import matplotlib.pyplot as plt\n",
    "import operator\n",
    "import pickle"
   ]
  },
  {
   "cell_type": "markdown",
   "metadata": {},
   "source": [
    "# Plot categories"
   ]
  },
  {
   "cell_type": "code",
   "execution_count": null,
   "metadata": {},
   "outputs": [],
   "source": [
    "with open('files/to_plot/categories_count.txt', 'rb') as handle:\n",
    "    categories_counter = pickle.loads(handle.read())"
   ]
  },
  {
   "cell_type": "code",
   "execution_count": null,
   "metadata": {},
   "outputs": [],
   "source": [
    "sorted_desc = dict( sorted(categories_counter.items(), key=operator.itemgetter(1),reverse=True))"
   ]
  },
  {
   "cell_type": "code",
   "execution_count": null,
   "metadata": {},
   "outputs": [],
   "source": [
    "# take only n top results\n",
    "n = 30\n",
    "n_keys = list(sorted_desc.keys())[:n]\n",
    "n_values = [v for k, v in list(sorted_desc.items())[:n]]\n",
    "\n",
    "plt.bar(range(n), n_values)\n",
    "plt.ylabel('number of examples')\n",
    "plt.title('top '+str(n)+' categories')\n",
    "plt.xlabel('categories')\n",
    "plt.xticks(range(n), n_keys, rotation='vertical')\n",
    "plt.show()"
   ]
  },
  {
   "cell_type": "markdown",
   "metadata": {},
   "source": [
    "# Plotly settings"
   ]
  },
  {
   "cell_type": "code",
   "execution_count": null,
   "metadata": {},
   "outputs": [],
   "source": [
    "import plotly \n",
    "import chart_studio\n",
    "import chart_studio.plotly as py\n",
    "import plotly.graph_objs as go\n",
    "from plotly import subplots as tools"
   ]
  },
  {
   "cell_type": "code",
   "execution_count": null,
   "metadata": {},
   "outputs": [],
   "source": [
    "with open('plotly_config.txt') as file:\n",
    "    content = file.read()\n",
    "    \n",
    "username, api_key = content.split(';')\n",
    "print('usename:', username, '\\napi_key:', api_key)"
   ]
  },
  {
   "cell_type": "code",
   "execution_count": null,
   "metadata": {},
   "outputs": [],
   "source": [
    "chart_studio.tools.set_credentials_file(username=username, api_key=api_key)"
   ]
  },
  {
   "cell_type": "markdown",
   "metadata": {},
   "source": [
    "# Plot by season"
   ]
  },
  {
   "cell_type": "code",
   "execution_count": null,
   "metadata": {},
   "outputs": [],
   "source": [
    "with open('files/to_plot/categories_by_season.txt', 'rb') as handle:\n",
    "    categories_season = pickle.loads(handle.read())"
   ]
  },
  {
   "cell_type": "code",
   "execution_count": null,
   "metadata": {},
   "outputs": [],
   "source": [
    "# both seasons\n",
    "labels = list(categories_season.keys())\n",
    "\n",
    "sorted_desc = dict(sorted(categories_season[labels[0]].items(), key=operator.itemgetter(1),reverse=True))\n",
    "n_keys = list(sorted_desc.keys())[:n]\n",
    "n_values = [v for k, v in list(sorted_desc.items())[:n]]\n",
    "\n",
    "trace1 = go.Bar(x=n_keys, y=n_values)\n",
    "\n",
    "sorted_desc = dict(sorted(categories_season[labels[1]].items(), key=operator.itemgetter(1),reverse=True))\n",
    "n_keys = list(sorted_desc.keys())[:n]\n",
    "n_values = [v for k, v in list(sorted_desc.items())[:n]]\n",
    "\n",
    "trace2 = go.Bar(x=n_keys, y=n_values)\n",
    "\n",
    "fig = tools.make_subplots(rows=2, cols=1, subplot_titles=(labels[0], labels[1]))\n",
    "\n",
    "fig.append_trace(trace1, 1, 1)\n",
    "fig.append_trace(trace2, 2, 1)\n",
    "\n",
    "layout = {\n",
    "    'height': 600,\n",
    "    'width': 800,\n",
    "    'yaxis': {'title': 'number of examples'},\n",
    "    'title': 'Top ' + str(n) + ' categories',\n",
    "    'showlegend': False\n",
    "};\n",
    "fig['layout'].update(layout)\n",
    "\n",
    "py.iplot(fig, filename='all_cities_both_seasons')"
   ]
  },
  {
   "cell_type": "code",
   "execution_count": null,
   "metadata": {},
   "outputs": [],
   "source": [
    "# summer\n",
    "sorted_desc = dict(sorted(categories_season['summer'].items(), key=operator.itemgetter(1),reverse=True))\n",
    "n_keys = list(sorted_desc.keys())[:n]\n",
    "n_values = [v for k, v in list(sorted_desc.items())[:n]]\n",
    "\n",
    "trace = {\n",
    "  'x': n_keys,\n",
    "  'y': n_values,\n",
    "  'name': 'Trace',\n",
    "  'type': 'bar'\n",
    " }\n",
    " \n",
    "data = [trace];\n",
    "layout = {\n",
    "  #'xaxis': {'title': 'categories'},\n",
    "  'yaxis': {'title': 'number of examples'},\n",
    "  'barmode': 'relative',\n",
    "  'title': 'Top '+str(n)+' categories' + '<br> (summer)'\n",
    "};\n",
    "py.iplot({'data': data, 'layout': layout}, filename='all_cities_summer')"
   ]
  },
  {
   "cell_type": "code",
   "execution_count": null,
   "metadata": {},
   "outputs": [],
   "source": [
    "# winter\n",
    "sorted_desc = dict(sorted(categories_season['winter'].items(), key=operator.itemgetter(1),reverse=True))\n",
    "n_keys = list(sorted_desc.keys())[:n]\n",
    "n_values = [v for k, v in list(sorted_desc.items())[:n]]\n",
    "\n",
    "trace = {\n",
    "  'x': n_keys,\n",
    "  'y': n_values,\n",
    "  'name': 'Trace',\n",
    "  'type': 'bar'\n",
    " }\n",
    " \n",
    "data = [trace];\n",
    "layout = {\n",
    " # 'xaxis': {'title': 'categories'},\n",
    "  'yaxis': {'title': 'number of examples'},\n",
    "  'barmode': 'relative',\n",
    "  'title': 'Top '+str(n)+' categories' + '<br> (winter)'\n",
    "};\n",
    "py.iplot({'data': data, 'layout': layout}, filename='all_cities_winter')"
   ]
  },
  {
   "cell_type": "markdown",
   "metadata": {},
   "source": [
    "# Plot by city"
   ]
  },
  {
   "cell_type": "code",
   "execution_count": null,
   "metadata": {},
   "outputs": [],
   "source": [
    "with open('files/to_plot/categories_by_city.txt', 'rb') as handle:\n",
    "    categories_city = pickle.loads(handle.read())"
   ]
  },
  {
   "cell_type": "code",
   "execution_count": null,
   "metadata": {},
   "outputs": [],
   "source": [
    "cities_pairs = [('Berlin', 'Potsdam'), ('Koeln', 'Siegen'), ('Frankfurt_Am_Main', 'Darmstadt'), ('Munich', 'Erlangen'), ('Hamburg', 'Bremerhaven')]"
   ]
  },
  {
   "cell_type": "code",
   "execution_count": null,
   "metadata": {},
   "outputs": [],
   "source": [
    "# choose a city\n",
    "chosen_city = cities_pairs[0][0] # BERLIN\n",
    "#chosen_city = cities_pairs[0][1] # POTSDAM\n",
    "#chosen_city = cities_pairs[1][0] # KOELN\n",
    "#chosen_city = cities_pairs[1][1] # SIEGEN\n",
    "#chosen_city = cities_pairs[2][0] # FRANKFURT\n",
    "#chosen_city = cities_pairs[2][1] # DARMSTADT\n",
    "#chosen_city = cities_pairs[3][0] # MUNICH\n",
    "#chosen_city = cities_pairs[3][1] # ERLANGEN\n",
    "#chosen_city = cities_pairs[4][0] # HAMBURG\n",
    "#chosen_city = cities_pairs[4][1] # BREMERHAVEN"
   ]
  },
  {
   "cell_type": "code",
   "execution_count": null,
   "metadata": {},
   "outputs": [],
   "source": [
    "sorted_desc = dict(sorted(categories_city[chosen_city].items(), key=operator.itemgetter(1),reverse=True))\n",
    "n = 20\n",
    "n_keys = list(sorted_desc.keys())[:n]\n",
    "n_values = [v for k, v in list(sorted_desc.items())[:n]]\n",
    "\n",
    "trace = {\n",
    "  'x': n_keys,\n",
    "  'y': n_values,\n",
    "  'name': 'Trace',\n",
    "  'type': 'bar'\n",
    " }\n",
    " \n",
    "data = [trace];\n",
    "layout = {\n",
    " # 'xaxis': {'title': 'categories'},\n",
    "  'yaxis': {'title': 'number of examples'},\n",
    "  'barmode': 'relative',\n",
    "  'title': 'Top ' + str(n) + ' categories' + '<br> for ' + chosen_city\n",
    "};\n",
    "py.iplot({'data': data, 'layout': layout}, filename='top_categories_one_city')"
   ]
  },
  {
   "cell_type": "markdown",
   "metadata": {},
   "source": [
    "## Plot both cities from pair"
   ]
  },
  {
   "cell_type": "markdown",
   "metadata": {},
   "source": [
    "### Plots in one row"
   ]
  },
  {
   "cell_type": "markdown",
   "metadata": {},
   "source": [
    "pair_number: number of pair\n",
    "\n",
    "n: number of top n categories to show"
   ]
  },
  {
   "cell_type": "code",
   "execution_count": null,
   "metadata": {},
   "outputs": [],
   "source": [
    "def plot_categories_by_city(categories_city, cities_pairs, pair_nr, n):\n",
    "    labels = list(cities_pairs[pair_nr])\n",
    "    sorted_desc = dict(sorted(categories_city[labels[0]].items(), key=operator.itemgetter(1),reverse=True))\n",
    "    n_keys = list(sorted_desc.keys())[:n]\n",
    "    n_values = [v for k, v in list(sorted_desc.items())[:n]]\n",
    "\n",
    "    trace1 = go.Bar(x=n_keys, y=n_values, name=labels[0])\n",
    "\n",
    "    sorted_desc = dict(sorted(categories_city[labels[1]].items(), key=operator.itemgetter(1),reverse=True))\n",
    "    n_keys = list(sorted_desc.keys())[:n]\n",
    "    n_values = [v for k, v in list(sorted_desc.items())[:n]]\n",
    "\n",
    "    trace2 = go.Bar(x=n_keys, y=n_values, name=labels[1])\n",
    "\n",
    "    fig = tools.make_subplots(rows=1, cols=2, subplot_titles=(labels[0], labels[1]))\n",
    "\n",
    "    fig.append_trace(trace1, 1, 1)\n",
    "    fig.append_trace(trace2, 1, 2)\n",
    "\n",
    "    fig['layout'].update(height=500, width=1000, title='Top ' + str(n) + ' categories')\n",
    "    layout = {\n",
    "        'yaxis': {'title': 'number of examples'},\n",
    "    };\n",
    "    fig['layout'].update(layout)\n",
    "    \n",
    "    return fig"
   ]
  },
  {
   "cell_type": "code",
   "execution_count": null,
   "metadata": {},
   "outputs": [],
   "source": [
    "def plot_group_barmode(categories_city, cities_pairs, pair_nr, n):\n",
    "    labels = list(cities_pairs[pair_nr])\n",
    "    sorted_desc = dict(sorted(categories_city[labels[0]].items(), key=operator.itemgetter(1),reverse=True))\n",
    "    n_keys = list(sorted_desc.keys())[:n]\n",
    "    n_values = [v for k, v in list(sorted_desc.items())[:n]]\n",
    "\n",
    "    trace1 = go.Bar(x=n_keys, y=n_values, name=labels[0])\n",
    "\n",
    "    sorted_desc = dict(sorted(categories_city[labels[1]].items(), key=operator.itemgetter(1),reverse=True))\n",
    "    n_keys = list(sorted_desc.keys())[:n]\n",
    "    n_values = [v for k, v in list(sorted_desc.items())[:n]]\n",
    "\n",
    "    trace2 = go.Bar(x=n_keys, y=n_values, name=labels[1])\n",
    "\n",
    "    layout = go.Layout(\n",
    "        barmode='group',\n",
    "        title='Top ' + str(n) + ' categories',\n",
    "        yaxis=dict(\n",
    "            title='number of examples',\n",
    "            titlefont=dict(\n",
    "                size=14,\n",
    "                color='rgb(107, 107, 107)'\n",
    "            ),\n",
    "            tickfont=dict(\n",
    "                size=12,\n",
    "                color='rgb(107, 107, 107)'\n",
    "            )\n",
    "        ),\n",
    "        legend=dict(\n",
    "            x=1,\n",
    "            y=1.0,\n",
    "            bgcolor='rgba(255, 255, 255, 0)',\n",
    "            bordercolor='rgba(255, 255, 255, 0)'\n",
    "        )\n",
    "    )\n",
    "\n",
    "    fig = go.Figure(data=[trace1, trace2], layout=layout)\n",
    "    \n",
    "    return fig"
   ]
  },
  {
   "cell_type": "code",
   "execution_count": null,
   "metadata": {},
   "outputs": [],
   "source": [
    "def plot_overlay_barmode(categories_city, cities_pairs, pair_nr, n):\n",
    "    labels = list(cities_pairs[pair_nr])\n",
    "    sorted_desc = dict(sorted(categories_city[labels[0]].items(), key=operator.itemgetter(1),reverse=True))\n",
    "    n_keys = list(sorted_desc.keys())[:n]\n",
    "    n_values = [v for k, v in list(sorted_desc.items())[:n]]\n",
    "\n",
    "    trace1 = go.Bar(x=n_keys, y=n_values, name=labels[0])\n",
    "\n",
    "    sorted_desc = dict(sorted(categories_city[labels[1]].items(), key=operator.itemgetter(1),reverse=True))\n",
    "    n_keys = list(sorted_desc.keys())[:n]\n",
    "    n_values = [v for k, v in list(sorted_desc.items())[:n]]\n",
    "\n",
    "    trace2 = go.Bar(x=n_keys, y=n_values, name=labels[1])\n",
    "\n",
    "    layout = go.Layout(\n",
    "        barmode='overlay',\n",
    "        height=500,\n",
    "        width=1000,\n",
    "        title='Top ' + str(n) + ' categories',\n",
    "        yaxis=dict(\n",
    "            title='number of examples',\n",
    "            titlefont=dict(\n",
    "                size=14,\n",
    "                color='rgb(107, 107, 107)'\n",
    "            ),\n",
    "            tickfont=dict(\n",
    "                size=12,\n",
    "                color='rgb(107, 107, 107)'\n",
    "            )\n",
    "        ),\n",
    "        legend=dict(\n",
    "            x=1,\n",
    "            y=1.0,\n",
    "            bgcolor='rgba(255, 255, 255, 0)',\n",
    "            bordercolor='rgba(255, 255, 255, 0)'\n",
    "        )\n",
    "    )\n",
    "        \n",
    "    fig = go.Figure(data=[trace1, trace2], layout=layout)\n",
    "\n",
    "    return fig"
   ]
  },
  {
   "cell_type": "code",
   "execution_count": null,
   "metadata": {},
   "outputs": [],
   "source": [
    "fig = plot_overlay_barmode(categories_city, cities_pairs, pair_nr=0, n=20)\n",
    "py.iplot(fig, filename='top_categories_pair_of_cities_0')"
   ]
  },
  {
   "cell_type": "code",
   "execution_count": null,
   "metadata": {},
   "outputs": [],
   "source": [
    "fig = plot_categories_by_city(categories_city, cities_pairs, pair_nr=0, n=20)\n",
    "py.iplot(fig, filename='top_categories_pair_of_cities_0')"
   ]
  },
  {
   "cell_type": "code",
   "execution_count": null,
   "metadata": {},
   "outputs": [],
   "source": [
    "fig = plot_group_barmode(categories_city, cities_pairs, pair_nr=0, n=20)\n",
    "py.iplot(fig, filename='top_categories_pair_of_cities_0')"
   ]
  },
  {
   "cell_type": "code",
   "execution_count": null,
   "metadata": {},
   "outputs": [],
   "source": [
    "fig = plot_categories_by_city(categories_city, cities_pairs, pair_nr=1, n=20)\n",
    "py.iplot(fig, filename='top_categories_pair_of_cities_1')"
   ]
  },
  {
   "cell_type": "code",
   "execution_count": null,
   "metadata": {},
   "outputs": [],
   "source": [
    "fig = plot_categories_by_city(categories_city, cities_pairs, pair_nr=2, n=20)\n",
    "py.iplot(fig, filename='top_categories_pair_of_cities_2')"
   ]
  },
  {
   "cell_type": "code",
   "execution_count": null,
   "metadata": {},
   "outputs": [],
   "source": [
    "fig = plot_categories_by_city(categories_city, cities_pairs, pair_nr=3, n=20)\n",
    "py.iplot(fig, filename='top_categories_pair_of_cities_3')"
   ]
  },
  {
   "cell_type": "code",
   "execution_count": null,
   "metadata": {},
   "outputs": [],
   "source": [
    "fig = plot_categories_by_city(categories_city, cities_pairs, pair_nr=4, n=20)\n",
    "py.iplot(fig, filename='top_categories_pair_of_cities_4')"
   ]
  },
  {
   "cell_type": "markdown",
   "metadata": {},
   "source": [
    "# Plot by season and city"
   ]
  },
  {
   "cell_type": "code",
   "execution_count": null,
   "metadata": {},
   "outputs": [],
   "source": [
    "def get_plot_summer_winter(cities_summer, cities_winter, city, n=20):\n",
    "    sorted_desc = dict(sorted(cities_summer[city].items(), key=operator.itemgetter(1),reverse=True))\n",
    "    n_keys = list(sorted_desc.keys())[:n]\n",
    "    n_values = [v for k, v in list(sorted_desc.items())[:n]]\n",
    "\n",
    "    trace1 = go.Bar(x=n_keys, y=n_values, name='summer')\n",
    "\n",
    "    sorted_desc = dict(sorted(cities_winter[city].items(), key=operator.itemgetter(1),reverse=True))\n",
    "    n_keys = list(sorted_desc.keys())[:n]\n",
    "    n_values = [v for k, v in list(sorted_desc.items())[:n]]\n",
    "\n",
    "    trace2 = go.Bar(x=n_keys, y=n_values, name='winter')\n",
    "\n",
    "    fig = tools.make_subplots(rows=1, cols=2, subplot_titles=('summer', 'winter'))\n",
    "\n",
    "    fig.append_trace(trace1, 1, 1)\n",
    "    fig.append_trace(trace2, 1, 2)\n",
    "\n",
    "    fig['layout'].update(height=500, width=1000, title='Top ' + str(n) + ' categories <br> for '+city)\n",
    "    \n",
    "    layout = {\n",
    "        'yaxis': {'title': 'number of examples'},\n",
    "    };\n",
    "    fig['layout'].update(layout)\n",
    "\n",
    "    return fig"
   ]
  },
  {
   "cell_type": "code",
   "execution_count": null,
   "metadata": {},
   "outputs": [],
   "source": [
    "with open('files/to_plot/categories_by_cities_summer.txt', 'rb') as handle:\n",
    "    cities_summer = pickle.loads(handle.read())"
   ]
  },
  {
   "cell_type": "code",
   "execution_count": null,
   "metadata": {},
   "outputs": [],
   "source": [
    "with open('files/to_plot/categories_by_cities_winter.txt', 'rb') as handle:\n",
    "    cities_winter = pickle.loads(handle.read())"
   ]
  },
  {
   "cell_type": "code",
   "execution_count": null,
   "metadata": {},
   "outputs": [],
   "source": [
    "fig = get_plot_summer_winter(cities_summer, cities_winter, cities_pairs[0][0], n=20)\n",
    "py.iplot(fig, filename='plot')"
   ]
  },
  {
   "cell_type": "code",
   "execution_count": null,
   "metadata": {},
   "outputs": [],
   "source": [
    "fig = get_plot_summer_winter(cities_summer, cities_winter, cities_pairs[0][1], n=20)\n",
    "py.iplot(fig, filename='plot')"
   ]
  },
  {
   "cell_type": "code",
   "execution_count": null,
   "metadata": {},
   "outputs": [],
   "source": [
    "fig = get_plot_summer_winter(cities_summer, cities_winter, cities_pairs[1][0], n=20)\n",
    "py.iplot(fig, filename='plot')"
   ]
  },
  {
   "cell_type": "code",
   "execution_count": null,
   "metadata": {},
   "outputs": [],
   "source": [
    "fig = get_plot_summer_winter(cities_summer, cities_winter, cities_pairs[1][1], n=20)\n",
    "py.iplot(fig, filename='plot')"
   ]
  },
  {
   "cell_type": "code",
   "execution_count": null,
   "metadata": {},
   "outputs": [],
   "source": [
    "fig = get_plot_summer_winter(cities_summer, cities_winter, cities_pairs[2][0], n=20)\n",
    "py.iplot(fig, filename='plot')"
   ]
  },
  {
   "cell_type": "code",
   "execution_count": null,
   "metadata": {
    "scrolled": false
   },
   "outputs": [],
   "source": [
    "fig = get_plot_summer_winter(cities_summer, cities_winter, cities_pairs[2][1], n=20)\n",
    "py.iplot(fig, filename='plot')"
   ]
  },
  {
   "cell_type": "code",
   "execution_count": null,
   "metadata": {},
   "outputs": [],
   "source": []
  }
 ],
 "metadata": {
  "kernelspec": {
   "display_name": "Python 3",
   "language": "python",
   "name": "python3"
  },
  "language_info": {
   "codemirror_mode": {
    "name": "ipython",
    "version": 3
   },
   "file_extension": ".py",
   "mimetype": "text/x-python",
   "name": "python",
   "nbconvert_exporter": "python",
   "pygments_lexer": "ipython3",
   "version": "3.6.4"
  }
 },
 "nbformat": 4,
 "nbformat_minor": 2
}
