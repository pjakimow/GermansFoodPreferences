{
 "cells": [
  {
   "cell_type": "markdown",
   "metadata": {},
   "source": [
    "This file was created to unify columns, because given file consist of data accumulated from many files."
   ]
  },
  {
   "cell_type": "code",
   "execution_count": 1,
   "metadata": {},
   "outputs": [],
   "source": [
    "import numpy as np\n",
    "import pandas as pd\n",
    "import matplotlib.pyplot as plt"
   ]
  },
  {
   "cell_type": "code",
   "execution_count": 2,
   "metadata": {},
   "outputs": [],
   "source": [
    "path = 'C:/Users/Patrycja/Desktop/Uni Koblenz/CSS/GermansFoodPreferences/data_V2.csv'"
   ]
  },
  {
   "cell_type": "code",
   "execution_count": 3,
   "metadata": {},
   "outputs": [],
   "source": [
    "df = pd.read_csv(path, sep=',', encoding='ISO-8859-1')"
   ]
  },
  {
   "cell_type": "code",
   "execution_count": 4,
   "metadata": {},
   "outputs": [
    {
     "data": {
      "text/html": [
       "<div>\n",
       "<style scoped>\n",
       "    .dataframe tbody tr th:only-of-type {\n",
       "        vertical-align: middle;\n",
       "    }\n",
       "\n",
       "    .dataframe tbody tr th {\n",
       "        vertical-align: top;\n",
       "    }\n",
       "\n",
       "    .dataframe thead th {\n",
       "        text-align: right;\n",
       "    }\n",
       "</style>\n",
       "<table border=\"1\" class=\"dataframe\">\n",
       "  <thead>\n",
       "    <tr style=\"text-align: right;\">\n",
       "      <th></th>\n",
       "      <th>date</th>\n",
       "      <th>recipe_id</th>\n",
       "      <th>country</th>\n",
       "      <th>region</th>\n",
       "      <th>city</th>\n",
       "      <th>categories</th>\n",
       "    </tr>\n",
       "  </thead>\n",
       "  <tbody>\n",
       "    <tr>\n",
       "      <th>0</th>\n",
       "      <td>08.07.2013 00:14</td>\n",
       "      <td>87621.0</td>\n",
       "      <td>DE</td>\n",
       "      <td>5.0</td>\n",
       "      <td>Frankfurt_Am_Main</td>\n",
       "      <td>['Thueringer Kueche', 'Zwischengericht', 'ohne...</td>\n",
       "    </tr>\n",
       "    <tr>\n",
       "      <th>1</th>\n",
       "      <td>08.07.2013 00:15</td>\n",
       "      <td>206682.0</td>\n",
       "      <td>DE</td>\n",
       "      <td>5.0</td>\n",
       "      <td>Frankfurt_Am_Main</td>\n",
       "      <td>['Kuchen/Torte', 'Dessert', 'ohne Weizen']</td>\n",
       "    </tr>\n",
       "    <tr>\n",
       "      <th>2</th>\n",
       "      <td>08.07.2013 00:15</td>\n",
       "      <td>342535.0</td>\n",
       "      <td>DE</td>\n",
       "      <td>5.0</td>\n",
       "      <td>Frankfurt_Am_Main</td>\n",
       "      <td>['Dips/Cremes/Saucen', 'Exotische Kueche', 'oh...</td>\n",
       "    </tr>\n",
       "    <tr>\n",
       "      <th>3</th>\n",
       "      <td>08.07.2013 00:16</td>\n",
       "      <td>368688.0</td>\n",
       "      <td>DE</td>\n",
       "      <td>5.0</td>\n",
       "      <td>Frankfurt_Am_Main</td>\n",
       "      <td>['kalt', 'mit Alkohol', 'Zwischenmahlzeit', 'H...</td>\n",
       "    </tr>\n",
       "    <tr>\n",
       "      <th>4</th>\n",
       "      <td>08.07.2013 00:16</td>\n",
       "      <td>177274.0</td>\n",
       "      <td>DE</td>\n",
       "      <td>5.0</td>\n",
       "      <td>Frankfurt_Am_Main</td>\n",
       "      <td>['Auflauf /Ueberbackenes', 'Brot', 'Eingemacht...</td>\n",
       "    </tr>\n",
       "  </tbody>\n",
       "</table>\n",
       "</div>"
      ],
      "text/plain": [
       "               date  recipe_id country  region               city  \\\n",
       "0  08.07.2013 00:14    87621.0      DE     5.0  Frankfurt_Am_Main   \n",
       "1  08.07.2013 00:15   206682.0      DE     5.0  Frankfurt_Am_Main   \n",
       "2  08.07.2013 00:15   342535.0      DE     5.0  Frankfurt_Am_Main   \n",
       "3  08.07.2013 00:16   368688.0      DE     5.0  Frankfurt_Am_Main   \n",
       "4  08.07.2013 00:16   177274.0      DE     5.0  Frankfurt_Am_Main   \n",
       "\n",
       "                                          categories  \n",
       "0  ['Thueringer Kueche', 'Zwischengericht', 'ohne...  \n",
       "1         ['Kuchen/Torte', 'Dessert', 'ohne Weizen']  \n",
       "2  ['Dips/Cremes/Saucen', 'Exotische Kueche', 'oh...  \n",
       "3  ['kalt', 'mit Alkohol', 'Zwischenmahlzeit', 'H...  \n",
       "4  ['Auflauf /Ueberbackenes', 'Brot', 'Eingemacht...  "
      ]
     },
     "execution_count": 4,
     "metadata": {},
     "output_type": "execute_result"
    }
   ],
   "source": [
    "df.head()"
   ]
  },
  {
   "cell_type": "markdown",
   "metadata": {},
   "source": [
    "## Extract date, time and season"
   ]
  },
  {
   "cell_type": "code",
   "execution_count": 7,
   "metadata": {},
   "outputs": [],
   "source": [
    "df['day'] = [day_hour[0] for day_hour in (date.split(' ') for date in df.date)]\n",
    "df['hour'] = [day_hour[1] for day_hour in (date.split(' ') for date in df.date)]"
   ]
  },
  {
   "cell_type": "code",
   "execution_count": 8,
   "metadata": {},
   "outputs": [
    {
     "data": {
      "text/html": [
       "<div>\n",
       "<style scoped>\n",
       "    .dataframe tbody tr th:only-of-type {\n",
       "        vertical-align: middle;\n",
       "    }\n",
       "\n",
       "    .dataframe tbody tr th {\n",
       "        vertical-align: top;\n",
       "    }\n",
       "\n",
       "    .dataframe thead th {\n",
       "        text-align: right;\n",
       "    }\n",
       "</style>\n",
       "<table border=\"1\" class=\"dataframe\">\n",
       "  <thead>\n",
       "    <tr style=\"text-align: right;\">\n",
       "      <th></th>\n",
       "      <th>date</th>\n",
       "      <th>recipe_id</th>\n",
       "      <th>country</th>\n",
       "      <th>region</th>\n",
       "      <th>city</th>\n",
       "      <th>categories</th>\n",
       "      <th>day</th>\n",
       "      <th>hour</th>\n",
       "    </tr>\n",
       "  </thead>\n",
       "  <tbody>\n",
       "    <tr>\n",
       "      <th>0</th>\n",
       "      <td>08.07.2013 00:14</td>\n",
       "      <td>87621.0</td>\n",
       "      <td>DE</td>\n",
       "      <td>5.0</td>\n",
       "      <td>Frankfurt_Am_Main</td>\n",
       "      <td>['Thueringer Kueche', 'Zwischengericht', 'ohne...</td>\n",
       "      <td>08.07.2013</td>\n",
       "      <td>00:14</td>\n",
       "    </tr>\n",
       "    <tr>\n",
       "      <th>1</th>\n",
       "      <td>08.07.2013 00:15</td>\n",
       "      <td>206682.0</td>\n",
       "      <td>DE</td>\n",
       "      <td>5.0</td>\n",
       "      <td>Frankfurt_Am_Main</td>\n",
       "      <td>['Kuchen/Torte', 'Dessert', 'ohne Weizen']</td>\n",
       "      <td>08.07.2013</td>\n",
       "      <td>00:15</td>\n",
       "    </tr>\n",
       "    <tr>\n",
       "      <th>2</th>\n",
       "      <td>08.07.2013 00:15</td>\n",
       "      <td>342535.0</td>\n",
       "      <td>DE</td>\n",
       "      <td>5.0</td>\n",
       "      <td>Frankfurt_Am_Main</td>\n",
       "      <td>['Dips/Cremes/Saucen', 'Exotische Kueche', 'oh...</td>\n",
       "      <td>08.07.2013</td>\n",
       "      <td>00:15</td>\n",
       "    </tr>\n",
       "    <tr>\n",
       "      <th>3</th>\n",
       "      <td>08.07.2013 00:16</td>\n",
       "      <td>368688.0</td>\n",
       "      <td>DE</td>\n",
       "      <td>5.0</td>\n",
       "      <td>Frankfurt_Am_Main</td>\n",
       "      <td>['kalt', 'mit Alkohol', 'Zwischenmahlzeit', 'H...</td>\n",
       "      <td>08.07.2013</td>\n",
       "      <td>00:16</td>\n",
       "    </tr>\n",
       "    <tr>\n",
       "      <th>4</th>\n",
       "      <td>08.07.2013 00:16</td>\n",
       "      <td>177274.0</td>\n",
       "      <td>DE</td>\n",
       "      <td>5.0</td>\n",
       "      <td>Frankfurt_Am_Main</td>\n",
       "      <td>['Auflauf /Ueberbackenes', 'Brot', 'Eingemacht...</td>\n",
       "      <td>08.07.2013</td>\n",
       "      <td>00:16</td>\n",
       "    </tr>\n",
       "  </tbody>\n",
       "</table>\n",
       "</div>"
      ],
      "text/plain": [
       "               date  recipe_id country  region               city  \\\n",
       "0  08.07.2013 00:14    87621.0      DE     5.0  Frankfurt_Am_Main   \n",
       "1  08.07.2013 00:15   206682.0      DE     5.0  Frankfurt_Am_Main   \n",
       "2  08.07.2013 00:15   342535.0      DE     5.0  Frankfurt_Am_Main   \n",
       "3  08.07.2013 00:16   368688.0      DE     5.0  Frankfurt_Am_Main   \n",
       "4  08.07.2013 00:16   177274.0      DE     5.0  Frankfurt_Am_Main   \n",
       "\n",
       "                                          categories         day   hour  \n",
       "0  ['Thueringer Kueche', 'Zwischengericht', 'ohne...  08.07.2013  00:14  \n",
       "1         ['Kuchen/Torte', 'Dessert', 'ohne Weizen']  08.07.2013  00:15  \n",
       "2  ['Dips/Cremes/Saucen', 'Exotische Kueche', 'oh...  08.07.2013  00:15  \n",
       "3  ['kalt', 'mit Alkohol', 'Zwischenmahlzeit', 'H...  08.07.2013  00:16  \n",
       "4  ['Auflauf /Ueberbackenes', 'Brot', 'Eingemacht...  08.07.2013  00:16  "
      ]
     },
     "execution_count": 8,
     "metadata": {},
     "output_type": "execute_result"
    }
   ],
   "source": [
    "df.head()"
   ]
  },
  {
   "cell_type": "code",
   "execution_count": 9,
   "metadata": {},
   "outputs": [
    {
     "name": "stdout",
     "output_type": "stream",
     "text": [
      "The list contains 1610582 elements. The dataframe contains 1610582 elements.\n"
     ]
    }
   ],
   "source": [
    "dates = [date_time[0] for date_time in (date_time.split(' ') for date_time in df.date)]\n",
    "print('The list contains', len(dates), 'elements. The dataframe contains', len(df), 'elements.')"
   ]
  },
  {
   "cell_type": "markdown",
   "metadata": {},
   "source": [
    "### Unify formatting"
   ]
  },
  {
   "cell_type": "code",
   "execution_count": 10,
   "metadata": {},
   "outputs": [],
   "source": [
    "import datetime"
   ]
  },
  {
   "cell_type": "code",
   "execution_count": 11,
   "metadata": {},
   "outputs": [],
   "source": [
    "dates_unified = []\n",
    "for date in dates:\n",
    "    try:\n",
    "        dates_unified += [datetime.datetime.strptime(date, '%Y-%m-%d').strftime('%d/%m/%Y')]\n",
    "    except ValueError:\n",
    "        try:\n",
    "            dates_unified += [datetime.datetime.strptime(date, '%d.%m.%Y').strftime('%d/%m/%Y')]\n",
    "        except ValueError:\n",
    "            try:\n",
    "                dates_unified += [datetime.datetime.strptime(date, '%m/%d/%y').strftime('%d/%m/%Y')]\n",
    "            except ValueError:\n",
    "                dates_unified += [datetime.datetime.strptime(date, '%m/%d/%Y').strftime('%d/%m/%Y')]"
   ]
  },
  {
   "cell_type": "code",
   "execution_count": 12,
   "metadata": {},
   "outputs": [],
   "source": [
    "df.day = dates_unified"
   ]
  },
  {
   "cell_type": "code",
   "execution_count": 13,
   "metadata": {},
   "outputs": [
    {
     "data": {
      "text/html": [
       "<div>\n",
       "<style scoped>\n",
       "    .dataframe tbody tr th:only-of-type {\n",
       "        vertical-align: middle;\n",
       "    }\n",
       "\n",
       "    .dataframe tbody tr th {\n",
       "        vertical-align: top;\n",
       "    }\n",
       "\n",
       "    .dataframe thead th {\n",
       "        text-align: right;\n",
       "    }\n",
       "</style>\n",
       "<table border=\"1\" class=\"dataframe\">\n",
       "  <thead>\n",
       "    <tr style=\"text-align: right;\">\n",
       "      <th></th>\n",
       "      <th>date</th>\n",
       "      <th>recipe_id</th>\n",
       "      <th>country</th>\n",
       "      <th>region</th>\n",
       "      <th>city</th>\n",
       "      <th>categories</th>\n",
       "      <th>day</th>\n",
       "      <th>hour</th>\n",
       "    </tr>\n",
       "  </thead>\n",
       "  <tbody>\n",
       "    <tr>\n",
       "      <th>0</th>\n",
       "      <td>08.07.2013 00:14</td>\n",
       "      <td>87621.0</td>\n",
       "      <td>DE</td>\n",
       "      <td>5.0</td>\n",
       "      <td>Frankfurt_Am_Main</td>\n",
       "      <td>['Thueringer Kueche', 'Zwischengericht', 'ohne...</td>\n",
       "      <td>08/07/2013</td>\n",
       "      <td>00:14</td>\n",
       "    </tr>\n",
       "    <tr>\n",
       "      <th>1</th>\n",
       "      <td>08.07.2013 00:15</td>\n",
       "      <td>206682.0</td>\n",
       "      <td>DE</td>\n",
       "      <td>5.0</td>\n",
       "      <td>Frankfurt_Am_Main</td>\n",
       "      <td>['Kuchen/Torte', 'Dessert', 'ohne Weizen']</td>\n",
       "      <td>08/07/2013</td>\n",
       "      <td>00:15</td>\n",
       "    </tr>\n",
       "    <tr>\n",
       "      <th>2</th>\n",
       "      <td>08.07.2013 00:15</td>\n",
       "      <td>342535.0</td>\n",
       "      <td>DE</td>\n",
       "      <td>5.0</td>\n",
       "      <td>Frankfurt_Am_Main</td>\n",
       "      <td>['Dips/Cremes/Saucen', 'Exotische Kueche', 'oh...</td>\n",
       "      <td>08/07/2013</td>\n",
       "      <td>00:15</td>\n",
       "    </tr>\n",
       "    <tr>\n",
       "      <th>3</th>\n",
       "      <td>08.07.2013 00:16</td>\n",
       "      <td>368688.0</td>\n",
       "      <td>DE</td>\n",
       "      <td>5.0</td>\n",
       "      <td>Frankfurt_Am_Main</td>\n",
       "      <td>['kalt', 'mit Alkohol', 'Zwischenmahlzeit', 'H...</td>\n",
       "      <td>08/07/2013</td>\n",
       "      <td>00:16</td>\n",
       "    </tr>\n",
       "    <tr>\n",
       "      <th>4</th>\n",
       "      <td>08.07.2013 00:16</td>\n",
       "      <td>177274.0</td>\n",
       "      <td>DE</td>\n",
       "      <td>5.0</td>\n",
       "      <td>Frankfurt_Am_Main</td>\n",
       "      <td>['Auflauf /Ueberbackenes', 'Brot', 'Eingemacht...</td>\n",
       "      <td>08/07/2013</td>\n",
       "      <td>00:16</td>\n",
       "    </tr>\n",
       "  </tbody>\n",
       "</table>\n",
       "</div>"
      ],
      "text/plain": [
       "               date  recipe_id country  region               city  \\\n",
       "0  08.07.2013 00:14    87621.0      DE     5.0  Frankfurt_Am_Main   \n",
       "1  08.07.2013 00:15   206682.0      DE     5.0  Frankfurt_Am_Main   \n",
       "2  08.07.2013 00:15   342535.0      DE     5.0  Frankfurt_Am_Main   \n",
       "3  08.07.2013 00:16   368688.0      DE     5.0  Frankfurt_Am_Main   \n",
       "4  08.07.2013 00:16   177274.0      DE     5.0  Frankfurt_Am_Main   \n",
       "\n",
       "                                          categories         day   hour  \n",
       "0  ['Thueringer Kueche', 'Zwischengericht', 'ohne...  08/07/2013  00:14  \n",
       "1         ['Kuchen/Torte', 'Dessert', 'ohne Weizen']  08/07/2013  00:15  \n",
       "2  ['Dips/Cremes/Saucen', 'Exotische Kueche', 'oh...  08/07/2013  00:15  \n",
       "3  ['kalt', 'mit Alkohol', 'Zwischenmahlzeit', 'H...  08/07/2013  00:16  \n",
       "4  ['Auflauf /Ueberbackenes', 'Brot', 'Eingemacht...  08/07/2013  00:16  "
      ]
     },
     "execution_count": 13,
     "metadata": {},
     "output_type": "execute_result"
    }
   ],
   "source": [
    "df.head()"
   ]
  },
  {
   "cell_type": "code",
   "execution_count": 14,
   "metadata": {},
   "outputs": [
    {
     "name": "stdout",
     "output_type": "stream",
     "text": [
      "Min: 01/01/2014 \n",
      "Max: 31/07/2013\n",
      "It doesn't compare correctly.\n"
     ]
    }
   ],
   "source": [
    "print('Min:', min(dates_unified),'\\nMax:', max(dates_unified))\n",
    "print(\"It doesn't compare correctly.\")"
   ]
  },
  {
   "cell_type": "code",
   "execution_count": 23,
   "metadata": {},
   "outputs": [
    {
     "name": "stdout",
     "output_type": "stream",
     "text": [
      "Dates we have:\n"
     ]
    },
    {
     "data": {
      "text/plain": [
       "{'01/01/2014',\n",
       " '01/02/2014',\n",
       " '01/07/2013',\n",
       " '02/01/2014',\n",
       " '02/07/2013',\n",
       " '03/01/2014',\n",
       " '03/07/2013',\n",
       " '04/01/2014',\n",
       " '04/07/2013',\n",
       " '05/01/2014',\n",
       " '05/07/2013',\n",
       " '06/01/2014',\n",
       " '06/07/2013',\n",
       " '07/01/2014',\n",
       " '07/07/2013',\n",
       " '08/01/2014',\n",
       " '08/07/2013',\n",
       " '09/01/2014',\n",
       " '09/07/2013',\n",
       " '10/01/2014',\n",
       " '10/07/2013',\n",
       " '11/01/2014',\n",
       " '11/07/2013',\n",
       " '12/01/2014',\n",
       " '12/07/2013',\n",
       " '13/01/2014',\n",
       " '13/07/2013',\n",
       " '14/01/2014',\n",
       " '14/07/2013',\n",
       " '15/01/2014',\n",
       " '15/07/2013',\n",
       " '16/07/2013',\n",
       " '17/07/2013',\n",
       " '18/07/2013',\n",
       " '19/07/2013',\n",
       " '20/07/2013',\n",
       " '21/07/2013',\n",
       " '22/07/2013',\n",
       " '23/07/2013',\n",
       " '24/07/2013',\n",
       " '25/07/2013',\n",
       " '26/07/2013',\n",
       " '27/07/2013',\n",
       " '28/07/2013',\n",
       " '29/07/2013',\n",
       " '30/07/2013',\n",
       " '31/07/2013'}"
      ]
     },
     "execution_count": 23,
     "metadata": {},
     "output_type": "execute_result"
    }
   ],
   "source": [
    "print('Dates we have:')\n",
    "set(dates_unified)"
   ]
  },
  {
   "cell_type": "code",
   "execution_count": 15,
   "metadata": {},
   "outputs": [],
   "source": [
    "df['season'] = ['summer' if datetime.datetime.strptime(day, '%d/%m/%Y').month == 7 else 'winter' for day in df.day]"
   ]
  },
  {
   "cell_type": "code",
   "execution_count": 16,
   "metadata": {},
   "outputs": [
    {
     "data": {
      "text/html": [
       "<div>\n",
       "<style scoped>\n",
       "    .dataframe tbody tr th:only-of-type {\n",
       "        vertical-align: middle;\n",
       "    }\n",
       "\n",
       "    .dataframe tbody tr th {\n",
       "        vertical-align: top;\n",
       "    }\n",
       "\n",
       "    .dataframe thead th {\n",
       "        text-align: right;\n",
       "    }\n",
       "</style>\n",
       "<table border=\"1\" class=\"dataframe\">\n",
       "  <thead>\n",
       "    <tr style=\"text-align: right;\">\n",
       "      <th></th>\n",
       "      <th>date</th>\n",
       "      <th>recipe_id</th>\n",
       "      <th>country</th>\n",
       "      <th>region</th>\n",
       "      <th>city</th>\n",
       "      <th>categories</th>\n",
       "      <th>day</th>\n",
       "      <th>hour</th>\n",
       "      <th>season</th>\n",
       "    </tr>\n",
       "  </thead>\n",
       "  <tbody>\n",
       "    <tr>\n",
       "      <th>0</th>\n",
       "      <td>08.07.2013 00:14</td>\n",
       "      <td>87621.0</td>\n",
       "      <td>DE</td>\n",
       "      <td>5.0</td>\n",
       "      <td>Frankfurt_Am_Main</td>\n",
       "      <td>['Thueringer Kueche', 'Zwischengericht', 'ohne...</td>\n",
       "      <td>08/07/2013</td>\n",
       "      <td>00:14</td>\n",
       "      <td>summer</td>\n",
       "    </tr>\n",
       "    <tr>\n",
       "      <th>1</th>\n",
       "      <td>08.07.2013 00:15</td>\n",
       "      <td>206682.0</td>\n",
       "      <td>DE</td>\n",
       "      <td>5.0</td>\n",
       "      <td>Frankfurt_Am_Main</td>\n",
       "      <td>['Kuchen/Torte', 'Dessert', 'ohne Weizen']</td>\n",
       "      <td>08/07/2013</td>\n",
       "      <td>00:15</td>\n",
       "      <td>summer</td>\n",
       "    </tr>\n",
       "    <tr>\n",
       "      <th>2</th>\n",
       "      <td>08.07.2013 00:15</td>\n",
       "      <td>342535.0</td>\n",
       "      <td>DE</td>\n",
       "      <td>5.0</td>\n",
       "      <td>Frankfurt_Am_Main</td>\n",
       "      <td>['Dips/Cremes/Saucen', 'Exotische Kueche', 'oh...</td>\n",
       "      <td>08/07/2013</td>\n",
       "      <td>00:15</td>\n",
       "      <td>summer</td>\n",
       "    </tr>\n",
       "    <tr>\n",
       "      <th>3</th>\n",
       "      <td>08.07.2013 00:16</td>\n",
       "      <td>368688.0</td>\n",
       "      <td>DE</td>\n",
       "      <td>5.0</td>\n",
       "      <td>Frankfurt_Am_Main</td>\n",
       "      <td>['kalt', 'mit Alkohol', 'Zwischenmahlzeit', 'H...</td>\n",
       "      <td>08/07/2013</td>\n",
       "      <td>00:16</td>\n",
       "      <td>summer</td>\n",
       "    </tr>\n",
       "    <tr>\n",
       "      <th>4</th>\n",
       "      <td>08.07.2013 00:16</td>\n",
       "      <td>177274.0</td>\n",
       "      <td>DE</td>\n",
       "      <td>5.0</td>\n",
       "      <td>Frankfurt_Am_Main</td>\n",
       "      <td>['Auflauf /Ueberbackenes', 'Brot', 'Eingemacht...</td>\n",
       "      <td>08/07/2013</td>\n",
       "      <td>00:16</td>\n",
       "      <td>summer</td>\n",
       "    </tr>\n",
       "  </tbody>\n",
       "</table>\n",
       "</div>"
      ],
      "text/plain": [
       "               date  recipe_id country  region               city  \\\n",
       "0  08.07.2013 00:14    87621.0      DE     5.0  Frankfurt_Am_Main   \n",
       "1  08.07.2013 00:15   206682.0      DE     5.0  Frankfurt_Am_Main   \n",
       "2  08.07.2013 00:15   342535.0      DE     5.0  Frankfurt_Am_Main   \n",
       "3  08.07.2013 00:16   368688.0      DE     5.0  Frankfurt_Am_Main   \n",
       "4  08.07.2013 00:16   177274.0      DE     5.0  Frankfurt_Am_Main   \n",
       "\n",
       "                                          categories         day   hour  \\\n",
       "0  ['Thueringer Kueche', 'Zwischengericht', 'ohne...  08/07/2013  00:14   \n",
       "1         ['Kuchen/Torte', 'Dessert', 'ohne Weizen']  08/07/2013  00:15   \n",
       "2  ['Dips/Cremes/Saucen', 'Exotische Kueche', 'oh...  08/07/2013  00:15   \n",
       "3  ['kalt', 'mit Alkohol', 'Zwischenmahlzeit', 'H...  08/07/2013  00:16   \n",
       "4  ['Auflauf /Ueberbackenes', 'Brot', 'Eingemacht...  08/07/2013  00:16   \n",
       "\n",
       "   season  \n",
       "0  summer  \n",
       "1  summer  \n",
       "2  summer  \n",
       "3  summer  \n",
       "4  summer  "
      ]
     },
     "execution_count": 16,
     "metadata": {},
     "output_type": "execute_result"
    }
   ],
   "source": [
    "df.head()"
   ]
  },
  {
   "cell_type": "code",
   "execution_count": 17,
   "metadata": {},
   "outputs": [
    {
     "data": {
      "text/html": [
       "<div>\n",
       "<style scoped>\n",
       "    .dataframe tbody tr th:only-of-type {\n",
       "        vertical-align: middle;\n",
       "    }\n",
       "\n",
       "    .dataframe tbody tr th {\n",
       "        vertical-align: top;\n",
       "    }\n",
       "\n",
       "    .dataframe thead th {\n",
       "        text-align: right;\n",
       "    }\n",
       "</style>\n",
       "<table border=\"1\" class=\"dataframe\">\n",
       "  <thead>\n",
       "    <tr style=\"text-align: right;\">\n",
       "      <th></th>\n",
       "      <th>date</th>\n",
       "      <th>recipe_id</th>\n",
       "      <th>country</th>\n",
       "      <th>region</th>\n",
       "      <th>city</th>\n",
       "      <th>categories</th>\n",
       "      <th>day</th>\n",
       "      <th>hour</th>\n",
       "      <th>season</th>\n",
       "    </tr>\n",
       "  </thead>\n",
       "  <tbody>\n",
       "    <tr>\n",
       "      <th>1610577</th>\n",
       "      <td>1/6/2014 15:19</td>\n",
       "      <td>464982.0</td>\n",
       "      <td>DE</td>\n",
       "      <td>4.0</td>\n",
       "      <td>Hamburg</td>\n",
       "      <td>['Hauptspeise', 'Abendessen', 'Mittagstisch', ...</td>\n",
       "      <td>06/01/2014</td>\n",
       "      <td>15:19</td>\n",
       "      <td>winter</td>\n",
       "    </tr>\n",
       "    <tr>\n",
       "      <th>1610578</th>\n",
       "      <td>1/6/2014 15:19</td>\n",
       "      <td>282818.0</td>\n",
       "      <td>DE</td>\n",
       "      <td>7.0</td>\n",
       "      <td>Koeln</td>\n",
       "      <td>['Europa', 'Auflauf /Ueberbackenes', 'Suppen/E...</td>\n",
       "      <td>06/01/2014</td>\n",
       "      <td>15:19</td>\n",
       "      <td>winter</td>\n",
       "    </tr>\n",
       "    <tr>\n",
       "      <th>1610579</th>\n",
       "      <td>1/6/2014 15:19</td>\n",
       "      <td>302669.0</td>\n",
       "      <td>DE</td>\n",
       "      <td>7.0</td>\n",
       "      <td>Koeln</td>\n",
       "      <td>['Fleisch', 'Rheinische Kueche', 'Westfaelisch...</td>\n",
       "      <td>06/01/2014</td>\n",
       "      <td>15:19</td>\n",
       "      <td>winter</td>\n",
       "    </tr>\n",
       "    <tr>\n",
       "      <th>1610580</th>\n",
       "      <td>1/6/2014 15:19</td>\n",
       "      <td>233349.0</td>\n",
       "      <td>DE</td>\n",
       "      <td>2.0</td>\n",
       "      <td>Munich</td>\n",
       "      <td>['Konfekt/Suessware', 'Kaffee &amp; Kuchen', 'glut...</td>\n",
       "      <td>06/01/2014</td>\n",
       "      <td>15:19</td>\n",
       "      <td>winter</td>\n",
       "    </tr>\n",
       "    <tr>\n",
       "      <th>1610581</th>\n",
       "      <td>1/6/2014 15:19</td>\n",
       "      <td>350507.0</td>\n",
       "      <td>DE</td>\n",
       "      <td>16.0</td>\n",
       "      <td>Berlin</td>\n",
       "      <td>['Fisch', 'Salate', 'Zwischenmahlzeit', 'Abend...</td>\n",
       "      <td>06/01/2014</td>\n",
       "      <td>15:19</td>\n",
       "      <td>winter</td>\n",
       "    </tr>\n",
       "  </tbody>\n",
       "</table>\n",
       "</div>"
      ],
      "text/plain": [
       "                   date  recipe_id country  region     city  \\\n",
       "1610577  1/6/2014 15:19   464982.0      DE     4.0  Hamburg   \n",
       "1610578  1/6/2014 15:19   282818.0      DE     7.0    Koeln   \n",
       "1610579  1/6/2014 15:19   302669.0      DE     7.0    Koeln   \n",
       "1610580  1/6/2014 15:19   233349.0      DE     2.0   Munich   \n",
       "1610581  1/6/2014 15:19   350507.0      DE    16.0   Berlin   \n",
       "\n",
       "                                                categories         day   hour  \\\n",
       "1610577  ['Hauptspeise', 'Abendessen', 'Mittagstisch', ...  06/01/2014  15:19   \n",
       "1610578  ['Europa', 'Auflauf /Ueberbackenes', 'Suppen/E...  06/01/2014  15:19   \n",
       "1610579  ['Fleisch', 'Rheinische Kueche', 'Westfaelisch...  06/01/2014  15:19   \n",
       "1610580  ['Konfekt/Suessware', 'Kaffee & Kuchen', 'glut...  06/01/2014  15:19   \n",
       "1610581  ['Fisch', 'Salate', 'Zwischenmahlzeit', 'Abend...  06/01/2014  15:19   \n",
       "\n",
       "         season  \n",
       "1610577  winter  \n",
       "1610578  winter  \n",
       "1610579  winter  \n",
       "1610580  winter  \n",
       "1610581  winter  "
      ]
     },
     "execution_count": 17,
     "metadata": {},
     "output_type": "execute_result"
    }
   ],
   "source": [
    "df.tail()"
   ]
  },
  {
   "cell_type": "markdown",
   "metadata": {},
   "source": [
    "## Unify cities names"
   ]
  },
  {
   "cell_type": "code",
   "execution_count": 18,
   "metadata": {},
   "outputs": [
    {
     "data": {
      "text/plain": [
       "date          1165436\n",
       "recipe_id      223557\n",
       "country             1\n",
       "region              7\n",
       "city               11\n",
       "categories     110089\n",
       "day                47\n",
       "hour           435488\n",
       "season              2\n",
       "dtype: int64"
      ]
     },
     "execution_count": 18,
     "metadata": {},
     "output_type": "execute_result"
    }
   ],
   "source": [
    "df.nunique()"
   ]
  },
  {
   "cell_type": "code",
   "execution_count": 20,
   "metadata": {},
   "outputs": [
    {
     "data": {
      "text/plain": [
       "{'Berlin',\n",
       " 'Bremerhaven',\n",
       " 'Darmstadt',\n",
       " 'Erlangen',\n",
       " 'Frankfurt_Am_Main',\n",
       " 'Hamburg',\n",
       " 'K??ln',\n",
       " 'Koeln',\n",
       " 'Munich',\n",
       " 'Potsdam',\n",
       " 'Siegen',\n",
       " nan}"
      ]
     },
     "execution_count": 20,
     "metadata": {},
     "output_type": "execute_result"
    }
   ],
   "source": [
    "set(df['city'])"
   ]
  },
  {
   "cell_type": "code",
   "execution_count": 22,
   "metadata": {},
   "outputs": [],
   "source": [
    "df['city'] = ['Koeln' if c == 'K??ln' else c for c in df['city']]"
   ]
  },
  {
   "cell_type": "code",
   "execution_count": 23,
   "metadata": {},
   "outputs": [
    {
     "data": {
      "text/plain": [
       "{'Berlin',\n",
       " 'Bremerhaven',\n",
       " 'Darmstadt',\n",
       " 'Erlangen',\n",
       " 'Frankfurt_Am_Main',\n",
       " 'Hamburg',\n",
       " 'Koeln',\n",
       " 'Munich',\n",
       " 'Potsdam',\n",
       " 'Siegen',\n",
       " nan}"
      ]
     },
     "execution_count": 23,
     "metadata": {},
     "output_type": "execute_result"
    }
   ],
   "source": [
    "set(df['city'])"
   ]
  },
  {
   "cell_type": "markdown",
   "metadata": {},
   "source": [
    "## Remove duplicates"
   ]
  },
  {
   "cell_type": "code",
   "execution_count": 27,
   "metadata": {},
   "outputs": [
    {
     "name": "stdout",
     "output_type": "stream",
     "text": [
      "89143 / 1610582 ( 5.53 %)are duplicated.\n"
     ]
    }
   ],
   "source": [
    "duplicated_count = sum(df.duplicated())\n",
    "print(duplicated_count, '/', len(df), '(', np.round(duplicated_count/len(df)*100,2)  , '%)are duplicated.')"
   ]
  },
  {
   "cell_type": "code",
   "execution_count": 28,
   "metadata": {},
   "outputs": [
    {
     "data": {
      "text/plain": [
       "1521439"
      ]
     },
     "execution_count": 28,
     "metadata": {},
     "output_type": "execute_result"
    }
   ],
   "source": [
    "df = df.drop_duplicates()\n",
    "len(df)"
   ]
  },
  {
   "cell_type": "markdown",
   "metadata": {},
   "source": [
    "# Save changed data to a file"
   ]
  },
  {
   "cell_type": "code",
   "execution_count": 30,
   "metadata": {},
   "outputs": [],
   "source": [
    "f= open('data_V3.csv', 'w')\n",
    "df.to_csv(f, index=None, header=True, encoding='utf-8', sep=',')\n",
    "f.close()"
   ]
  },
  {
   "cell_type": "code",
   "execution_count": 31,
   "metadata": {},
   "outputs": [
    {
     "name": "stdout",
     "output_type": "stream",
     "text": [
      "1521439\n"
     ]
    },
    {
     "data": {
      "text/html": [
       "<div>\n",
       "<style scoped>\n",
       "    .dataframe tbody tr th:only-of-type {\n",
       "        vertical-align: middle;\n",
       "    }\n",
       "\n",
       "    .dataframe tbody tr th {\n",
       "        vertical-align: top;\n",
       "    }\n",
       "\n",
       "    .dataframe thead th {\n",
       "        text-align: right;\n",
       "    }\n",
       "</style>\n",
       "<table border=\"1\" class=\"dataframe\">\n",
       "  <thead>\n",
       "    <tr style=\"text-align: right;\">\n",
       "      <th></th>\n",
       "      <th>date</th>\n",
       "      <th>recipe_id</th>\n",
       "      <th>country</th>\n",
       "      <th>region</th>\n",
       "      <th>city</th>\n",
       "      <th>categories</th>\n",
       "      <th>day</th>\n",
       "      <th>hour</th>\n",
       "      <th>season</th>\n",
       "    </tr>\n",
       "  </thead>\n",
       "  <tbody>\n",
       "    <tr>\n",
       "      <th>0</th>\n",
       "      <td>08.07.2013 00:14</td>\n",
       "      <td>87621.0</td>\n",
       "      <td>DE</td>\n",
       "      <td>5.0</td>\n",
       "      <td>Frankfurt_Am_Main</td>\n",
       "      <td>['Thueringer Kueche', 'Zwischengericht', 'ohne...</td>\n",
       "      <td>08/07/2013</td>\n",
       "      <td>00:14</td>\n",
       "      <td>summer</td>\n",
       "    </tr>\n",
       "    <tr>\n",
       "      <th>1</th>\n",
       "      <td>08.07.2013 00:15</td>\n",
       "      <td>206682.0</td>\n",
       "      <td>DE</td>\n",
       "      <td>5.0</td>\n",
       "      <td>Frankfurt_Am_Main</td>\n",
       "      <td>['Kuchen/Torte', 'Dessert', 'ohne Weizen']</td>\n",
       "      <td>08/07/2013</td>\n",
       "      <td>00:15</td>\n",
       "      <td>summer</td>\n",
       "    </tr>\n",
       "    <tr>\n",
       "      <th>2</th>\n",
       "      <td>08.07.2013 00:15</td>\n",
       "      <td>342535.0</td>\n",
       "      <td>DE</td>\n",
       "      <td>5.0</td>\n",
       "      <td>Frankfurt_Am_Main</td>\n",
       "      <td>['Dips/Cremes/Saucen', 'Exotische Kueche', 'oh...</td>\n",
       "      <td>08/07/2013</td>\n",
       "      <td>00:15</td>\n",
       "      <td>summer</td>\n",
       "    </tr>\n",
       "    <tr>\n",
       "      <th>3</th>\n",
       "      <td>08.07.2013 00:16</td>\n",
       "      <td>368688.0</td>\n",
       "      <td>DE</td>\n",
       "      <td>5.0</td>\n",
       "      <td>Frankfurt_Am_Main</td>\n",
       "      <td>['kalt', 'mit Alkohol', 'Zwischenmahlzeit', 'H...</td>\n",
       "      <td>08/07/2013</td>\n",
       "      <td>00:16</td>\n",
       "      <td>summer</td>\n",
       "    </tr>\n",
       "    <tr>\n",
       "      <th>4</th>\n",
       "      <td>08.07.2013 00:16</td>\n",
       "      <td>177274.0</td>\n",
       "      <td>DE</td>\n",
       "      <td>5.0</td>\n",
       "      <td>Frankfurt_Am_Main</td>\n",
       "      <td>['Auflauf /Ueberbackenes', 'Brot', 'Eingemacht...</td>\n",
       "      <td>08/07/2013</td>\n",
       "      <td>00:16</td>\n",
       "      <td>summer</td>\n",
       "    </tr>\n",
       "  </tbody>\n",
       "</table>\n",
       "</div>"
      ],
      "text/plain": [
       "               date  recipe_id country  region               city  \\\n",
       "0  08.07.2013 00:14    87621.0      DE     5.0  Frankfurt_Am_Main   \n",
       "1  08.07.2013 00:15   206682.0      DE     5.0  Frankfurt_Am_Main   \n",
       "2  08.07.2013 00:15   342535.0      DE     5.0  Frankfurt_Am_Main   \n",
       "3  08.07.2013 00:16   368688.0      DE     5.0  Frankfurt_Am_Main   \n",
       "4  08.07.2013 00:16   177274.0      DE     5.0  Frankfurt_Am_Main   \n",
       "\n",
       "                                          categories         day   hour  \\\n",
       "0  ['Thueringer Kueche', 'Zwischengericht', 'ohne...  08/07/2013  00:14   \n",
       "1         ['Kuchen/Torte', 'Dessert', 'ohne Weizen']  08/07/2013  00:15   \n",
       "2  ['Dips/Cremes/Saucen', 'Exotische Kueche', 'oh...  08/07/2013  00:15   \n",
       "3  ['kalt', 'mit Alkohol', 'Zwischenmahlzeit', 'H...  08/07/2013  00:16   \n",
       "4  ['Auflauf /Ueberbackenes', 'Brot', 'Eingemacht...  08/07/2013  00:16   \n",
       "\n",
       "   season  \n",
       "0  summer  \n",
       "1  summer  \n",
       "2  summer  \n",
       "3  summer  \n",
       "4  summer  "
      ]
     },
     "execution_count": 31,
     "metadata": {},
     "output_type": "execute_result"
    }
   ],
   "source": [
    "df1 = pd.read_csv('data_V3.csv', sep=',', encoding=\"ISO-8859-1\")\n",
    "print((len(df1)))\n",
    "df1.head()"
   ]
  }
 ],
 "metadata": {
  "kernelspec": {
   "display_name": "Python 3",
   "language": "python",
   "name": "python3"
  },
  "language_info": {
   "codemirror_mode": {
    "name": "ipython",
    "version": 3
   },
   "file_extension": ".py",
   "mimetype": "text/x-python",
   "name": "python",
   "nbconvert_exporter": "python",
   "pygments_lexer": "ipython3",
   "version": "3.6.4"
  }
 },
 "nbformat": 4,
 "nbformat_minor": 2
}
