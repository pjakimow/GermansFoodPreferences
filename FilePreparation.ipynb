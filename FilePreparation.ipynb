{
 "cells": [
  {
   "cell_type": "code",
   "execution_count": 62,
   "metadata": {},
   "outputs": [],
   "source": [
    "import numpy as np\n",
    "import pandas as pd\n",
    "import pickle"
   ]
  },
  {
   "cell_type": "markdown",
   "metadata": {},
   "source": [
    "# Read file"
   ]
  },
  {
   "cell_type": "code",
   "execution_count": 63,
   "metadata": {},
   "outputs": [],
   "source": [
    "path = 'files/data.csv'"
   ]
  },
  {
   "cell_type": "code",
   "execution_count": 64,
   "metadata": {},
   "outputs": [],
   "source": [
    "df = pd.read_csv(path, sep=',', encoding='ISO-8859-1')"
   ]
  },
  {
   "cell_type": "code",
   "execution_count": 65,
   "metadata": {},
   "outputs": [
    {
     "data": {
      "text/html": [
       "<div>\n",
       "<style scoped>\n",
       "    .dataframe tbody tr th:only-of-type {\n",
       "        vertical-align: middle;\n",
       "    }\n",
       "\n",
       "    .dataframe tbody tr th {\n",
       "        vertical-align: top;\n",
       "    }\n",
       "\n",
       "    .dataframe thead th {\n",
       "        text-align: right;\n",
       "    }\n",
       "</style>\n",
       "<table border=\"1\" class=\"dataframe\">\n",
       "  <thead>\n",
       "    <tr style=\"text-align: right;\">\n",
       "      <th></th>\n",
       "      <th>date</th>\n",
       "      <th>recipe_id</th>\n",
       "      <th>country</th>\n",
       "      <th>region</th>\n",
       "      <th>city</th>\n",
       "      <th>categories</th>\n",
       "      <th>day</th>\n",
       "      <th>hour</th>\n",
       "      <th>season</th>\n",
       "    </tr>\n",
       "  </thead>\n",
       "  <tbody>\n",
       "    <tr>\n",
       "      <th>0</th>\n",
       "      <td>29.07.2013 21:14</td>\n",
       "      <td>136996.0</td>\n",
       "      <td>DE</td>\n",
       "      <td>16.0</td>\n",
       "      <td>Berlin</td>\n",
       "      <td>['Braten (Fleisch)', 'Fleisch', 'Milchprodukte...</td>\n",
       "      <td>29/07/2013</td>\n",
       "      <td>21:14</td>\n",
       "      <td>summer</td>\n",
       "    </tr>\n",
       "    <tr>\n",
       "      <th>1</th>\n",
       "      <td>29.07.2013 21:14</td>\n",
       "      <td>255239.0</td>\n",
       "      <td>DE</td>\n",
       "      <td>2.0</td>\n",
       "      <td>Munich</td>\n",
       "      <td>['Asien', 'Japan', 'Suppen/Eintoepfe', 'Vorspe...</td>\n",
       "      <td>29/07/2013</td>\n",
       "      <td>21:14</td>\n",
       "      <td>summer</td>\n",
       "    </tr>\n",
       "    <tr>\n",
       "      <th>2</th>\n",
       "      <td>29.07.2013 21:14</td>\n",
       "      <td>447948.0</td>\n",
       "      <td>DE</td>\n",
       "      <td>16.0</td>\n",
       "      <td>Berlin</td>\n",
       "      <td>['kalt', 'glutenfrei', 'laktosefrei', 'ohne We...</td>\n",
       "      <td>29/07/2013</td>\n",
       "      <td>21:14</td>\n",
       "      <td>summer</td>\n",
       "    </tr>\n",
       "    <tr>\n",
       "      <th>3</th>\n",
       "      <td>29.07.2013 21:14</td>\n",
       "      <td>131582.0</td>\n",
       "      <td>DE</td>\n",
       "      <td>16.0</td>\n",
       "      <td>Berlin</td>\n",
       "      <td>['glutenfrei', 'laktosefrei', 'ohne Weizen']</td>\n",
       "      <td>29/07/2013</td>\n",
       "      <td>21:14</td>\n",
       "      <td>summer</td>\n",
       "    </tr>\n",
       "    <tr>\n",
       "      <th>4</th>\n",
       "      <td>29.07.2013 21:15</td>\n",
       "      <td>35361.0</td>\n",
       "      <td>DE</td>\n",
       "      <td>16.0</td>\n",
       "      <td>Berlin</td>\n",
       "      <td>['trocknen', 'Gesund und Diaet', 'laktosefrei'...</td>\n",
       "      <td>29/07/2013</td>\n",
       "      <td>21:15</td>\n",
       "      <td>summer</td>\n",
       "    </tr>\n",
       "  </tbody>\n",
       "</table>\n",
       "</div>"
      ],
      "text/plain": [
       "               date  recipe_id country  region    city  \\\n",
       "0  29.07.2013 21:14   136996.0      DE    16.0  Berlin   \n",
       "1  29.07.2013 21:14   255239.0      DE     2.0  Munich   \n",
       "2  29.07.2013 21:14   447948.0      DE    16.0  Berlin   \n",
       "3  29.07.2013 21:14   131582.0      DE    16.0  Berlin   \n",
       "4  29.07.2013 21:15    35361.0      DE    16.0  Berlin   \n",
       "\n",
       "                                          categories         day   hour  \\\n",
       "0  ['Braten (Fleisch)', 'Fleisch', 'Milchprodukte...  29/07/2013  21:14   \n",
       "1  ['Asien', 'Japan', 'Suppen/Eintoepfe', 'Vorspe...  29/07/2013  21:14   \n",
       "2  ['kalt', 'glutenfrei', 'laktosefrei', 'ohne We...  29/07/2013  21:14   \n",
       "3       ['glutenfrei', 'laktosefrei', 'ohne Weizen']  29/07/2013  21:14   \n",
       "4  ['trocknen', 'Gesund und Diaet', 'laktosefrei'...  29/07/2013  21:15   \n",
       "\n",
       "   season  \n",
       "0  summer  \n",
       "1  summer  \n",
       "2  summer  \n",
       "3  summer  \n",
       "4  summer  "
      ]
     },
     "execution_count": 65,
     "metadata": {},
     "output_type": "execute_result"
    }
   ],
   "source": [
    "df.head()"
   ]
  },
  {
   "cell_type": "markdown",
   "metadata": {},
   "source": [
    "# Count categories"
   ]
  },
  {
   "cell_type": "code",
   "execution_count": 66,
   "metadata": {},
   "outputs": [],
   "source": [
    "def get_categories_counter(categories_column):\n",
    "    \"\"\" nan_indexes are not indexes from df/series but normal indexes\"\"\"\n",
    "    \n",
    "    import math\n",
    "    from tqdm import tqdm\n",
    "    \n",
    "    result = dict()\n",
    "    nan_indexes = list()\n",
    "    i = 0\n",
    "    with tqdm(total=len(categories_column)) as pbar:\n",
    "        for categories in categories_column:\n",
    "            i += 1\n",
    "            if (type(categories)) == str:\n",
    "                categories = categories.replace('[','').replace(']','').replace(\"'\",\"\").replace(', ',',').lower()\n",
    "\n",
    "                for category in categories.split(','):\n",
    "                    if result.get(category) != None:\n",
    "                        result[category] += 1\n",
    "                    else:\n",
    "                        result[category] = 1\n",
    "            else:\n",
    "                nan_indexes += [i]\n",
    "                if result.get('nan') != None:\n",
    "                    result['nan'] += 1\n",
    "                else:\n",
    "                    result['nan'] = 1\n",
    "            \n",
    "            pbar.update(1)\n",
    "           \n",
    "    return result, nan_indexes"
   ]
  },
  {
   "cell_type": "code",
   "execution_count": 67,
   "metadata": {},
   "outputs": [
    {
     "name": "stderr",
     "output_type": "stream",
     "text": [
      "100%|██████████| 1576832/1576832 [00:17<00:00, 87780.61it/s] \n"
     ]
    }
   ],
   "source": [
    "categories_counter, nan_indexes = get_categories_counter(df.categories)"
   ]
  },
  {
   "cell_type": "code",
   "execution_count": 68,
   "metadata": {},
   "outputs": [
    {
     "name": "stdout",
     "output_type": "stream",
     "text": [
      "Number of nan values in the dataset: 350840 . It is  22.25 % from the whole dataset.\n"
     ]
    }
   ],
   "source": [
    "print('Number of nan values in the dataset:', len(nan_indexes), \n",
    "      '. It is ', np.round(len(nan_indexes)/ len(df) * 100, 2),'% from the whole dataset.')"
   ]
  },
  {
   "cell_type": "code",
   "execution_count": 69,
   "metadata": {},
   "outputs": [
    {
     "name": "stdout",
     "output_type": "stream",
     "text": [
      "We have  1225992  examples left.\n"
     ]
    }
   ],
   "source": [
    "print('We have ', len(df) - len(nan_indexes), ' examples left.')"
   ]
  },
  {
   "cell_type": "markdown",
   "metadata": {},
   "source": [
    "## Save"
   ]
  },
  {
   "cell_type": "code",
   "execution_count": 70,
   "metadata": {},
   "outputs": [],
   "source": [
    "with open('files/to_plot/categories_count.txt', 'wb') as handle:\n",
    "    pickle.dump(categories_counter, handle)"
   ]
  },
  {
   "cell_type": "markdown",
   "metadata": {},
   "source": [
    "# Group data by season"
   ]
  },
  {
   "cell_type": "code",
   "execution_count": 71,
   "metadata": {},
   "outputs": [
    {
     "name": "stdout",
     "output_type": "stream",
     "text": [
      "summer\n",
      "913359\n"
     ]
    },
    {
     "name": "stderr",
     "output_type": "stream",
     "text": [
      "100%|██████████| 913359/913359 [00:09<00:00, 91828.06it/s] \n"
     ]
    },
    {
     "name": "stdout",
     "output_type": "stream",
     "text": [
      "Number of nan elements: 226663 ( 24.82 %)\n",
      "We have  36954 ( 4.05 %) empty categories.\n",
      "winter\n",
      "663473\n"
     ]
    },
    {
     "name": "stderr",
     "output_type": "stream",
     "text": [
      "100%|██████████| 663473/663473 [00:07<00:00, 84115.65it/s] \n"
     ]
    },
    {
     "name": "stdout",
     "output_type": "stream",
     "text": [
      "Number of nan elements: 124177 ( 18.72 %)\n",
      "We have  25664 ( 3.87 %) empty categories.\n"
     ]
    }
   ],
   "source": [
    "df_by_season = df.groupby('season')\n",
    "\n",
    "categories_season = dict()\n",
    "for name, group in df_by_season:\n",
    "    print(name)\n",
    "    print(len(group))\n",
    "    categories_season[name], nan_list = get_categories_counter(group.categories)\n",
    "    print('Number of nan elements:', len(nan_list), '(', np.round(len(nan_list)/len(group)*100, 2),'%)')\n",
    "    print('We have ', categories_season[name][''], '(', np.round(categories_season[name]['']/len(group)*100, 2),'%)' , 'empty categories.')"
   ]
  },
  {
   "cell_type": "markdown",
   "metadata": {},
   "source": [
    "## Delete nan and empty values from dict\n",
    "We don't want these values on charts"
   ]
  },
  {
   "cell_type": "code",
   "execution_count": 72,
   "metadata": {},
   "outputs": [],
   "source": [
    "del(categories_season['winter']['nan'])\n",
    "del(categories_season['summer']['nan'])"
   ]
  },
  {
   "cell_type": "code",
   "execution_count": 73,
   "metadata": {},
   "outputs": [],
   "source": [
    "del(categories_season['winter'][''])\n",
    "del(categories_season['summer'][''])"
   ]
  },
  {
   "cell_type": "markdown",
   "metadata": {},
   "source": [
    "## Save"
   ]
  },
  {
   "cell_type": "code",
   "execution_count": 74,
   "metadata": {},
   "outputs": [],
   "source": [
    "with open('files/to_plot/categories_by_season.txt', 'wb') as handle:\n",
    "    pickle.dump(categories_season, handle)"
   ]
  },
  {
   "cell_type": "markdown",
   "metadata": {},
   "source": [
    "## Load"
   ]
  },
  {
   "cell_type": "code",
   "execution_count": 20,
   "metadata": {},
   "outputs": [],
   "source": [
    "with open('files/to_plot/categories_by_season.txt', 'rb') as handle:\n",
    "    b = pickle.loads(handle.read())"
   ]
  },
  {
   "cell_type": "markdown",
   "metadata": {},
   "source": [
    "# Group data by city"
   ]
  },
  {
   "cell_type": "code",
   "execution_count": 75,
   "metadata": {
    "scrolled": true
   },
   "outputs": [
    {
     "name": "stdout",
     "output_type": "stream",
     "text": [
      "\n",
      " Berlin\n",
      "369769\n"
     ]
    },
    {
     "name": "stderr",
     "output_type": "stream",
     "text": [
      "100%|██████████| 369769/369769 [00:05<00:00, 73295.14it/s]\n"
     ]
    },
    {
     "name": "stdout",
     "output_type": "stream",
     "text": [
      "Number of nan elements: 0 ( 0.0 %)\n",
      "We have  19849 ( 5.37 %) empty categories.\n",
      "\n",
      " Bremerhaven\n",
      "7394\n"
     ]
    },
    {
     "name": "stderr",
     "output_type": "stream",
     "text": [
      "100%|██████████| 7394/7394 [00:00<00:00, 58523.44it/s]\n"
     ]
    },
    {
     "name": "stdout",
     "output_type": "stream",
     "text": [
      "Number of nan elements: 0 ( 0.0 %)\n",
      "We have  380 ( 5.14 %) empty categories.\n",
      "\n",
      " Darmstadt\n",
      "27743\n"
     ]
    },
    {
     "name": "stderr",
     "output_type": "stream",
     "text": [
      "100%|██████████| 27743/27743 [00:00<00:00, 32979.14it/s]\n"
     ]
    },
    {
     "name": "stdout",
     "output_type": "stream",
     "text": [
      "Number of nan elements: 0 ( 0.0 %)\n",
      "We have  1540 ( 5.55 %) empty categories.\n",
      "\n",
      " Erlangen\n",
      "19104\n"
     ]
    },
    {
     "name": "stderr",
     "output_type": "stream",
     "text": [
      "100%|██████████| 19104/19104 [00:00<00:00, 67643.50it/s]\n"
     ]
    },
    {
     "name": "stdout",
     "output_type": "stream",
     "text": [
      "Number of nan elements: 0 ( 0.0 %)\n",
      "We have  960 ( 5.03 %) empty categories.\n",
      "\n",
      " Frankfurt_Am_Main\n",
      "207472\n"
     ]
    },
    {
     "name": "stderr",
     "output_type": "stream",
     "text": [
      "100%|██████████| 207472/207472 [00:02<00:00, 82356.42it/s]\n"
     ]
    },
    {
     "name": "stdout",
     "output_type": "stream",
     "text": [
      "Number of nan elements: 0 ( 0.0 %)\n",
      "We have  9958 ( 4.8 %) empty categories.\n",
      "\n",
      " Hamburg\n",
      "206573\n"
     ]
    },
    {
     "name": "stderr",
     "output_type": "stream",
     "text": [
      "100%|██████████| 206573/206573 [00:02<00:00, 78143.79it/s]\n"
     ]
    },
    {
     "name": "stdout",
     "output_type": "stream",
     "text": [
      "Number of nan elements: 0 ( 0.0 %)\n",
      "We have  10457 ( 5.06 %) empty categories.\n",
      "\n",
      " Koeln\n",
      "116548\n"
     ]
    },
    {
     "name": "stderr",
     "output_type": "stream",
     "text": [
      "100%|██████████| 116548/116548 [00:01<00:00, 68789.84it/s]\n"
     ]
    },
    {
     "name": "stdout",
     "output_type": "stream",
     "text": [
      "Number of nan elements: 0 ( 0.0 %)\n",
      "We have  5784 ( 4.96 %) empty categories.\n",
      "\n",
      " Munich\n",
      "249118\n"
     ]
    },
    {
     "name": "stderr",
     "output_type": "stream",
     "text": [
      "100%|██████████| 249118/249118 [00:03<00:00, 78639.66it/s]\n"
     ]
    },
    {
     "name": "stdout",
     "output_type": "stream",
     "text": [
      "Number of nan elements: 0 ( 0.0 %)\n",
      "We have  12461 ( 5.0 %) empty categories.\n",
      "\n",
      " Potsdam\n",
      "9586\n"
     ]
    },
    {
     "name": "stderr",
     "output_type": "stream",
     "text": [
      "100%|██████████| 9586/9586 [00:00<00:00, 71803.27it/s]\n"
     ]
    },
    {
     "name": "stdout",
     "output_type": "stream",
     "text": [
      "Number of nan elements: 0 ( 0.0 %)\n",
      "We have  564 ( 5.88 %) empty categories.\n",
      "\n",
      " Siegen\n",
      "12685\n"
     ]
    },
    {
     "name": "stderr",
     "output_type": "stream",
     "text": [
      "100%|██████████| 12685/12685 [00:00<00:00, 73873.22it/s]\n"
     ]
    },
    {
     "name": "stdout",
     "output_type": "stream",
     "text": [
      "Number of nan elements: 0 ( 0.0 %)\n",
      "We have  665 ( 5.24 %) empty categories.\n"
     ]
    }
   ],
   "source": [
    "df_by_city = df.groupby('city')\n",
    "\n",
    "categories_city = dict()\n",
    "for name, group in df_by_city:\n",
    "    print('\\n',name)\n",
    "    print(len(group))\n",
    "\n",
    "    categories_city[name], nan_list = get_categories_counter(group.categories)\n",
    "    print('Number of nan elements:', len(nan_list), '(', np.round(len(nan_list)/len(group)*100, 2),'%)')\n",
    "    print('We have ', categories_city[name][''], '(', np.round(categories_city[name]['']/len(group)*100, 2),'%)' , 'empty categories.')"
   ]
  },
  {
   "cell_type": "markdown",
   "metadata": {},
   "source": [
    "## Delete empty values"
   ]
  },
  {
   "cell_type": "code",
   "execution_count": 76,
   "metadata": {},
   "outputs": [
    {
     "name": "stdout",
     "output_type": "stream",
     "text": [
      "['Munich', 'Siegen', 'Koeln', 'Bremerhaven', 'Berlin', 'Darmstadt', 'Erlangen', 'Hamburg', 'Potsdam', 'Frankfurt_Am_Main']\n"
     ]
    }
   ],
   "source": [
    "cities = list(set(df.city))[1:]\n",
    "print(cities)"
   ]
  },
  {
   "cell_type": "code",
   "execution_count": 77,
   "metadata": {},
   "outputs": [],
   "source": [
    "for city in cities:\n",
    "    del(categories_city[city][''])"
   ]
  },
  {
   "cell_type": "markdown",
   "metadata": {},
   "source": [
    "## Save"
   ]
  },
  {
   "cell_type": "code",
   "execution_count": 78,
   "metadata": {},
   "outputs": [],
   "source": [
    "with open('files/to_plot/categories_by_city.txt', 'wb') as handle:\n",
    "    pickle.dump(categories_city, handle)"
   ]
  },
  {
   "cell_type": "markdown",
   "metadata": {},
   "source": [
    "# Find most frequent categories"
   ]
  },
  {
   "cell_type": "code",
   "execution_count": 79,
   "metadata": {},
   "outputs": [],
   "source": [
    "def get_categories(categories_column):\n",
    "    \n",
    "    import math\n",
    "    from tqdm import tqdm\n",
    "    \n",
    "    result = dict()\n",
    "    i = 0\n",
    "    with tqdm(total=len(categories_column)) as pbar:\n",
    "        for categories in categories_column:\n",
    "            i += 1\n",
    "            if (type(categories)) == str:\n",
    "                categories = categories.replace('[','').replace(']','').replace(\"'\",\"\").replace(', ',',').lower()\n",
    "\n",
    "                for category in categories.split(','):\n",
    "                    if result.get(category) != None:\n",
    "                        result[category] += 1\n",
    "                    else:\n",
    "                        result[category] = 1\n",
    "            else:\n",
    "                if result.get('nan') != None:\n",
    "                    result['nan'] += 1\n",
    "                else:\n",
    "                    result['nan'] = 1\n",
    "            \n",
    "            pbar.update(1)\n",
    "           \n",
    "    return result"
   ]
  },
  {
   "cell_type": "code",
   "execution_count": 80,
   "metadata": {},
   "outputs": [
    {
     "name": "stderr",
     "output_type": "stream",
     "text": [
      "100%|██████████| 1576832/1576832 [00:18<00:00, 87467.29it/s] \n"
     ]
    }
   ],
   "source": [
    "c = get_categories(df.categories)"
   ]
  },
  {
   "cell_type": "code",
   "execution_count": 81,
   "metadata": {},
   "outputs": [],
   "source": [
    "sorted_desc = dict(sorted(c.items(), key=operator.itemgetter(1),reverse=True))"
   ]
  },
  {
   "cell_type": "code",
   "execution_count": 82,
   "metadata": {},
   "outputs": [],
   "source": [
    "del (sorted_desc[''])"
   ]
  },
  {
   "cell_type": "code",
   "execution_count": 83,
   "metadata": {},
   "outputs": [],
   "source": [
    "del (sorted_desc['nan'])"
   ]
  },
  {
   "cell_type": "markdown",
   "metadata": {},
   "source": [
    "### Choose frequent categories"
   ]
  },
  {
   "cell_type": "code",
   "execution_count": 84,
   "metadata": {},
   "outputs": [],
   "source": [
    "top_categories = dict()\n",
    "for k, v in sorted_desc.items():\n",
    "    if v >= 100:\n",
    "        top_categories[k] = v"
   ]
  },
  {
   "cell_type": "code",
   "execution_count": 85,
   "metadata": {},
   "outputs": [
    {
     "name": "stdout",
     "output_type": "stream",
     "text": [
      "There are 214 categories with number of examples above 100.\n"
     ]
    }
   ],
   "source": [
    "print('There are', str(len(top_categories)), 'categories with number of examples above 100.')"
   ]
  },
  {
   "cell_type": "code",
   "execution_count": 86,
   "metadata": {},
   "outputs": [],
   "source": [
    "cat_count = 0\n",
    "cat_sum = 0 \n",
    "for k,v in sorted_desc.items():\n",
    "    if v < 100:\n",
    "        cat_count += 1\n",
    "        cat_sum += v"
   ]
  },
  {
   "cell_type": "code",
   "execution_count": 87,
   "metadata": {},
   "outputs": [
    {
     "name": "stdout",
     "output_type": "stream",
     "text": [
      "There are  1985 categories with have number of examples below 100 and they have together 5075 examples.\n"
     ]
    }
   ],
   "source": [
    "print('There are ', str(cat_count), 'categories with have number of examples below 100 and they have together', \n",
    "      str(cat_sum), 'examples.')"
   ]
  },
  {
   "cell_type": "markdown",
   "metadata": {},
   "source": [
    "## Save"
   ]
  },
  {
   "cell_type": "code",
   "execution_count": 88,
   "metadata": {},
   "outputs": [],
   "source": [
    "with open('files/categories_above_100_examples.txt', 'wb') as handle:\n",
    "    pickle.dump(top_categories, handle)"
   ]
  },
  {
   "cell_type": "markdown",
   "metadata": {},
   "source": [
    "# Group by season and city"
   ]
  },
  {
   "cell_type": "code",
   "execution_count": 89,
   "metadata": {},
   "outputs": [
    {
     "name": "stdout",
     "output_type": "stream",
     "text": [
      "Berlin\n",
      "218883\n"
     ]
    },
    {
     "name": "stderr",
     "output_type": "stream",
     "text": [
      "100%|██████████| 218883/218883 [00:03<00:00, 71698.93it/s]\n"
     ]
    },
    {
     "name": "stdout",
     "output_type": "stream",
     "text": [
      "Number of nan elements: 0 ( 0.0 %)\n",
      "We have  12377 ( 5.65 %) empty categories.\n",
      "Bremerhaven\n",
      "4373\n"
     ]
    },
    {
     "name": "stderr",
     "output_type": "stream",
     "text": [
      "100%|██████████| 4373/4373 [00:00<00:00, 46748.89it/s]\n"
     ]
    },
    {
     "name": "stdout",
     "output_type": "stream",
     "text": [
      "Number of nan elements: 0 ( 0.0 %)\n",
      "We have  270 ( 6.17 %) empty categories.\n",
      "Darmstadt\n",
      "18242\n"
     ]
    },
    {
     "name": "stderr",
     "output_type": "stream",
     "text": [
      "100%|██████████| 18242/18242 [00:00<00:00, 28915.60it/s]\n"
     ]
    },
    {
     "name": "stdout",
     "output_type": "stream",
     "text": [
      "Number of nan elements: 0 ( 0.0 %)\n",
      "We have  1050 ( 5.76 %) empty categories.\n",
      "Erlangen\n",
      "10908\n"
     ]
    },
    {
     "name": "stderr",
     "output_type": "stream",
     "text": [
      "100%|██████████| 10908/10908 [00:00<00:00, 38665.67it/s]\n"
     ]
    },
    {
     "name": "stdout",
     "output_type": "stream",
     "text": [
      "Number of nan elements: 0 ( 0.0 %)\n",
      "We have  560 ( 5.13 %) empty categories.\n",
      "Frankfurt_Am_Main\n",
      "92387\n"
     ]
    },
    {
     "name": "stderr",
     "output_type": "stream",
     "text": [
      "100%|██████████| 92387/92387 [00:01<00:00, 50616.90it/s]\n"
     ]
    },
    {
     "name": "stdout",
     "output_type": "stream",
     "text": [
      "Number of nan elements: 0 ( 0.0 %)\n",
      "We have  5060 ( 5.48 %) empty categories.\n",
      "Hamburg\n",
      "117115\n"
     ]
    },
    {
     "name": "stderr",
     "output_type": "stream",
     "text": [
      "100%|██████████| 117115/117115 [00:01<00:00, 63678.13it/s]\n"
     ]
    },
    {
     "name": "stdout",
     "output_type": "stream",
     "text": [
      "Number of nan elements: 0 ( 0.0 %)\n",
      "We have  6054 ( 5.17 %) empty categories.\n",
      "Koeln\n",
      "69527\n"
     ]
    },
    {
     "name": "stderr",
     "output_type": "stream",
     "text": [
      "100%|██████████| 69527/69527 [00:00<00:00, 70692.29it/s]\n"
     ]
    },
    {
     "name": "stdout",
     "output_type": "stream",
     "text": [
      "Number of nan elements: 0 ( 0.0 %)\n",
      "We have  3588 ( 5.16 %) empty categories.\n",
      "Munich\n",
      "142046\n"
     ]
    },
    {
     "name": "stderr",
     "output_type": "stream",
     "text": [
      "100%|██████████| 142046/142046 [00:02<00:00, 68721.27it/s]\n"
     ]
    },
    {
     "name": "stdout",
     "output_type": "stream",
     "text": [
      "Number of nan elements: 0 ( 0.0 %)\n",
      "We have  7239 ( 5.1 %) empty categories.\n",
      "Potsdam\n",
      "5883\n"
     ]
    },
    {
     "name": "stderr",
     "output_type": "stream",
     "text": [
      "100%|██████████| 5883/5883 [00:00<00:00, 34305.22it/s]\n"
     ]
    },
    {
     "name": "stdout",
     "output_type": "stream",
     "text": [
      "Number of nan elements: 0 ( 0.0 %)\n",
      "We have  357 ( 6.07 %) empty categories.\n",
      "Siegen\n",
      "7332\n"
     ]
    },
    {
     "name": "stderr",
     "output_type": "stream",
     "text": [
      "100%|██████████| 7332/7332 [00:00<00:00, 38008.07it/s]\n"
     ]
    },
    {
     "name": "stdout",
     "output_type": "stream",
     "text": [
      "Number of nan elements: 0 ( 0.0 %)\n",
      "We have  399 ( 5.44 %) empty categories.\n"
     ]
    }
   ],
   "source": [
    "df_summer = df[df.season == 'summer']\n",
    "\n",
    "cities_summer = dict()\n",
    "df_by_city = df_summer.groupby('city')\n",
    "for name, group in df_by_city:\n",
    "    print(name)\n",
    "    print(len(group))\n",
    "\n",
    "    cities_summer[name], nan_list = get_categories_counter(group.categories)\n",
    "    print('Number of nan elements:', len(nan_list), '(', np.round(len(nan_list)/len(group)*100, 2),'%)')\n",
    "    print('We have ', cities_summer[name][''], '(', np.round(cities_summer[name]['']/len(group)*100, 2),'%)' , 'empty categories.')"
   ]
  },
  {
   "cell_type": "code",
   "execution_count": 90,
   "metadata": {},
   "outputs": [
    {
     "name": "stdout",
     "output_type": "stream",
     "text": [
      "Berlin\n",
      "150886\n"
     ]
    },
    {
     "name": "stderr",
     "output_type": "stream",
     "text": [
      "100%|██████████| 150886/150886 [00:02<00:00, 66632.20it/s]\n"
     ]
    },
    {
     "name": "stdout",
     "output_type": "stream",
     "text": [
      "Number of nan elements: 0 ( 0.0 %)\n",
      "We have  7472 ( 4.95 %) empty categories.\n",
      "Bremerhaven\n",
      "3021\n"
     ]
    },
    {
     "name": "stderr",
     "output_type": "stream",
     "text": [
      "100%|██████████| 3021/3021 [00:00<00:00, 36894.56it/s]\n"
     ]
    },
    {
     "name": "stdout",
     "output_type": "stream",
     "text": [
      "Number of nan elements: 0 ( 0.0 %)\n",
      "We have  110 ( 3.64 %) empty categories.\n",
      "Darmstadt\n",
      "9501\n"
     ]
    },
    {
     "name": "stderr",
     "output_type": "stream",
     "text": [
      "100%|██████████| 9501/9501 [00:00<00:00, 59877.03it/s]\n"
     ]
    },
    {
     "name": "stdout",
     "output_type": "stream",
     "text": [
      "Number of nan elements: 0 ( 0.0 %)\n",
      "We have  490 ( 5.16 %) empty categories.\n",
      "Erlangen\n",
      "8196\n"
     ]
    },
    {
     "name": "stderr",
     "output_type": "stream",
     "text": [
      "100%|██████████| 8196/8196 [00:00<00:00, 45776.52it/s]\n"
     ]
    },
    {
     "name": "stdout",
     "output_type": "stream",
     "text": [
      "Number of nan elements: 0 ( 0.0 %)\n",
      "We have  400 ( 4.88 %) empty categories.\n",
      "Frankfurt_Am_Main\n",
      "115085\n"
     ]
    },
    {
     "name": "stderr",
     "output_type": "stream",
     "text": [
      "100%|██████████| 115085/115085 [00:01<00:00, 57740.74it/s]\n"
     ]
    },
    {
     "name": "stdout",
     "output_type": "stream",
     "text": [
      "Number of nan elements: 0 ( 0.0 %)\n",
      "We have  4898 ( 4.26 %) empty categories.\n",
      "Hamburg\n",
      "89458\n"
     ]
    },
    {
     "name": "stderr",
     "output_type": "stream",
     "text": [
      "100%|██████████| 89458/89458 [00:01<00:00, 77804.59it/s]\n"
     ]
    },
    {
     "name": "stdout",
     "output_type": "stream",
     "text": [
      "Number of nan elements: 0 ( 0.0 %)\n",
      "We have  4403 ( 4.92 %) empty categories.\n",
      "Koeln\n",
      "47021\n"
     ]
    },
    {
     "name": "stderr",
     "output_type": "stream",
     "text": [
      "100%|██████████| 47021/47021 [00:00<00:00, 70693.27it/s]\n"
     ]
    },
    {
     "name": "stdout",
     "output_type": "stream",
     "text": [
      "Number of nan elements: 0 ( 0.0 %)\n",
      "We have  2196 ( 4.67 %) empty categories.\n",
      "Munich\n",
      "107072\n"
     ]
    },
    {
     "name": "stderr",
     "output_type": "stream",
     "text": [
      "100%|██████████| 107072/107072 [00:01<00:00, 62029.04it/s]\n"
     ]
    },
    {
     "name": "stdout",
     "output_type": "stream",
     "text": [
      "Number of nan elements: 0 ( 0.0 %)\n",
      "We have  5222 ( 4.88 %) empty categories.\n",
      "Potsdam\n",
      "3703\n"
     ]
    },
    {
     "name": "stderr",
     "output_type": "stream",
     "text": [
      "100%|██████████| 3703/3703 [00:00<00:00, 41637.64it/s]\n"
     ]
    },
    {
     "name": "stdout",
     "output_type": "stream",
     "text": [
      "Number of nan elements: 0 ( 0.0 %)\n",
      "We have  207 ( 5.59 %) empty categories.\n",
      "Siegen\n",
      "5353\n"
     ]
    },
    {
     "name": "stderr",
     "output_type": "stream",
     "text": [
      "100%|██████████| 5353/5353 [00:00<00:00, 41312.74it/s]\n"
     ]
    },
    {
     "name": "stdout",
     "output_type": "stream",
     "text": [
      "Number of nan elements: 0 ( 0.0 %)\n",
      "We have  266 ( 4.97 %) empty categories.\n"
     ]
    }
   ],
   "source": [
    "df_winter = df[df.season == 'winter']\n",
    "\n",
    "cities_winter = dict()\n",
    "df_by_city = df_winter.groupby('city')\n",
    "for name, group in df_by_city:\n",
    "    print(name)\n",
    "    print(len(group))\n",
    "\n",
    "    cities_winter[name], nan_list = get_categories_counter(group.categories)\n",
    "    print('Number of nan elements:', len(nan_list), '(', np.round(len(nan_list)/len(group)*100, 2),'%)')\n",
    "    print('We have ', cities_winter[name][''], '(', np.round(cities_winter[name]['']/len(group)*100, 2),'%)' , 'empty categories.')"
   ]
  },
  {
   "cell_type": "code",
   "execution_count": 91,
   "metadata": {},
   "outputs": [],
   "source": [
    "for city in cities:\n",
    "    try:\n",
    "        del(cities_summer[city][''])\n",
    "    except:\n",
    "        pass\n",
    "    try:\n",
    "        del(cities_summer[city]['nan'])\n",
    "    except:\n",
    "        pass\n",
    "    try:\n",
    "        del(cities_winter[city][''])\n",
    "    except:\n",
    "        pass\n",
    "    try:\n",
    "        del(cities_winter[city]['nan'])\n",
    "    except:\n",
    "        pass"
   ]
  },
  {
   "cell_type": "markdown",
   "metadata": {},
   "source": [
    "## Save"
   ]
  },
  {
   "cell_type": "code",
   "execution_count": 92,
   "metadata": {},
   "outputs": [],
   "source": [
    "with open('files/to_plot/categories_by_cities_summer.txt', 'wb') as handle:\n",
    "    pickle.dump(cities_summer, handle)"
   ]
  },
  {
   "cell_type": "code",
   "execution_count": 93,
   "metadata": {},
   "outputs": [],
   "source": [
    "with open('files/to_plot/categories_by_cities_winter.txt', 'wb') as handle:\n",
    "    pickle.dump(cities_winter, handle)"
   ]
  }
 ],
 "metadata": {
  "kernelspec": {
   "display_name": "Python 3",
   "language": "python",
   "name": "python3"
  },
  "language_info": {
   "codemirror_mode": {
    "name": "ipython",
    "version": 3
   },
   "file_extension": ".py",
   "mimetype": "text/x-python",
   "name": "python",
   "nbconvert_exporter": "python",
   "pygments_lexer": "ipython3",
   "version": "3.6.4"
  }
 },
 "nbformat": 4,
 "nbformat_minor": 2
}
