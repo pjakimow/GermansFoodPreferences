{
 "cells": [
  {
   "cell_type": "markdown",
   "metadata": {},
   "source": [
    "# This file was created to connect many small files into one big data file from specified folder."
   ]
  },
  {
   "cell_type": "code",
   "execution_count": 11,
   "metadata": {},
   "outputs": [],
   "source": [
    "from os import listdir\n",
    "from os.path import isfile, join\n",
    "import pandas as pd"
   ]
  },
  {
   "cell_type": "code",
   "execution_count": 4,
   "metadata": {},
   "outputs": [],
   "source": [
    "path_to_folder = 'C:/Users/Patrycja/Desktop/Uni Koblenz/CSS/GermansFoodPreferences/scrapper/scrapped'"
   ]
  },
  {
   "cell_type": "code",
   "execution_count": 5,
   "metadata": {},
   "outputs": [
    {
     "data": {
      "text/plain": [
       "['scrapped_data_july_pati_czwartek.csv',\n",
       " 'scrapped_data_july_pati_wednesday.csv',\n",
       " 'scrapped_data_july_pati_wednesday_evening.csv',\n",
       " 'scrapped_data_july_pati_wednesday_night.csv']"
      ]
     },
     "execution_count": 5,
     "metadata": {},
     "output_type": "execute_result"
    }
   ],
   "source": [
    "files_names = [f for f in listdir(path_to_folder) if isfile(join(path_to_folder, f))]\n",
    "files_names"
   ]
  },
  {
   "cell_type": "code",
   "execution_count": 6,
   "metadata": {},
   "outputs": [],
   "source": [
    "def connect_files(folderPath, sep=',', encoding=\"ISO-8859-1\"):\n",
    "    from os import listdir\n",
    "    from os.path import isfile, join\n",
    "    import pandas as pd\n",
    "    \n",
    "    files_names = [f for f in listdir(folderPath) if isfile(join(folderPath, f))]\n",
    "\n",
    "    if len(files_names) == 1:\n",
    "        return pd.read_csv(folderPath + '/' + files_names[0], sep=sep, encoding=encoding)\n",
    "    \n",
    "    # read first file\n",
    "    result = pd.read_csv(folderPath + '/' + files_names[0], sep=sep, encoding=encoding)\n",
    "    print('adding ', len(result),'rows...')\n",
    "    \n",
    "    # read another files\n",
    "    if len(files_names) > 1:\n",
    "        for file_name in files_names[1:]:\n",
    "            df_temp = pd.read_csv(folderPath + '/' + file_name, sep=sep, encoding=encoding)\n",
    "            print('adding ', len(df_temp),'rows...')\n",
    "            result = result.append(df_temp)\n",
    "    \n",
    "    return result "
   ]
  },
  {
   "cell_type": "code",
   "execution_count": 7,
   "metadata": {},
   "outputs": [
    {
     "name": "stdout",
     "output_type": "stream",
     "text": [
      "adding  30485 rows...\n",
      "adding  79014 rows...\n",
      "adding  6461 rows...\n",
      "adding  48222 rows...\n",
      "\n",
      " 164182 rows added\n"
     ]
    }
   ],
   "source": [
    "df = connect_files(path_to_folder)\n",
    "print('\\n',len(df), 'rows added')"
   ]
  },
  {
   "cell_type": "markdown",
   "metadata": {},
   "source": [
    "## Save new df as a file"
   ]
  },
  {
   "cell_type": "code",
   "execution_count": 8,
   "metadata": {},
   "outputs": [],
   "source": [
    "path_to_save = path_to_folder + '/big_file.csv'"
   ]
  },
  {
   "cell_type": "code",
   "execution_count": 9,
   "metadata": {},
   "outputs": [],
   "source": [
    "f= open(path_to_save, 'w')\n",
    "df.to_csv(f, index=None, header=True, encoding='utf-8', sep=',')\n",
    "f.close()"
   ]
  },
  {
   "cell_type": "markdown",
   "metadata": {},
   "source": [
    "## Try to open it"
   ]
  },
  {
   "cell_type": "code",
   "execution_count": 12,
   "metadata": {},
   "outputs": [],
   "source": [
    "df = pd.read_csv(path_to_save, sep=',', encoding=\"ISO-8859-1\")#, encoding='utf8')"
   ]
  },
  {
   "cell_type": "code",
   "execution_count": 13,
   "metadata": {},
   "outputs": [
    {
     "data": {
      "text/html": [
       "<div>\n",
       "<style scoped>\n",
       "    .dataframe tbody tr th:only-of-type {\n",
       "        vertical-align: middle;\n",
       "    }\n",
       "\n",
       "    .dataframe tbody tr th {\n",
       "        vertical-align: top;\n",
       "    }\n",
       "\n",
       "    .dataframe thead th {\n",
       "        text-align: right;\n",
       "    }\n",
       "</style>\n",
       "<table border=\"1\" class=\"dataframe\">\n",
       "  <thead>\n",
       "    <tr style=\"text-align: right;\">\n",
       "      <th></th>\n",
       "      <th>date</th>\n",
       "      <th>recipe_id</th>\n",
       "      <th>country</th>\n",
       "      <th>region</th>\n",
       "      <th>city</th>\n",
       "      <th>categories</th>\n",
       "    </tr>\n",
       "  </thead>\n",
       "  <tbody>\n",
       "    <tr>\n",
       "      <th>0</th>\n",
       "      <td>2013-07-16 20:09:14</td>\n",
       "      <td>5019</td>\n",
       "      <td>DE</td>\n",
       "      <td>16</td>\n",
       "      <td>Berlin</td>\n",
       "      <td>['Europa', 'Berliner Kueche', 'laktosefrei', '...</td>\n",
       "    </tr>\n",
       "    <tr>\n",
       "      <th>1</th>\n",
       "      <td>2013-07-26 20:24:12</td>\n",
       "      <td>332084</td>\n",
       "      <td>DE</td>\n",
       "      <td>2</td>\n",
       "      <td>Munich</td>\n",
       "      <td>['kalt', 'Europa', 'Italien', 'alkoholische Ge...</td>\n",
       "    </tr>\n",
       "    <tr>\n",
       "      <th>2</th>\n",
       "      <td>2013-07-26 20:25:50</td>\n",
       "      <td>186710</td>\n",
       "      <td>DE</td>\n",
       "      <td>2</td>\n",
       "      <td>Munich</td>\n",
       "      <td>['Indien', 'ohne Weizen']</td>\n",
       "    </tr>\n",
       "    <tr>\n",
       "      <th>3</th>\n",
       "      <td>2013-07-26 20:26:40</td>\n",
       "      <td>233270</td>\n",
       "      <td>DE</td>\n",
       "      <td>5</td>\n",
       "      <td>Frankfurt_Am_Main</td>\n",
       "      <td>['Braten (Fleisch)', 'Fleisch', 'Mittagstisch'...</td>\n",
       "    </tr>\n",
       "    <tr>\n",
       "      <th>4</th>\n",
       "      <td>2013-07-16 20:11:07</td>\n",
       "      <td>222888</td>\n",
       "      <td>DE</td>\n",
       "      <td>7</td>\n",
       "      <td>Koeln</td>\n",
       "      <td>['Griechenland', 'Salate', 'Milchprodukte', 'G...</td>\n",
       "    </tr>\n",
       "  </tbody>\n",
       "</table>\n",
       "</div>"
      ],
      "text/plain": [
       "                  date  recipe_id country  region               city  \\\n",
       "0  2013-07-16 20:09:14       5019      DE      16             Berlin   \n",
       "1  2013-07-26 20:24:12     332084      DE       2             Munich   \n",
       "2  2013-07-26 20:25:50     186710      DE       2             Munich   \n",
       "3  2013-07-26 20:26:40     233270      DE       5  Frankfurt_Am_Main   \n",
       "4  2013-07-16 20:11:07     222888      DE       7              Koeln   \n",
       "\n",
       "                                          categories  \n",
       "0  ['Europa', 'Berliner Kueche', 'laktosefrei', '...  \n",
       "1  ['kalt', 'Europa', 'Italien', 'alkoholische Ge...  \n",
       "2                          ['Indien', 'ohne Weizen']  \n",
       "3  ['Braten (Fleisch)', 'Fleisch', 'Mittagstisch'...  \n",
       "4  ['Griechenland', 'Salate', 'Milchprodukte', 'G...  "
      ]
     },
     "execution_count": 13,
     "metadata": {},
     "output_type": "execute_result"
    }
   ],
   "source": [
    "df.head()"
   ]
  },
  {
   "cell_type": "code",
   "execution_count": 14,
   "metadata": {},
   "outputs": [
    {
     "data": {
      "text/plain": [
       "164182"
      ]
     },
     "execution_count": 14,
     "metadata": {},
     "output_type": "execute_result"
    }
   ],
   "source": [
    "len(df)"
   ]
  },
  {
   "cell_type": "code",
   "execution_count": null,
   "metadata": {},
   "outputs": [],
   "source": []
  }
 ],
 "metadata": {
  "kernelspec": {
   "display_name": "Python 3",
   "language": "python",
   "name": "python3"
  },
  "language_info": {
   "codemirror_mode": {
    "name": "ipython",
    "version": 3
   },
   "file_extension": ".py",
   "mimetype": "text/x-python",
   "name": "python",
   "nbconvert_exporter": "python",
   "pygments_lexer": "ipython3",
   "version": "3.6.4"
  }
 },
 "nbformat": 4,
 "nbformat_minor": 2
}
