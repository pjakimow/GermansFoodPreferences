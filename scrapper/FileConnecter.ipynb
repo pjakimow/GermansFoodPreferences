{
 "cells": [
  {
   "cell_type": "markdown",
   "metadata": {},
   "source": [
    "# This file was created to connect many small files into one big data file from specified folder."
   ]
  },
  {
   "cell_type": "code",
   "execution_count": 2,
   "metadata": {},
   "outputs": [],
   "source": [
    "path_to_folder = 'C:/Users/Patrycja/Desktop/Uni Koblenz/CSS/GermansFoodPreferences/scrapper/scrapped'"
   ]
  },
  {
   "cell_type": "code",
   "execution_count": 4,
   "metadata": {},
   "outputs": [
    {
     "data": {
      "text/plain": [
       "['scrapped_data_jan_1.csv',\n",
       " 'scrapped_data_jan_2.csv',\n",
       " 'scrapped_data_jan_3.csv',\n",
       " 'scrapped_data_jan_4.csv',\n",
       " 'scrapped_data_jan_5.csv',\n",
       " 'scrapped_data_jan_6.csv',\n",
       " 'scrapped_data_jan_7.csv']"
      ]
     },
     "execution_count": 4,
     "metadata": {},
     "output_type": "execute_result"
    }
   ],
   "source": [
    "files_names = [f for f in listdir(path_to_folder) if isfile(join(path_to_folder, f))]\n",
    "files_names"
   ]
  },
  {
   "cell_type": "code",
   "execution_count": 12,
   "metadata": {},
   "outputs": [],
   "source": [
    "def connect_files(folderPath, sep=',', encoding=\"ISO-8859-1\"):\n",
    "    from os import listdir\n",
    "    from os.path import isfile, join\n",
    "    import pandas as pd\n",
    "    \n",
    "    files_names = [f for f in listdir(folderPath) if isfile(join(folderPath, f))]\n",
    "\n",
    "    if len(files_names) == 1:\n",
    "        return pd.read_csv(folderPath + '/' + files_names[0], sep=sep, encoding=encoding)\n",
    "    \n",
    "    # read first file\n",
    "    result = pd.read_csv(folderPath + '/' + files_names[0], sep=sep, encoding=encoding)\n",
    "    print('adding ', len(result),'rows...')\n",
    "    \n",
    "    # read another files\n",
    "    if len(files_names) > 1:\n",
    "        for file_name in files_names[1:]:\n",
    "            df_temp = pd.read_csv(folderPath + '/' + file_name, sep=sep, encoding=encoding)\n",
    "            print('adding ', len(df_temp),'rows...')\n",
    "            result = result.append(df_temp)\n",
    "    \n",
    "    return result "
   ]
  },
  {
   "cell_type": "code",
   "execution_count": 18,
   "metadata": {},
   "outputs": [
    {
     "name": "stdout",
     "output_type": "stream",
     "text": [
      "adding  27294 rows...\n",
      "adding  26844 rows...\n",
      "adding  449 rows...\n",
      "adding  1 rows...\n",
      "adding  18557 rows...\n",
      "adding  58962 rows...\n",
      "adding  4368 rows...\n",
      "\n",
      " 136475 rows added\n"
     ]
    }
   ],
   "source": [
    "df = connect_files(path_to_folder)\n",
    "print('\\n',len(df), 'rows added')"
   ]
  },
  {
   "cell_type": "markdown",
   "metadata": {},
   "source": [
    "## Save new df as a file"
   ]
  },
  {
   "cell_type": "code",
   "execution_count": 19,
   "metadata": {},
   "outputs": [],
   "source": [
    "path_to_save = path_to_folder + '/big_file.csv'"
   ]
  },
  {
   "cell_type": "code",
   "execution_count": 20,
   "metadata": {},
   "outputs": [],
   "source": [
    "f= open(path_to_save, 'w')\n",
    "df.to_csv(f, index=None, header=True, encoding='utf-8', sep=',')\n",
    "f.close()"
   ]
  },
  {
   "cell_type": "markdown",
   "metadata": {},
   "source": [
    "## Try to open it"
   ]
  },
  {
   "cell_type": "code",
   "execution_count": 21,
   "metadata": {},
   "outputs": [],
   "source": [
    "df = pd.read_csv(path_to_save, sep=',', encoding=\"ISO-8859-1\")#, encoding='utf8')"
   ]
  },
  {
   "cell_type": "code",
   "execution_count": 26,
   "metadata": {},
   "outputs": [
    {
     "data": {
      "text/html": [
       "<div>\n",
       "<style scoped>\n",
       "    .dataframe tbody tr th:only-of-type {\n",
       "        vertical-align: middle;\n",
       "    }\n",
       "\n",
       "    .dataframe tbody tr th {\n",
       "        vertical-align: top;\n",
       "    }\n",
       "\n",
       "    .dataframe thead th {\n",
       "        text-align: right;\n",
       "    }\n",
       "</style>\n",
       "<table border=\"1\" class=\"dataframe\">\n",
       "  <thead>\n",
       "    <tr style=\"text-align: right;\">\n",
       "      <th></th>\n",
       "      <th>date</th>\n",
       "      <th>recipe_id</th>\n",
       "      <th>country</th>\n",
       "      <th>region</th>\n",
       "      <th>city</th>\n",
       "      <th>categories</th>\n",
       "    </tr>\n",
       "  </thead>\n",
       "  <tbody>\n",
       "    <tr>\n",
       "      <th>0</th>\n",
       "      <td>2014-01-01 00:00:08</td>\n",
       "      <td>131773</td>\n",
       "      <td>DE</td>\n",
       "      <td>5</td>\n",
       "      <td>Frankfurt_Am_Main</td>\n",
       "      <td>['Badische Kueche ', 'Kuchen/Torte', 'Pfannkuc...</td>\n",
       "    </tr>\n",
       "    <tr>\n",
       "      <th>1</th>\n",
       "      <td>2014-01-01 00:00:19</td>\n",
       "      <td>467698</td>\n",
       "      <td>DE</td>\n",
       "      <td>5</td>\n",
       "      <td>Frankfurt_Am_Main</td>\n",
       "      <td>['Dessert', 'Milchprodukte', 'glutenfrei', 'oh...</td>\n",
       "    </tr>\n",
       "    <tr>\n",
       "      <th>2</th>\n",
       "      <td>2014-01-01 00:00:50</td>\n",
       "      <td>128086</td>\n",
       "      <td>DE</td>\n",
       "      <td>5</td>\n",
       "      <td>Frankfurt_Am_Main</td>\n",
       "      <td>['Vorspeise', 'Zwischengericht', 'kochen', 'gl...</td>\n",
       "    </tr>\n",
       "    <tr>\n",
       "      <th>3</th>\n",
       "      <td>2014-01-01 00:01:00</td>\n",
       "      <td>183737</td>\n",
       "      <td>DE</td>\n",
       "      <td>5</td>\n",
       "      <td>Frankfurt_Am_Main</td>\n",
       "      <td>['Auflauf /Ueberbackenes', 'glutenfrei', 'ohne...</td>\n",
       "    </tr>\n",
       "    <tr>\n",
       "      <th>4</th>\n",
       "      <td>2014-01-01 00:01:10</td>\n",
       "      <td>151362</td>\n",
       "      <td>DE</td>\n",
       "      <td>5</td>\n",
       "      <td>Frankfurt_Am_Main</td>\n",
       "      <td>['Europa', 'Fleisch', 'glutenfrei', 'ohne Weiz...</td>\n",
       "    </tr>\n",
       "  </tbody>\n",
       "</table>\n",
       "</div>"
      ],
      "text/plain": [
       "                  date  recipe_id country  region               city  \\\n",
       "0  2014-01-01 00:00:08     131773      DE       5  Frankfurt_Am_Main   \n",
       "1  2014-01-01 00:00:19     467698      DE       5  Frankfurt_Am_Main   \n",
       "2  2014-01-01 00:00:50     128086      DE       5  Frankfurt_Am_Main   \n",
       "3  2014-01-01 00:01:00     183737      DE       5  Frankfurt_Am_Main   \n",
       "4  2014-01-01 00:01:10     151362      DE       5  Frankfurt_Am_Main   \n",
       "\n",
       "                                          categories  \n",
       "0  ['Badische Kueche ', 'Kuchen/Torte', 'Pfannkuc...  \n",
       "1  ['Dessert', 'Milchprodukte', 'glutenfrei', 'oh...  \n",
       "2  ['Vorspeise', 'Zwischengericht', 'kochen', 'gl...  \n",
       "3  ['Auflauf /Ueberbackenes', 'glutenfrei', 'ohne...  \n",
       "4  ['Europa', 'Fleisch', 'glutenfrei', 'ohne Weiz...  "
      ]
     },
     "execution_count": 26,
     "metadata": {},
     "output_type": "execute_result"
    }
   ],
   "source": [
    "df.head()"
   ]
  },
  {
   "cell_type": "code",
   "execution_count": 23,
   "metadata": {},
   "outputs": [
    {
     "data": {
      "text/plain": [
       "136475"
      ]
     },
     "execution_count": 23,
     "metadata": {},
     "output_type": "execute_result"
    }
   ],
   "source": [
    "len(df)"
   ]
  }
 ],
 "metadata": {
  "kernelspec": {
   "display_name": "Python 3",
   "language": "python",
   "name": "python3"
  },
  "language_info": {
   "codemirror_mode": {
    "name": "ipython",
    "version": 3
   },
   "file_extension": ".py",
   "mimetype": "text/x-python",
   "name": "python",
   "nbconvert_exporter": "python",
   "pygments_lexer": "ipython3",
   "version": "3.6.4"
  }
 },
 "nbformat": 4,
 "nbformat_minor": 2
}
