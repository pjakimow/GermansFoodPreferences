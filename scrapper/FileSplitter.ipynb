{
 "cells": [
  {
   "cell_type": "markdown",
   "metadata": {},
   "source": [
    "# This file was created to split a big data file to many files to devide webscrapping task."
   ]
  },
  {
   "cell_type": "markdown",
   "metadata": {},
   "source": [
    "Remember to change path."
   ]
  },
  {
   "cell_type": "code",
   "execution_count": 24,
   "metadata": {},
   "outputs": [],
   "source": [
    "import pandas as pd"
   ]
  },
  {
   "cell_type": "code",
   "execution_count": 25,
   "metadata": {},
   "outputs": [],
   "source": [
    "path = 'C:/Users/Patrycja/Desktop/Uni Koblenz/CSS/food_big_small_two_months/jan_big_small_city.csv'"
   ]
  },
  {
   "cell_type": "code",
   "execution_count": 26,
   "metadata": {},
   "outputs": [],
   "source": [
    "df = pd.read_csv(path, sep=',')"
   ]
  },
  {
   "cell_type": "code",
   "execution_count": 27,
   "metadata": {},
   "outputs": [
    {
     "name": "stdout",
     "output_type": "stream",
     "text": [
      "Number of rows: 682397\n"
     ]
    },
    {
     "data": {
      "text/html": [
       "<div>\n",
       "<style scoped>\n",
       "    .dataframe tbody tr th:only-of-type {\n",
       "        vertical-align: middle;\n",
       "    }\n",
       "\n",
       "    .dataframe tbody tr th {\n",
       "        vertical-align: top;\n",
       "    }\n",
       "\n",
       "    .dataframe thead th {\n",
       "        text-align: right;\n",
       "    }\n",
       "</style>\n",
       "<table border=\"1\" class=\"dataframe\">\n",
       "  <thead>\n",
       "    <tr style=\"text-align: right;\">\n",
       "      <th></th>\n",
       "      <th>country</th>\n",
       "      <th>country_region</th>\n",
       "      <th>zip</th>\n",
       "      <th>city</th>\n",
       "      <th>date</th>\n",
       "      <th>target_link</th>\n",
       "      <th>origin_link</th>\n",
       "      <th>host_type</th>\n",
       "      <th>recipe_id</th>\n",
       "    </tr>\n",
       "  </thead>\n",
       "  <tbody>\n",
       "    <tr>\n",
       "      <th>0</th>\n",
       "      <td>DE</td>\n",
       "      <td>5</td>\n",
       "      <td>-1</td>\n",
       "      <td>Frankfurt_Am_Main</td>\n",
       "      <td>2014-01-01 00:00:08</td>\n",
       "      <td>/rezept/131773/Striebele.html</td>\n",
       "      <td>-</td>\n",
       "      <td>Mozilla/5.0 (compatible; YandexBot/3.0; +http:...</td>\n",
       "      <td>131773</td>\n",
       "    </tr>\n",
       "    <tr>\n",
       "      <th>1</th>\n",
       "      <td>DE</td>\n",
       "      <td>5</td>\n",
       "      <td>-1</td>\n",
       "      <td>Frankfurt_Am_Main</td>\n",
       "      <td>2014-01-01 00:00:19</td>\n",
       "      <td>/rezept/467698/Hangop.html</td>\n",
       "      <td>-</td>\n",
       "      <td>Mozilla/5.0 (compatible; YandexBot/3.0; +http:...</td>\n",
       "      <td>467698</td>\n",
       "    </tr>\n",
       "    <tr>\n",
       "      <th>2</th>\n",
       "      <td>DE</td>\n",
       "      <td>5</td>\n",
       "      <td>-1</td>\n",
       "      <td>Frankfurt_Am_Main</td>\n",
       "      <td>2014-01-01 00:00:50</td>\n",
       "      <td>/rezept/128086/Eiersalat.html</td>\n",
       "      <td>-</td>\n",
       "      <td>Mozilla/5.0 (compatible; YandexBot/3.0; +http:...</td>\n",
       "      <td>128086</td>\n",
       "    </tr>\n",
       "    <tr>\n",
       "      <th>3</th>\n",
       "      <td>DE</td>\n",
       "      <td>5</td>\n",
       "      <td>-1</td>\n",
       "      <td>Frankfurt_Am_Main</td>\n",
       "      <td>2014-01-01 00:01:00</td>\n",
       "      <td>/rezept/183737/Stuffed-Potatoes.html</td>\n",
       "      <td>-</td>\n",
       "      <td>Mozilla/5.0 (compatible; YandexBot/3.0; +http:...</td>\n",
       "      <td>183737</td>\n",
       "    </tr>\n",
       "    <tr>\n",
       "      <th>4</th>\n",
       "      <td>DE</td>\n",
       "      <td>5</td>\n",
       "      <td>-1</td>\n",
       "      <td>Frankfurt_Am_Main</td>\n",
       "      <td>2014-01-01 00:01:10</td>\n",
       "      <td>/rezept/151362/Fruehlingszwiebeln-mit-Fleisch....</td>\n",
       "      <td>-</td>\n",
       "      <td>Mozilla/5.0 (compatible; YandexBot/3.0; +http:...</td>\n",
       "      <td>151362</td>\n",
       "    </tr>\n",
       "  </tbody>\n",
       "</table>\n",
       "</div>"
      ],
      "text/plain": [
       "  country  country_region  zip               city                 date  \\\n",
       "0      DE               5   -1  Frankfurt_Am_Main  2014-01-01 00:00:08   \n",
       "1      DE               5   -1  Frankfurt_Am_Main  2014-01-01 00:00:19   \n",
       "2      DE               5   -1  Frankfurt_Am_Main  2014-01-01 00:00:50   \n",
       "3      DE               5   -1  Frankfurt_Am_Main  2014-01-01 00:01:00   \n",
       "4      DE               5   -1  Frankfurt_Am_Main  2014-01-01 00:01:10   \n",
       "\n",
       "                                         target_link origin_link  \\\n",
       "0                      /rezept/131773/Striebele.html           -   \n",
       "1                         /rezept/467698/Hangop.html           -   \n",
       "2                      /rezept/128086/Eiersalat.html           -   \n",
       "3               /rezept/183737/Stuffed-Potatoes.html           -   \n",
       "4  /rezept/151362/Fruehlingszwiebeln-mit-Fleisch....           -   \n",
       "\n",
       "                                           host_type  recipe_id  \n",
       "0  Mozilla/5.0 (compatible; YandexBot/3.0; +http:...     131773  \n",
       "1  Mozilla/5.0 (compatible; YandexBot/3.0; +http:...     467698  \n",
       "2  Mozilla/5.0 (compatible; YandexBot/3.0; +http:...     128086  \n",
       "3  Mozilla/5.0 (compatible; YandexBot/3.0; +http:...     183737  \n",
       "4  Mozilla/5.0 (compatible; YandexBot/3.0; +http:...     151362  "
      ]
     },
     "execution_count": 27,
     "metadata": {},
     "output_type": "execute_result"
    }
   ],
   "source": [
    "print('Number of rows:', df.shape[0])\n",
    "df.head()"
   ]
  },
  {
   "cell_type": "markdown",
   "metadata": {},
   "source": [
    "## Test"
   ]
  },
  {
   "cell_type": "code",
   "execution_count": 44,
   "metadata": {},
   "outputs": [],
   "source": [
    "def test_indexes(path, filesNum=5, sep=','):\n",
    "    df = pd.read_csv(path, sep=sep)\n",
    "    lines_per_file = df.shape[0]//filesNum\n",
    "    \n",
    "    i = 0\n",
    "    for n in range(filesNum-1):\n",
    "        path_to_save = 'files/data_' + str(n+1)+'.csv'\n",
    "        print(path_to_save)\n",
    "        print('\\tfrom: ', i, 'to:', i + lines_per_file-1)\n",
    "        i += lines_per_file\n",
    "\n",
    "    path_to_save = 'files/data_' + str(filesNum)+'.csv'\n",
    "    print(path_to_save)\n",
    "    print('\\tfrom: ', i, 'to: the end')"
   ]
  },
  {
   "cell_type": "code",
   "execution_count": 45,
   "metadata": {
    "scrolled": true
   },
   "outputs": [
    {
     "name": "stdout",
     "output_type": "stream",
     "text": [
      "files/data_1.csv\n",
      "\tfrom:  0 to: 136478\n",
      "files/data_2.csv\n",
      "\tfrom:  136479 to: 272957\n",
      "files/data_3.csv\n",
      "\tfrom:  272958 to: 409436\n",
      "files/data_4.csv\n",
      "\tfrom:  409437 to: 545915\n",
      "files/data_5.csv\n",
      "\tfrom:  545916 to: the end\n"
     ]
    }
   ],
   "source": [
    "test_indexes(path)"
   ]
  },
  {
   "cell_type": "markdown",
   "metadata": {},
   "source": [
    "## Program"
   ]
  },
  {
   "cell_type": "code",
   "execution_count": 56,
   "metadata": {},
   "outputs": [],
   "source": [
    "def splitFile(pathToRead, pathToSave, filesNum=5, sep=','):\n",
    "    df = pd.read_csv(pathToRead, sep=sep)\n",
    "    lines_per_file = df.shape[0]//filesNum\n",
    "    \n",
    "    i = 0\n",
    "    for n in range(filesNum-1):\n",
    "        path_to_save = pathToSave + '/data_' + str(n+1)+'.csv'\n",
    "\n",
    "        df_part = df[i: i + lines_per_file-1]\n",
    "        i += lines_per_file\n",
    "        with open(path_to_save,'w') as f:\n",
    "            df_part.to_csv(f, index=None, header=df.columns.values, encoding='utf-8', sep=',')\n",
    "            print('Data saved to:' + path_to_save)\n",
    "\n",
    "    path_to_save = pathToSave + '/data_' + str(filesNum)+'.csv'\n",
    "    with open(path_to_save,'w') as f:\n",
    "        df[i:].to_csv(f, index=None, header=df.columns.values, encoding='utf-8', sep=',')\n",
    "        print('Data saved to:' + path_to_save)"
   ]
  },
  {
   "cell_type": "code",
   "execution_count": 54,
   "metadata": {},
   "outputs": [
    {
     "name": "stdout",
     "output_type": "stream",
     "text": [
      "Data saved to:files/data_1.csv\n",
      "Data saved to:files/data_2.csv\n",
      "Data saved to:files/data_3.csv\n",
      "Data saved to:files/data_4.csv\n",
      "Data saved to:files/data_5.csv\n"
     ]
    }
   ],
   "source": [
    "splitFile(path, 'files/jan')"
   ]
  },
  {
   "cell_type": "code",
   "execution_count": 57,
   "metadata": {},
   "outputs": [
    {
     "name": "stdout",
     "output_type": "stream",
     "text": [
      "Data saved to:files/july/data_1.csv\n",
      "Data saved to:files/july/data_2.csv\n",
      "Data saved to:files/july/data_3.csv\n",
      "Data saved to:files/july/data_4.csv\n",
      "Data saved to:files/july/data_5.csv\n"
     ]
    }
   ],
   "source": [
    "splitFile('C:/Users/Patrycja/Desktop/Uni Koblenz/CSS/food_big_small_two_months/july_big_small_city.csv', 'files/july')"
   ]
  },
  {
   "cell_type": "code",
   "execution_count": null,
   "metadata": {},
   "outputs": [],
   "source": []
  }
 ],
 "metadata": {
  "kernelspec": {
   "display_name": "Python 3",
   "language": "python",
   "name": "python3"
  },
  "language_info": {
   "codemirror_mode": {
    "name": "ipython",
    "version": 3
   },
   "file_extension": ".py",
   "mimetype": "text/x-python",
   "name": "python",
   "nbconvert_exporter": "python",
   "pygments_lexer": "ipython3",
   "version": "3.6.4"
  }
 },
 "nbformat": 4,
 "nbformat_minor": 2
}
