{
 "cells": [
  {
   "cell_type": "markdown",
   "metadata": {},
   "source": [
    "Test scrapping on a few specified pages."
   ]
  },
  {
   "cell_type": "code",
   "execution_count": 1,
   "metadata": {},
   "outputs": [],
   "source": [
    "import requests\n",
    "from bs4 import BeautifulSoup\n",
    "from bs4 import Comment"
   ]
  },
  {
   "cell_type": "markdown",
   "metadata": {},
   "source": [
    "test cases:"
   ]
  },
  {
   "cell_type": "code",
   "execution_count": 2,
   "metadata": {},
   "outputs": [],
   "source": [
    "domain = 'https://www.kochbar.de'\n",
    "urls = ['/rezept/443097/Abendbrot-UEberbackenes-Broetchen-a-la-Gudrun.html','/rezept/108268/Coq-au-vin.html','/rezept/231469/Kuchen-Blechkuchen-Kaesekuchen-mit-Mohn-und-Eierlikoer.html']\n",
    "results = [['Auflauf /Überbackenes','Fleisch','Milchprodukte','Frühstück','Abendessen','Date','Party','preiswerte',\n",
    " 'schnell & einfach','glutenfrei','ohne Weizen'], ['Europa', 'Frankreich', 'Fleisch', 'Hauptspeise', 'ohne Weizen'], \n",
    "          ['Kuchen/Torte', 'Kaffee & Kuchen', 'glutenfrei', 'ohne Weizen']]"
   ]
  },
  {
   "cell_type": "code",
   "execution_count": null,
   "metadata": {},
   "outputs": [],
   "source": []
  },
  {
   "cell_type": "code",
   "execution_count": 3,
   "metadata": {},
   "outputs": [],
   "source": [
    "response = requests.get(domain + urls[1])\n",
    "soup = BeautifulSoup(response.content.decode('utf-8','ignore'), \"lxml\")"
   ]
  },
  {
   "cell_type": "markdown",
   "metadata": {},
   "source": [
    "check response status"
   ]
  },
  {
   "cell_type": "code",
   "execution_count": 4,
   "metadata": {},
   "outputs": [
    {
     "data": {
      "text/plain": [
       "200"
      ]
     },
     "execution_count": 4,
     "metadata": {},
     "output_type": "execute_result"
    }
   ],
   "source": [
    "response.status_code"
   ]
  },
  {
   "cell_type": "markdown",
   "metadata": {},
   "source": [
    "check chars encoding"
   ]
  },
  {
   "cell_type": "code",
   "execution_count": 5,
   "metadata": {},
   "outputs": [
    {
     "data": {
      "text/plain": [
       "' ÄHNLICHE KATEGORIEN '"
      ]
     },
     "execution_count": 5,
     "metadata": {},
     "output_type": "execute_result"
    }
   ],
   "source": [
    "comments = soup.find_all(string=lambda text:isinstance(text, Comment))\n",
    "comments[89]"
   ]
  },
  {
   "cell_type": "markdown",
   "metadata": {},
   "source": [
    "## Find first node where to start looking for siblings"
   ]
  },
  {
   "cell_type": "code",
   "execution_count": 6,
   "metadata": {},
   "outputs": [
    {
     "data": {
      "text/plain": [
       "' REZEPT-KATEGORIEN '"
      ]
     },
     "execution_count": 6,
     "metadata": {},
     "output_type": "execute_result"
    }
   ],
   "source": [
    "def find_comment(soup, wanted_comment='REZEPT-KATEGORIEN'):\n",
    "    found = False\n",
    "\n",
    "    comments = soup.find_all(string=lambda text:isinstance(text, Comment))\n",
    "    i = 0\n",
    "    while not found and i < len(comments):\n",
    "        node = comments[i]\n",
    "        if node.strip() == wanted_comment:\n",
    "            #print('comment found')\n",
    "            found = True\n",
    "\n",
    "        i+=1\n",
    "    return node\n",
    "\n",
    "find_comment(soup)"
   ]
  },
  {
   "cell_type": "markdown",
   "metadata": {},
   "source": [
    "## Find categories"
   ]
  },
  {
   "cell_type": "code",
   "execution_count": 7,
   "metadata": {},
   "outputs": [
    {
     "data": {
      "text/plain": [
       "['Europa', 'Frankreich', 'Fleisch', 'Hauptspeise', 'ohne Weizen']"
      ]
     },
     "execution_count": 7,
     "metadata": {},
     "output_type": "execute_result"
    }
   ],
   "source": [
    "def find_categories(soup, wanted_class = 'rtli-pb-small'):\n",
    "    data = []\n",
    "    node = find_comment(soup)\n",
    "    startOfItems, endOfItems = False, False\n",
    "    \n",
    "    while not endOfItems and node.find_next_sibling():\n",
    "        node = node.find_next_sibling()\n",
    "\n",
    "        if node['class'][0] == wanted_class:\n",
    "            startOfItems = True\n",
    "\n",
    "            if node.findChild().name == 'a':\n",
    "                data.append(node.a.text)\n",
    "            elif node.findChild().name == 'span':\n",
    "                data.append(node.span.text)\n",
    "\n",
    "        elif startOfItems:\n",
    "            endOfItems = True\n",
    "    \n",
    "    return data\n",
    "                \n",
    "find_categories(soup)"
   ]
  },
  {
   "cell_type": "markdown",
   "metadata": {},
   "source": [
    "# Launch tests"
   ]
  },
  {
   "cell_type": "code",
   "execution_count": 9,
   "metadata": {},
   "outputs": [
    {
     "name": "stdout",
     "output_type": "stream",
     "text": [
      "Request status ok!\n",
      "\tcategories: ['Auflauf /Überbackenes', 'Fleisch', 'Milchprodukte', 'Frühstück', 'Abendessen', 'Date', 'Party', 'preiswerte', 'schnell & einfach', 'glutenfrei', 'ohne Weizen'] \n",
      "\n",
      "Request status ok!\n",
      "\tcategories: ['Europa', 'Frankreich', 'Fleisch', 'Hauptspeise', 'ohne Weizen'] \n",
      "\n",
      "Request status ok!\n",
      "\tcategories: ['Kuchen/Torte', 'Kaffee & Kuchen', 'glutenfrei', 'ohne Weizen'] \n",
      "\n"
     ]
    }
   ],
   "source": [
    "for i in range(len(urls)):\n",
    "    response = requests.get(domain + urls[i])\n",
    "    \n",
    "    if response.url != 'https://www.kochbar.de/rezepte/' and response.status_code == 200:\n",
    "        print('Request status ok!')\n",
    "        soup = BeautifulSoup(response.content.decode('utf-8','ignore'), \"lxml\")\n",
    "        categories = find_categories(soup)\n",
    "        print('\\tcategories:', categories, '\\n')\n",
    "    elif response.status_code == 200:\n",
    "        print('This webpage is probably no longer available!')\n",
    "    else:\n",
    "        print('Not correct request status: ', response.status_code)"
   ]
  },
  {
   "cell_type": "code",
   "execution_count": null,
   "metadata": {},
   "outputs": [],
   "source": []
  }
 ],
 "metadata": {
  "kernelspec": {
   "display_name": "Python 3",
   "language": "python",
   "name": "python3"
  },
  "language_info": {
   "codemirror_mode": {
    "name": "ipython",
    "version": 3
   },
   "file_extension": ".py",
   "mimetype": "text/x-python",
   "name": "python",
   "nbconvert_exporter": "python",
   "pygments_lexer": "ipython3",
   "version": "3.6.4"
  }
 },
 "nbformat": 4,
 "nbformat_minor": 2
}
