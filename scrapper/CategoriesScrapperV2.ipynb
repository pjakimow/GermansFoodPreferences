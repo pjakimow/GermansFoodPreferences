{
 "cells": [
  {
   "cell_type": "markdown",
   "metadata": {},
   "source": [
    "Scrap websites mentioned in file to collect food categories. It saves scrapped data after each page. "
   ]
  },
  {
   "cell_type": "code",
   "execution_count": 23,
   "metadata": {},
   "outputs": [],
   "source": [
    "import numpy as np\n",
    "import pandas as pd\n",
    "import requests\n",
    "from bs4 import BeautifulSoup\n",
    "from bs4 import Comment\n",
    "import time\n",
    "from tqdm import tqdm"
   ]
  },
  {
   "cell_type": "markdown",
   "metadata": {},
   "source": [
    "## Read file"
   ]
  },
  {
   "cell_type": "markdown",
   "metadata": {},
   "source": [
    "You have to specified number of rows to read from a file - check first how many rows are there in the scv file.\n",
    "Without 'nrows' parameter an exception occures."
   ]
  },
  {
   "cell_type": "code",
   "execution_count": 37,
   "metadata": {},
   "outputs": [],
   "source": [
    "pathToRead = 'C:/Users/Patrycja/Desktop/Uni Koblenz/CSS/project brudnopis/food_data_excerpt/food_data_excerpt_0v.csv'#'food_data_excerpt/food_data_excerpt.csv'\n",
    "nrows = 336936"
   ]
  },
  {
   "cell_type": "code",
   "execution_count": 38,
   "metadata": {},
   "outputs": [],
   "source": [
    "df = pd.read_csv(pathToRead, sep=',', encoding='utf8', nrows=10)#, engine='python'"
   ]
  },
  {
   "cell_type": "code",
   "execution_count": 39,
   "metadata": {},
   "outputs": [
    {
     "data": {
      "text/html": [
       "<div>\n",
       "<style scoped>\n",
       "    .dataframe tbody tr th:only-of-type {\n",
       "        vertical-align: middle;\n",
       "    }\n",
       "\n",
       "    .dataframe tbody tr th {\n",
       "        vertical-align: top;\n",
       "    }\n",
       "\n",
       "    .dataframe thead th {\n",
       "        text-align: right;\n",
       "    }\n",
       "</style>\n",
       "<table border=\"1\" class=\"dataframe\">\n",
       "  <thead>\n",
       "    <tr style=\"text-align: right;\">\n",
       "      <th></th>\n",
       "      <th>country</th>\n",
       "      <th>country_region</th>\n",
       "      <th>zip</th>\n",
       "      <th>city</th>\n",
       "      <th>date</th>\n",
       "      <th>target_link</th>\n",
       "      <th>origin_link</th>\n",
       "      <th>host_type</th>\n",
       "      <th>recipe_id</th>\n",
       "    </tr>\n",
       "  </thead>\n",
       "  <tbody>\n",
       "    <tr>\n",
       "      <th>0</th>\n",
       "      <td>DE</td>\n",
       "      <td>7</td>\n",
       "      <td>47169</td>\n",
       "      <td>Duisburg</td>\n",
       "      <td>2013-02-28 23:59:59</td>\n",
       "      <td>/rezept/443097/Abendbrot-UEberbackenes-Broetch...</td>\n",
       "      <td>http://www.kochbar.de/kochen/Auflaeufe-zuberei...</td>\n",
       "      <td>Mozilla/5.0 (Windows NT 6.1; WOW64; rv:2.0.1) ...</td>\n",
       "      <td>443097</td>\n",
       "    </tr>\n",
       "    <tr>\n",
       "      <th>1</th>\n",
       "      <td>DE</td>\n",
       "      <td>9</td>\n",
       "      <td>66564</td>\n",
       "      <td>Ottweiler</td>\n",
       "      <td>2013-03-01 00:00:01</td>\n",
       "      <td>/rezept/108268/Coq-au-vin.html</td>\n",
       "      <td>http://www.kochbar.de/rezepte/coq-au-vin.html</td>\n",
       "      <td>Mozilla/5.0 (Windows NT 5.1; rv:19.0) Gecko/20...</td>\n",
       "      <td>108268</td>\n",
       "    </tr>\n",
       "    <tr>\n",
       "      <th>2</th>\n",
       "      <td>DE</td>\n",
       "      <td>7</td>\n",
       "      <td>-1</td>\n",
       "      <td>Hattingen</td>\n",
       "      <td>2013-03-01 00:00:02</td>\n",
       "      <td>/rezept/231469/Kuchen-Blechkuchen-Kaesekuchen-...</td>\n",
       "      <td>-</td>\n",
       "      <td>Mozilla/5.0 (iPad; CPU OS 6_0_1 like Mac OS X)...</td>\n",
       "      <td>231469</td>\n",
       "    </tr>\n",
       "    <tr>\n",
       "      <th>3</th>\n",
       "      <td>DE</td>\n",
       "      <td>5</td>\n",
       "      <td>-1</td>\n",
       "      <td>Sulzbach</td>\n",
       "      <td>2013-03-01 00:00:04</td>\n",
       "      <td>/rezept/410839/Bier-Wackler-Dessert.html</td>\n",
       "      <td>http://www.google.de/url?sa=t&amp;rct=j&amp;q=wackler%...</td>\n",
       "      <td>Mozilla/5.0 (Windows NT 6.2; WOW64) AppleWebKi...</td>\n",
       "      <td>410839</td>\n",
       "    </tr>\n",
       "    <tr>\n",
       "      <th>4</th>\n",
       "      <td>DE</td>\n",
       "      <td>11</td>\n",
       "      <td>-1</td>\n",
       "      <td>Calau</td>\n",
       "      <td>2013-03-01 00:00:06</td>\n",
       "      <td>/rezept/392545/Black-Bottom-Cupcake.html</td>\n",
       "      <td>http://www.kochbar.de/rezepte/cupcakes.html?of...</td>\n",
       "      <td>Mozilla/5.0 (Windows NT 6.1; WOW64; rv:19.0) G...</td>\n",
       "      <td>392545</td>\n",
       "    </tr>\n",
       "    <tr>\n",
       "      <th>5</th>\n",
       "      <td>DE</td>\n",
       "      <td>6</td>\n",
       "      <td>-1</td>\n",
       "      <td>Rhade</td>\n",
       "      <td>2013-03-01 00:00:06</td>\n",
       "      <td>/rezept/233705/Nudelpfanne-mit-Koettbullar.html</td>\n",
       "      <td>http://www.kochbar.de/rezepte/alle-rezepte.htm...</td>\n",
       "      <td>Mozilla/5.0 (compatible; MSIE 9.0; Windows NT ...</td>\n",
       "      <td>233705</td>\n",
       "    </tr>\n",
       "    <tr>\n",
       "      <th>6</th>\n",
       "      <td>DE</td>\n",
       "      <td>5</td>\n",
       "      <td>65931</td>\n",
       "      <td>Frankfurt_Am_Main</td>\n",
       "      <td>2013-03-01 00:00:07</td>\n",
       "      <td>/rezept/158488/Bechamelsosse-herzhaft.html</td>\n",
       "      <td>http://www.kochbar.de/rezepte/bechamelso%C3%9F...</td>\n",
       "      <td>Mozilla/5.0 (compatible; MSIE 9.0; Windows NT ...</td>\n",
       "      <td>158488</td>\n",
       "    </tr>\n",
       "    <tr>\n",
       "      <th>7</th>\n",
       "      <td>DE</td>\n",
       "      <td>7</td>\n",
       "      <td>47574</td>\n",
       "      <td>Goch</td>\n",
       "      <td>2013-03-01 00:00:07</td>\n",
       "      <td>/rezept/285300/Himmel-auf-Erden.html</td>\n",
       "      <td>http://www.kochbar.de/rezepte/sauerkrautauflau...</td>\n",
       "      <td>Mozilla/5.0 (Windows NT 6.1; WOW64; rv:19.0) G...</td>\n",
       "      <td>285300</td>\n",
       "    </tr>\n",
       "    <tr>\n",
       "      <th>8</th>\n",
       "      <td>DE</td>\n",
       "      <td>9</td>\n",
       "      <td>66111</td>\n",
       "      <td>Saarbrücken</td>\n",
       "      <td>2013-03-01 00:00:08</td>\n",
       "      <td>/rezept/179340/Lachstartar.html</td>\n",
       "      <td>http://www.kochbar.de/rezepte/lachstartar.html</td>\n",
       "      <td>Mozilla/5.0 (Windows NT 5.1; rv:8.0.1) Gecko/2...</td>\n",
       "      <td>179340</td>\n",
       "    </tr>\n",
       "    <tr>\n",
       "      <th>9</th>\n",
       "      <td>DE</td>\n",
       "      <td>7</td>\n",
       "      <td>58644</td>\n",
       "      <td>Iserlohn</td>\n",
       "      <td>2013-03-01 00:00:09</td>\n",
       "      <td>/rezept/1999/Massaman-Curry-Paste.html</td>\n",
       "      <td>http://www.kochbar.de/kochrezepte/schmeckt-nic...</td>\n",
       "      <td>Mozilla/5.0 (compatible; MSIE 9.0; Windows NT ...</td>\n",
       "      <td>1999</td>\n",
       "    </tr>\n",
       "  </tbody>\n",
       "</table>\n",
       "</div>"
      ],
      "text/plain": [
       "  country  country_region    zip               city                 date  \\\n",
       "0      DE               7  47169           Duisburg  2013-02-28 23:59:59   \n",
       "1      DE               9  66564          Ottweiler  2013-03-01 00:00:01   \n",
       "2      DE               7     -1          Hattingen  2013-03-01 00:00:02   \n",
       "3      DE               5     -1           Sulzbach  2013-03-01 00:00:04   \n",
       "4      DE              11     -1              Calau  2013-03-01 00:00:06   \n",
       "5      DE               6     -1              Rhade  2013-03-01 00:00:06   \n",
       "6      DE               5  65931  Frankfurt_Am_Main  2013-03-01 00:00:07   \n",
       "7      DE               7  47574               Goch  2013-03-01 00:00:07   \n",
       "8      DE               9  66111        Saarbrücken  2013-03-01 00:00:08   \n",
       "9      DE               7  58644           Iserlohn  2013-03-01 00:00:09   \n",
       "\n",
       "                                         target_link  \\\n",
       "0  /rezept/443097/Abendbrot-UEberbackenes-Broetch...   \n",
       "1                     /rezept/108268/Coq-au-vin.html   \n",
       "2  /rezept/231469/Kuchen-Blechkuchen-Kaesekuchen-...   \n",
       "3           /rezept/410839/Bier-Wackler-Dessert.html   \n",
       "4           /rezept/392545/Black-Bottom-Cupcake.html   \n",
       "5    /rezept/233705/Nudelpfanne-mit-Koettbullar.html   \n",
       "6         /rezept/158488/Bechamelsosse-herzhaft.html   \n",
       "7               /rezept/285300/Himmel-auf-Erden.html   \n",
       "8                    /rezept/179340/Lachstartar.html   \n",
       "9             /rezept/1999/Massaman-Curry-Paste.html   \n",
       "\n",
       "                                         origin_link  \\\n",
       "0  http://www.kochbar.de/kochen/Auflaeufe-zuberei...   \n",
       "1      http://www.kochbar.de/rezepte/coq-au-vin.html   \n",
       "2                                                  -   \n",
       "3  http://www.google.de/url?sa=t&rct=j&q=wackler%...   \n",
       "4  http://www.kochbar.de/rezepte/cupcakes.html?of...   \n",
       "5  http://www.kochbar.de/rezepte/alle-rezepte.htm...   \n",
       "6  http://www.kochbar.de/rezepte/bechamelso%C3%9F...   \n",
       "7  http://www.kochbar.de/rezepte/sauerkrautauflau...   \n",
       "8     http://www.kochbar.de/rezepte/lachstartar.html   \n",
       "9  http://www.kochbar.de/kochrezepte/schmeckt-nic...   \n",
       "\n",
       "                                           host_type  recipe_id  \n",
       "0  Mozilla/5.0 (Windows NT 6.1; WOW64; rv:2.0.1) ...     443097  \n",
       "1  Mozilla/5.0 (Windows NT 5.1; rv:19.0) Gecko/20...     108268  \n",
       "2  Mozilla/5.0 (iPad; CPU OS 6_0_1 like Mac OS X)...     231469  \n",
       "3  Mozilla/5.0 (Windows NT 6.2; WOW64) AppleWebKi...     410839  \n",
       "4  Mozilla/5.0 (Windows NT 6.1; WOW64; rv:19.0) G...     392545  \n",
       "5  Mozilla/5.0 (compatible; MSIE 9.0; Windows NT ...     233705  \n",
       "6  Mozilla/5.0 (compatible; MSIE 9.0; Windows NT ...     158488  \n",
       "7  Mozilla/5.0 (Windows NT 6.1; WOW64; rv:19.0) G...     285300  \n",
       "8  Mozilla/5.0 (Windows NT 5.1; rv:8.0.1) Gecko/2...     179340  \n",
       "9  Mozilla/5.0 (compatible; MSIE 9.0; Windows NT ...       1999  "
      ]
     },
     "execution_count": 39,
     "metadata": {},
     "output_type": "execute_result"
    }
   ],
   "source": [
    "df"
   ]
  },
  {
   "cell_type": "markdown",
   "metadata": {},
   "source": [
    "## Collect data"
   ]
  },
  {
   "cell_type": "code",
   "execution_count": 5,
   "metadata": {},
   "outputs": [],
   "source": [
    "def find_comment(soup, wanted_comment='REZEPT-KATEGORIEN'):\n",
    "    found = False\n",
    "\n",
    "    comments = soup.find_all(string=lambda text:isinstance(text, Comment))\n",
    "    i = 0\n",
    "    while not found and i < len(comments):\n",
    "        node = comments[i]\n",
    "        if node.strip() == wanted_comment:\n",
    "            #print('comment found')\n",
    "            found = True\n",
    "\n",
    "        i+=1\n",
    "    return node"
   ]
  },
  {
   "cell_type": "code",
   "execution_count": 6,
   "metadata": {},
   "outputs": [],
   "source": [
    "def find_categories(soup, wanted_class = 'rtli-pb-small'):\n",
    "    data = []\n",
    "    node = find_comment(soup)\n",
    "    startOfItems, endOfItems = False, False\n",
    "    \n",
    "    while not endOfItems and node.find_next_sibling():\n",
    "        node = node.find_next_sibling()\n",
    "\n",
    "        if node['class'][0] == wanted_class:\n",
    "            startOfItems = True\n",
    "\n",
    "            if node.findChild().name == 'a':\n",
    "                data.append(node.a.text)\n",
    "            elif node.findChild().name == 'span':\n",
    "                data.append(node.span.text)\n",
    "\n",
    "        elif startOfItems:\n",
    "            endOfItems = True\n",
    "    \n",
    "    return data"
   ]
  },
  {
   "cell_type": "code",
   "execution_count": 7,
   "metadata": {},
   "outputs": [],
   "source": [
    "domain = 'http://www.kochbar.de'"
   ]
  },
  {
   "cell_type": "markdown",
   "metadata": {},
   "source": [
    "Remember to specify with rows to process. If 'all_rows' is set to True, 'start_index' and 'end_index' is not taken into account."
   ]
  },
  {
   "cell_type": "code",
   "execution_count": 101,
   "metadata": {},
   "outputs": [],
   "source": [
    "start_index, end_index = 110, 120\n",
    "all_rows = False"
   ]
  },
  {
   "cell_type": "code",
   "execution_count": 180,
   "metadata": {},
   "outputs": [],
   "source": [
    "def listToString(listToConvert):\n",
    "    result = '['\n",
    "    for el in listToConvert:\n",
    "        result += el + ','\n",
    "    \n",
    "    result = result[:-1]\n",
    "    return result +']'"
   ]
  },
  {
   "cell_type": "code",
   "execution_count": 308,
   "metadata": {},
   "outputs": [],
   "source": [
    "def improveText(text):\n",
    "    text = text.replace('ê','e')\n",
    "    text = text.replace('Ê','E')\n",
    "    \n",
    "    text = text.replace('ö','oe')\n",
    "    text = text.replace('Ö','Oe')\n",
    "    text = text.replace('ä','ae')\n",
    "    text = text.replace('Ä','Ae')\n",
    "    text = text.replace('ü','ue')\n",
    "    text = text.replace('Ü','Ue')\n",
    "    text = text.replace('ß','ss')\n",
    "\n",
    "    for i in range(len(text)):\n",
    "        nr = ord(text[i])\n",
    "        if (nr >= 97 and nr <= 122) or (nr >=65 and nr <=90) or nr in [32, 34, 38, 39, 44, 45, 47, 91, 92, 93]:\n",
    "            pass\n",
    "        else:\n",
    "            print(text[i])\n",
    "            text = text.replace(text[i], '?')\n",
    "                \n",
    "    return text"
   ]
  },
  {
   "cell_type": "code",
   "execution_count": 355,
   "metadata": {},
   "outputs": [],
   "source": [
    "pathToSave = 'scrapped_data.csv'"
   ]
  },
  {
   "cell_type": "code",
   "execution_count": 351,
   "metadata": {
    "scrolled": false
   },
   "outputs": [
    {
     "name": "stderr",
     "output_type": "stream",
     "text": [
      "  0%|          | 10/336936 [00:03<33:38:31,  2.78it/s]\n"
     ]
    },
    {
     "name": "stdout",
     "output_type": "stream",
     "text": [
      "6.656256437301636\n",
      "errors: 0\n"
     ]
    }
   ],
   "source": [
    "start = time.time()\n",
    "\n",
    "error_num = 0\n",
    "df_new = pd.DataFrame(columns=['date', 'recipe_id', 'country', 'region', 'city', 'categories'])\n",
    "f= open(pathToSave,'w')\n",
    "df_new.to_csv(f, index=None, header=True, encoding='utf-8', sep=',')\n",
    "f.close()\n",
    "\n",
    "nrows = 336936\n",
    "df = pd.read_csv(pathToRead, sep=',', encoding='utf-8', nrows=nrows)#, engine='python'\n",
    "\n",
    "f= open(pathToSave, 'a')\n",
    "\n",
    "if not all_rows:\n",
    "    df = df[start_index:end_index]\n",
    "else:\n",
    "    start_index = 0\n",
    "\n",
    "with tqdm(total=nrows) as pbar:\n",
    "    for i in range(len(df)): \n",
    "        #print(domain + url)\n",
    "        url = df['target_link'][start_index + i]\n",
    "        response = requests.get(domain + url)\n",
    "\n",
    "        if response.url != 'https://www.kochbar.de/rezepte/' and response.status_code == 200:\n",
    "            #print('Request status ok!')\n",
    "            soup = BeautifulSoup(response.content.decode('utf-8','ignore'), \"lxml\")\n",
    "            categories = find_categories(soup)\n",
    "            #print('categories:', categories, '\\n')\n",
    "            #data.append(categories)\n",
    "\n",
    "            s = pd.DataFrame({'d': str(df['date'][start_index + i]), 'id': df['recipe_id'][start_index + i], 'country':df['country'][start_index + i], 'region':df['country_region'][start_index + i], 'city': improveText(df['city'][start_index + i]),'categories': improveText(str(categories))}, index=[0])\n",
    "        elif response.status_code == 200:\n",
    "            #print('This webpage is probably no longer available!')\n",
    "            #data.append(None)\n",
    "            s = pd.DataFrame({'d': df['date'][start_index + i], 'id': df['recipe_id'][start_index + i], 'country':df['country'][start_index + i], 'region':df['country_region'][start_index + i], 'city': improveText(df['city'][start_index + i]), 'categories': str([])}, index=[0])\n",
    "\n",
    "        else:\n",
    "            #print('Not correct request status: ', response.status_code)\n",
    "            s = pd.DataFrame({'d': df['date'][start_index + i], 'id': df['recipe_id'][start_index + i], 'country':df['country'][start_index + i], 'region':df['country_region'][start_index + i], 'city': improveText(df['city'][start_index + i]), 'categories': str([])}, index=[0])\n",
    "        try:\n",
    "            s.to_csv(f, index=None, header=False, encoding='utf-8', sep=',')\n",
    "        except UnicodeEncodeError:\n",
    "            print('UnicodeEncodeError')\n",
    "            print(s)\n",
    "            error_num += 1\n",
    "\n",
    "        pbar.update(1)\n",
    "\n",
    "f.close() \n",
    "print(time.time() - start)\n",
    "print('errors:', error_num)"
   ]
  },
  {
   "cell_type": "code",
   "execution_count": 302,
   "metadata": {},
   "outputs": [],
   "source": [
    "f.close() "
   ]
  },
  {
   "cell_type": "markdown",
   "metadata": {},
   "source": [
    "## Check saved data"
   ]
  },
  {
   "cell_type": "code",
   "execution_count": null,
   "metadata": {
    "scrolled": true
   },
   "outputs": [],
   "source": [
    "df1=pd.read_csv(pathToSave)\n",
    "df1"
   ]
  },
  {
   "cell_type": "code",
   "execution_count": 358,
   "metadata": {},
   "outputs": [
    {
     "data": {
      "text/plain": [
       "['Europa',\n",
       " ' Fisch',\n",
       " ' Mittagstisch',\n",
       " ' Abendessen',\n",
       " ' Date',\n",
       " ' Fruehling',\n",
       " ' Sommer',\n",
       " ' Herbst',\n",
       " ' Winter',\n",
       " ' Hauptspeise',\n",
       " ' Gesund und Diaet',\n",
       " ' preiswerte',\n",
       " ' schnell & einfach',\n",
       " ' Italien',\n",
       " ' fettarm',\n",
       " ' glutenfrei',\n",
       " ' ohne Weizen']"
      ]
     },
     "execution_count": 358,
     "metadata": {},
     "output_type": "execute_result"
    }
   ],
   "source": [
    "df1['categories'][1][2:-2].replace(\"'\",\"\").replace('\"','').split(',')"
   ]
  },
  {
   "cell_type": "code",
   "execution_count": null,
   "metadata": {},
   "outputs": [],
   "source": []
  }
 ],
 "metadata": {
  "kernelspec": {
   "display_name": "Python 3",
   "language": "python",
   "name": "python3"
  },
  "language_info": {
   "codemirror_mode": {
    "name": "ipython",
    "version": 3
   },
   "file_extension": ".py",
   "mimetype": "text/x-python",
   "name": "python",
   "nbconvert_exporter": "python",
   "pygments_lexer": "ipython3",
   "version": "3.6.4"
  }
 },
 "nbformat": 4,
 "nbformat_minor": 2
}
