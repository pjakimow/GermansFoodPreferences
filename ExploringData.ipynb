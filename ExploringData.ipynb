{
 "cells": [
  {
   "cell_type": "code",
   "execution_count": 1,
   "metadata": {},
   "outputs": [],
   "source": [
    "import numpy as np\n",
    "import pandas as pd\n",
    "import matplotlib.pyplot as plt"
   ]
  },
  {
   "cell_type": "code",
   "execution_count": 58,
   "metadata": {},
   "outputs": [],
   "source": [
    "path = 'C:/Users/Patrycja/Desktop/Uni Koblenz/CSS/food_big_small_two_months/july_big_small_city.csv'"
   ]
  },
  {
   "cell_type": "code",
   "execution_count": 59,
   "metadata": {},
   "outputs": [
    {
     "data": {
      "text/plain": [
       "{'2013-07-01',\n",
       " '2013-07-02',\n",
       " '2013-07-03',\n",
       " '2013-07-04',\n",
       " '2013-07-05',\n",
       " '2013-07-06',\n",
       " '2013-07-07',\n",
       " '2013-07-08',\n",
       " '2013-07-09',\n",
       " '2013-07-10',\n",
       " '2013-07-11',\n",
       " '2013-07-12',\n",
       " '2013-07-13',\n",
       " '2013-07-14',\n",
       " '2013-07-15',\n",
       " '2013-07-16',\n",
       " '2013-07-17',\n",
       " '2013-07-18',\n",
       " '2013-07-19',\n",
       " '2013-07-20',\n",
       " '2013-07-21',\n",
       " '2013-07-22',\n",
       " '2013-07-23',\n",
       " '2013-07-24',\n",
       " '2013-07-25',\n",
       " '2013-07-26',\n",
       " '2013-07-27',\n",
       " '2013-07-28',\n",
       " '2013-07-29',\n",
       " '2013-07-30',\n",
       " '2013-07-31'}"
      ]
     },
     "execution_count": 59,
     "metadata": {},
     "output_type": "execute_result"
    }
   ],
   "source": [
    "df = pd.read_csv(path, sep=',', encoding='ISO-8859-1')#, engine='python'\n",
    "set([date for date, time in (date_time.split(' ') for date_time in df.date.unique())])"
   ]
  },
  {
   "cell_type": "markdown",
   "metadata": {},
   "source": [
    "## Add new columns"
   ]
  },
  {
   "cell_type": "code",
   "execution_count": 60,
   "metadata": {},
   "outputs": [],
   "source": [
    "df['day'] = [day for day, hour in (date.split(' ') for date in df.date)]"
   ]
  },
  {
   "cell_type": "code",
   "execution_count": 61,
   "metadata": {},
   "outputs": [],
   "source": [
    "df['hour'] = [hour for day, hour in (date.split(' ') for date in df.date)]"
   ]
  },
  {
   "cell_type": "code",
   "execution_count": 35,
   "metadata": {},
   "outputs": [
    {
     "data": {
      "text/html": [
       "<div>\n",
       "<style scoped>\n",
       "    .dataframe tbody tr th:only-of-type {\n",
       "        vertical-align: middle;\n",
       "    }\n",
       "\n",
       "    .dataframe tbody tr th {\n",
       "        vertical-align: top;\n",
       "    }\n",
       "\n",
       "    .dataframe thead th {\n",
       "        text-align: right;\n",
       "    }\n",
       "</style>\n",
       "<table border=\"1\" class=\"dataframe\">\n",
       "  <thead>\n",
       "    <tr style=\"text-align: right;\">\n",
       "      <th></th>\n",
       "      <th>country</th>\n",
       "      <th>country_region</th>\n",
       "      <th>zip</th>\n",
       "      <th>city</th>\n",
       "      <th>date</th>\n",
       "      <th>target_link</th>\n",
       "      <th>origin_link</th>\n",
       "      <th>host_type</th>\n",
       "      <th>recipe_id</th>\n",
       "      <th>day</th>\n",
       "      <th>hour</th>\n",
       "    </tr>\n",
       "  </thead>\n",
       "  <tbody>\n",
       "    <tr>\n",
       "      <th>0</th>\n",
       "      <td>DE</td>\n",
       "      <td>16</td>\n",
       "      <td>-1</td>\n",
       "      <td>Berlin</td>\n",
       "      <td>2013-07-28 13:59:59</td>\n",
       "      <td>/rezept/404417/Knuspriger-Spanferkelrollbraten...</td>\n",
       "      <td>http://www.kochbar.de/rezepte/spanferkelrollbr...</td>\n",
       "      <td>Mozilla/5.0 (Windows NT 5.1; rv:22.0) Gecko/20...</td>\n",
       "      <td>404417</td>\n",
       "      <td>2013-07-28</td>\n",
       "      <td>13:59:59</td>\n",
       "    </tr>\n",
       "    <tr>\n",
       "      <th>1</th>\n",
       "      <td>DE</td>\n",
       "      <td>16</td>\n",
       "      <td>-1</td>\n",
       "      <td>Berlin</td>\n",
       "      <td>2013-07-28 13:59:59</td>\n",
       "      <td>/rezept/404417/Knuspriger-Spanferkelrollbraten...</td>\n",
       "      <td>http://www.kochbar.de/rezepte/spanferkelrollbr...</td>\n",
       "      <td>Mozilla/5.0 (Windows NT 5.1; rv:22.0) Gecko/20...</td>\n",
       "      <td>404417</td>\n",
       "      <td>2013-07-28</td>\n",
       "      <td>13:59:59</td>\n",
       "    </tr>\n",
       "    <tr>\n",
       "      <th>2</th>\n",
       "      <td>DE</td>\n",
       "      <td>4</td>\n",
       "      <td>22117</td>\n",
       "      <td>Hamburg</td>\n",
       "      <td>2013-07-02 04:06:39</td>\n",
       "      <td>/rezept/106165/Spargelsalat-mit-Rinderfilet-un...</td>\n",
       "      <td>http://www.google.de/url?sa=t&amp;rct=j&amp;q=salat%20...</td>\n",
       "      <td>Mozilla/5.0 (Windows NT 6.1; WOW64; rv:21.0) G...</td>\n",
       "      <td>106165</td>\n",
       "      <td>2013-07-02</td>\n",
       "      <td>04:06:39</td>\n",
       "    </tr>\n",
       "    <tr>\n",
       "      <th>3</th>\n",
       "      <td>DE</td>\n",
       "      <td>5</td>\n",
       "      <td>-1</td>\n",
       "      <td>Frankfurt_Am_Main</td>\n",
       "      <td>2013-07-14 10:00:38</td>\n",
       "      <td>/rezept/470972/Nudelsalat-mit-Gemuese.html</td>\n",
       "      <td>-</td>\n",
       "      <td>Mozilla/5.0 (compatible; YandexBot/3.0; +http:...</td>\n",
       "      <td>470972</td>\n",
       "      <td>2013-07-14</td>\n",
       "      <td>10:00:38</td>\n",
       "    </tr>\n",
       "    <tr>\n",
       "      <th>4</th>\n",
       "      <td>DE</td>\n",
       "      <td>16</td>\n",
       "      <td>14169</td>\n",
       "      <td>Berlin</td>\n",
       "      <td>2013-07-22 16:00:17</td>\n",
       "      <td>/rezept/417178/Ravioli-gefuellt-mit-Pilzen.html</td>\n",
       "      <td>-</td>\n",
       "      <td>Mozilla/5.0 (iPad; CPU OS 6_1_3 like Mac OS X)...</td>\n",
       "      <td>417178</td>\n",
       "      <td>2013-07-22</td>\n",
       "      <td>16:00:17</td>\n",
       "    </tr>\n",
       "  </tbody>\n",
       "</table>\n",
       "</div>"
      ],
      "text/plain": [
       "  country  country_region    zip               city                 date  \\\n",
       "0      DE              16     -1             Berlin  2013-07-28 13:59:59   \n",
       "1      DE              16     -1             Berlin  2013-07-28 13:59:59   \n",
       "2      DE               4  22117            Hamburg  2013-07-02 04:06:39   \n",
       "3      DE               5     -1  Frankfurt_Am_Main  2013-07-14 10:00:38   \n",
       "4      DE              16  14169             Berlin  2013-07-22 16:00:17   \n",
       "\n",
       "                                         target_link  \\\n",
       "0  /rezept/404417/Knuspriger-Spanferkelrollbraten...   \n",
       "1  /rezept/404417/Knuspriger-Spanferkelrollbraten...   \n",
       "2  /rezept/106165/Spargelsalat-mit-Rinderfilet-un...   \n",
       "3         /rezept/470972/Nudelsalat-mit-Gemuese.html   \n",
       "4    /rezept/417178/Ravioli-gefuellt-mit-Pilzen.html   \n",
       "\n",
       "                                         origin_link  \\\n",
       "0  http://www.kochbar.de/rezepte/spanferkelrollbr...   \n",
       "1  http://www.kochbar.de/rezepte/spanferkelrollbr...   \n",
       "2  http://www.google.de/url?sa=t&rct=j&q=salat%20...   \n",
       "3                                                  -   \n",
       "4                                                  -   \n",
       "\n",
       "                                           host_type  recipe_id         day  \\\n",
       "0  Mozilla/5.0 (Windows NT 5.1; rv:22.0) Gecko/20...     404417  2013-07-28   \n",
       "1  Mozilla/5.0 (Windows NT 5.1; rv:22.0) Gecko/20...     404417  2013-07-28   \n",
       "2  Mozilla/5.0 (Windows NT 6.1; WOW64; rv:21.0) G...     106165  2013-07-02   \n",
       "3  Mozilla/5.0 (compatible; YandexBot/3.0; +http:...     470972  2013-07-14   \n",
       "4  Mozilla/5.0 (iPad; CPU OS 6_1_3 like Mac OS X)...     417178  2013-07-22   \n",
       "\n",
       "       hour  \n",
       "0  13:59:59  \n",
       "1  13:59:59  \n",
       "2  04:06:39  \n",
       "3  10:00:38  \n",
       "4  16:00:17  "
      ]
     },
     "execution_count": 35,
     "metadata": {},
     "output_type": "execute_result"
    }
   ],
   "source": [
    "df.head()"
   ]
  },
  {
   "cell_type": "markdown",
   "metadata": {},
   "source": [
    "## Check number of examples for each city"
   ]
  },
  {
   "cell_type": "code",
   "execution_count": 36,
   "metadata": {},
   "outputs": [],
   "source": [
    "dfByCity = df.groupby(['city'])"
   ]
  },
  {
   "cell_type": "code",
   "execution_count": 46,
   "metadata": {},
   "outputs": [
    {
     "data": {
      "text/plain": [
       "{'Berlin': 395616,\n",
       " 'Bremerhaven': 7888,\n",
       " 'Darmstadt': 31676,\n",
       " 'Erlangen': 19461,\n",
       " 'Frankfurt_Am_Main': 152313,\n",
       " 'Hamburg': 207819,\n",
       " 'KÃ¶ln': 123214,\n",
       " 'Munich': 252958,\n",
       " 'Potsdam': 10207,\n",
       " 'Siegen': 13333}"
      ]
     },
     "execution_count": 46,
     "metadata": {},
     "output_type": "execute_result"
    }
   ],
   "source": [
    "cities = dict()\n",
    "for name, group in dfByCity:\n",
    "    #print(name, ':', group)\n",
    "    cities[name] = len(group)\n",
    "cities"
   ]
  },
  {
   "cell_type": "code",
   "execution_count": 55,
   "metadata": {},
   "outputs": [
    {
     "data": {
      "image/png": "[encoded data removed]",
      "text/plain": [
       "<Figure size 432x288 with 1 Axes>"
      ]
     },
     "metadata": {},
     "output_type": "display_data"
    }
   ],
   "source": [
    "plt.bar(range(len(cities.values())), cities.values())#, 'o')\n",
    "plt.ylabel('number of examples')\n",
    "plt.xlabel('cities')\n",
    "plt.xticks(range(len(cities.keys())), cities.keys(), rotation='vertical')\n",
    "plt.show()"
   ]
  },
  {
   "cell_type": "code",
   "execution_count": null,
   "metadata": {},
   "outputs": [],
   "source": [
    "#TODO: posortować miasta według liczby mieszkańców, może wtedy jakaś tendencja"
   ]
  },
  {
   "cell_type": "markdown",
   "metadata": {},
   "source": [
    "## Check number of examples for each day"
   ]
  },
  {
   "cell_type": "code",
   "execution_count": 62,
   "metadata": {},
   "outputs": [],
   "source": [
    "dfByDay = df.groupby(['day'])"
   ]
  },
  {
   "cell_type": "code",
   "execution_count": 63,
   "metadata": {},
   "outputs": [
    {
     "data": {
      "text/plain": [
       "{'2013-07-01': 35561,\n",
       " '2013-07-02': 34001,\n",
       " '2013-07-03': 39952,\n",
       " '2013-07-04': 38073,\n",
       " '2013-07-05': 41907,\n",
       " '2013-07-06': 38891,\n",
       " '2013-07-07': 31573,\n",
       " '2013-07-08': 38341,\n",
       " '2013-07-09': 40713,\n",
       " '2013-07-10': 38226,\n",
       " '2013-07-11': 40507,\n",
       " '2013-07-12': 41859,\n",
       " '2013-07-13': 38021,\n",
       " '2013-07-14': 39317,\n",
       " '2013-07-15': 38743,\n",
       " '2013-07-16': 37832,\n",
       " '2013-07-17': 37378,\n",
       " '2013-07-18': 41424,\n",
       " '2013-07-19': 46115,\n",
       " '2013-07-20': 43123,\n",
       " '2013-07-21': 34971,\n",
       " '2013-07-22': 37849,\n",
       " '2013-07-23': 39528,\n",
       " '2013-07-24': 39292,\n",
       " '2013-07-25': 40540,\n",
       " '2013-07-26': 41273,\n",
       " '2013-07-27': 38342,\n",
       " '2013-07-28': 37067,\n",
       " '2013-07-29': 42124,\n",
       " '2013-07-30': 41836,\n",
       " '2013-07-31': 40106}"
      ]
     },
     "execution_count": 63,
     "metadata": {},
     "output_type": "execute_result"
    }
   ],
   "source": [
    "days = dict()\n",
    "for name, group in dfByDay:\n",
    "    days[name] = len(group)\n",
    "days"
   ]
  },
  {
   "cell_type": "code",
   "execution_count": 64,
   "metadata": {},
   "outputs": [],
   "source": [
    "def barchart_from_dict(dictionary, xlabel, ylabel, xticks=False, rotation='vertical'):\n",
    "    plt.bar(range(len(dictionary.values())), dictionary.values())\n",
    "    plt.ylabel(ylabel)\n",
    "    plt.xlabel(xlabel)\n",
    "    if xticks:\n",
    "        plt.xticks(range(len(dictionary.keys())), dictionary.keys(), rotation=rotation)\n",
    "    plt.show()"
   ]
  },
  {
   "cell_type": "code",
   "execution_count": 65,
   "metadata": {},
   "outputs": [
    {
     "data": {
      "image/png": "[encoded data removed]",
      "text/plain": [
       "<Figure size 432x288 with 1 Axes>"
      ]
     },
     "metadata": {},
     "output_type": "display_data"
    }
   ],
   "source": [
    "barchart_from_dict(days, 'date', 'number of examples', xticks=True)"
   ]
  },
  {
   "cell_type": "markdown",
   "metadata": {},
   "source": [
    "## Check number of examples for each city and each day"
   ]
  },
  {
   "cell_type": "code",
   "execution_count": 72,
   "metadata": {},
   "outputs": [],
   "source": [
    "dfByCity = df.groupby(['city'])"
   ]
  },
  {
   "cell_type": "code",
   "execution_count": 78,
   "metadata": {},
   "outputs": [
    {
     "data": {
      "text/plain": [
       "{'Berlin': {'2013-07-01': 10502,\n",
       "  '2013-07-02': 10738,\n",
       "  '2013-07-03': 11567,\n",
       "  '2013-07-04': 12367,\n",
       "  '2013-07-05': 12847,\n",
       "  '2013-07-06': 11482,\n",
       "  '2013-07-07': 10325,\n",
       "  '2013-07-08': 11572,\n",
       "  '2013-07-09': 11499,\n",
       "  '2013-07-10': 12442,\n",
       "  '2013-07-11': 13456,\n",
       "  '2013-07-12': 14379,\n",
       "  '2013-07-13': 12540,\n",
       "  '2013-07-14': 14445,\n",
       "  '2013-07-15': 12567,\n",
       "  '2013-07-16': 11595,\n",
       "  '2013-07-17': 12642,\n",
       "  '2013-07-18': 13579,\n",
       "  '2013-07-19': 13637,\n",
       "  '2013-07-20': 17705,\n",
       "  '2013-07-21': 11142,\n",
       "  '2013-07-22': 12561,\n",
       "  '2013-07-23': 13017,\n",
       "  '2013-07-24': 12419,\n",
       "  '2013-07-25': 13547,\n",
       "  '2013-07-26': 13691,\n",
       "  '2013-07-27': 12888,\n",
       "  '2013-07-28': 12192,\n",
       "  '2013-07-29': 14400,\n",
       "  '2013-07-30': 14171,\n",
       "  '2013-07-31': 13702},\n",
       " 'Bremerhaven': {'2013-07-01': 212,\n",
       "  '2013-07-02': 316,\n",
       "  '2013-07-03': 382,\n",
       "  '2013-07-04': 234,\n",
       "  '2013-07-05': 302,\n",
       "  '2013-07-06': 210,\n",
       "  '2013-07-07': 174,\n",
       "  '2013-07-08': 222,\n",
       "  '2013-07-09': 312,\n",
       "  '2013-07-10': 251,\n",
       "  '2013-07-11': 193,\n",
       "  '2013-07-12': 250,\n",
       "  '2013-07-13': 247,\n",
       "  '2013-07-14': 243,\n",
       "  '2013-07-15': 219,\n",
       "  '2013-07-16': 203,\n",
       "  '2013-07-17': 327,\n",
       "  '2013-07-18': 216,\n",
       "  '2013-07-19': 314,\n",
       "  '2013-07-20': 282,\n",
       "  '2013-07-21': 183,\n",
       "  '2013-07-22': 210,\n",
       "  '2013-07-23': 260,\n",
       "  '2013-07-24': 230,\n",
       "  '2013-07-25': 274,\n",
       "  '2013-07-26': 314,\n",
       "  '2013-07-27': 228,\n",
       "  '2013-07-28': 276,\n",
       "  '2013-07-29': 270,\n",
       "  '2013-07-30': 268,\n",
       "  '2013-07-31': 266},\n",
       " 'Darmstadt': {'2013-07-01': 850,\n",
       "  '2013-07-02': 723,\n",
       "  '2013-07-03': 946,\n",
       "  '2013-07-04': 704,\n",
       "  '2013-07-05': 796,\n",
       "  '2013-07-06': 863,\n",
       "  '2013-07-07': 770,\n",
       "  '2013-07-08': 705,\n",
       "  '2013-07-09': 687,\n",
       "  '2013-07-10': 804,\n",
       "  '2013-07-11': 1065,\n",
       "  '2013-07-12': 761,\n",
       "  '2013-07-13': 864,\n",
       "  '2013-07-14': 812,\n",
       "  '2013-07-15': 909,\n",
       "  '2013-07-16': 797,\n",
       "  '2013-07-17': 875,\n",
       "  '2013-07-18': 1990,\n",
       "  '2013-07-19': 5244,\n",
       "  '2013-07-20': 812,\n",
       "  '2013-07-21': 877,\n",
       "  '2013-07-22': 858,\n",
       "  '2013-07-23': 855,\n",
       "  '2013-07-24': 888,\n",
       "  '2013-07-25': 773,\n",
       "  '2013-07-26': 878,\n",
       "  '2013-07-27': 887,\n",
       "  '2013-07-28': 918,\n",
       "  '2013-07-29': 1015,\n",
       "  '2013-07-30': 852,\n",
       "  '2013-07-31': 898},\n",
       " 'Erlangen': {'2013-07-01': 543,\n",
       "  '2013-07-02': 548,\n",
       "  '2013-07-03': 719,\n",
       "  '2013-07-04': 559,\n",
       "  '2013-07-05': 635,\n",
       "  '2013-07-06': 569,\n",
       "  '2013-07-07': 488,\n",
       "  '2013-07-08': 643,\n",
       "  '2013-07-09': 537,\n",
       "  '2013-07-10': 575,\n",
       "  '2013-07-11': 676,\n",
       "  '2013-07-12': 714,\n",
       "  '2013-07-13': 775,\n",
       "  '2013-07-14': 692,\n",
       "  '2013-07-15': 671,\n",
       "  '2013-07-16': 611,\n",
       "  '2013-07-17': 603,\n",
       "  '2013-07-18': 628,\n",
       "  '2013-07-19': 634,\n",
       "  '2013-07-20': 619,\n",
       "  '2013-07-21': 587,\n",
       "  '2013-07-22': 774,\n",
       "  '2013-07-23': 687,\n",
       "  '2013-07-24': 611,\n",
       "  '2013-07-25': 665,\n",
       "  '2013-07-26': 568,\n",
       "  '2013-07-27': 545,\n",
       "  '2013-07-28': 487,\n",
       "  '2013-07-29': 747,\n",
       "  '2013-07-30': 663,\n",
       "  '2013-07-31': 688},\n",
       " 'Frankfurt_Am_Main': {'2013-07-01': 5191,\n",
       "  '2013-07-02': 4789,\n",
       "  '2013-07-03': 5498,\n",
       "  '2013-07-04': 4304,\n",
       "  '2013-07-05': 6678,\n",
       "  '2013-07-06': 7813,\n",
       "  '2013-07-07': 3893,\n",
       "  '2013-07-08': 6561,\n",
       "  '2013-07-09': 8681,\n",
       "  '2013-07-10': 4312,\n",
       "  '2013-07-11': 4905,\n",
       "  '2013-07-12': 5244,\n",
       "  '2013-07-13': 4519,\n",
       "  '2013-07-14': 4294,\n",
       "  '2013-07-15': 4589,\n",
       "  '2013-07-16': 4772,\n",
       "  '2013-07-17': 4000,\n",
       "  '2013-07-18': 5460,\n",
       "  '2013-07-19': 4872,\n",
       "  '2013-07-20': 4878,\n",
       "  '2013-07-21': 4640,\n",
       "  '2013-07-22': 3943,\n",
       "  '2013-07-23': 3996,\n",
       "  '2013-07-24': 3917,\n",
       "  '2013-07-25': 4322,\n",
       "  '2013-07-26': 4674,\n",
       "  '2013-07-27': 3917,\n",
       "  '2013-07-28': 4136,\n",
       "  '2013-07-29': 4511,\n",
       "  '2013-07-30': 4330,\n",
       "  '2013-07-31': 4674},\n",
       " 'Hamburg': {'2013-07-01': 6597,\n",
       "  '2013-07-02': 5748,\n",
       "  '2013-07-03': 6712,\n",
       "  '2013-07-04': 6688,\n",
       "  '2013-07-05': 6915,\n",
       "  '2013-07-06': 5662,\n",
       "  '2013-07-07': 5115,\n",
       "  '2013-07-08': 5932,\n",
       "  '2013-07-09': 6136,\n",
       "  '2013-07-10': 6852,\n",
       "  '2013-07-11': 6665,\n",
       "  '2013-07-12': 6866,\n",
       "  '2013-07-13': 6386,\n",
       "  '2013-07-14': 7441,\n",
       "  '2013-07-15': 6543,\n",
       "  '2013-07-16': 6268,\n",
       "  '2013-07-17': 6277,\n",
       "  '2013-07-18': 6767,\n",
       "  '2013-07-19': 7503,\n",
       "  '2013-07-20': 6239,\n",
       "  '2013-07-21': 6142,\n",
       "  '2013-07-22': 6776,\n",
       "  '2013-07-23': 6897,\n",
       "  '2013-07-24': 7005,\n",
       "  '2013-07-25': 7810,\n",
       "  '2013-07-26': 7643,\n",
       "  '2013-07-27': 6739,\n",
       "  '2013-07-28': 7201,\n",
       "  '2013-07-29': 7256,\n",
       "  '2013-07-30': 7831,\n",
       "  '2013-07-31': 7207},\n",
       " 'KÃ¶ln': {'2013-07-01': 3909,\n",
       "  '2013-07-02': 3381,\n",
       "  '2013-07-03': 4638,\n",
       "  '2013-07-04': 4005,\n",
       "  '2013-07-05': 4462,\n",
       "  '2013-07-06': 3591,\n",
       "  '2013-07-07': 3146,\n",
       "  '2013-07-08': 4088,\n",
       "  '2013-07-09': 3850,\n",
       "  '2013-07-10': 4223,\n",
       "  '2013-07-11': 4326,\n",
       "  '2013-07-12': 4247,\n",
       "  '2013-07-13': 3998,\n",
       "  '2013-07-14': 3580,\n",
       "  '2013-07-15': 3843,\n",
       "  '2013-07-16': 4418,\n",
       "  '2013-07-17': 3742,\n",
       "  '2013-07-18': 3923,\n",
       "  '2013-07-19': 4274,\n",
       "  '2013-07-20': 3595,\n",
       "  '2013-07-21': 3337,\n",
       "  '2013-07-22': 3887,\n",
       "  '2013-07-23': 3856,\n",
       "  '2013-07-24': 4381,\n",
       "  '2013-07-25': 4192,\n",
       "  '2013-07-26': 4246,\n",
       "  '2013-07-27': 3975,\n",
       "  '2013-07-28': 3837,\n",
       "  '2013-07-29': 4200,\n",
       "  '2013-07-30': 4157,\n",
       "  '2013-07-31': 3907},\n",
       " 'Munich': {'2013-07-01': 7026,\n",
       "  '2013-07-02': 7095,\n",
       "  '2013-07-03': 8587,\n",
       "  '2013-07-04': 8540,\n",
       "  '2013-07-05': 8463,\n",
       "  '2013-07-06': 8121,\n",
       "  '2013-07-07': 7132,\n",
       "  '2013-07-08': 7972,\n",
       "  '2013-07-09': 8210,\n",
       "  '2013-07-10': 7944,\n",
       "  '2013-07-11': 8433,\n",
       "  '2013-07-12': 8636,\n",
       "  '2013-07-13': 8179,\n",
       "  '2013-07-14': 7273,\n",
       "  '2013-07-15': 8462,\n",
       "  '2013-07-16': 8257,\n",
       "  '2013-07-17': 8116,\n",
       "  '2013-07-18': 8018,\n",
       "  '2013-07-19': 8906,\n",
       "  '2013-07-20': 8308,\n",
       "  '2013-07-21': 7409,\n",
       "  '2013-07-22': 8089,\n",
       "  '2013-07-23': 9187,\n",
       "  '2013-07-24': 9076,\n",
       "  '2013-07-25': 8127,\n",
       "  '2013-07-26': 8368,\n",
       "  '2013-07-27': 8421,\n",
       "  '2013-07-28': 7248,\n",
       "  '2013-07-29': 8798,\n",
       "  '2013-07-30': 8705,\n",
       "  '2013-07-31': 7852},\n",
       " 'Potsdam': {'2013-07-01': 330,\n",
       "  '2013-07-02': 306,\n",
       "  '2013-07-03': 349,\n",
       "  '2013-07-04': 277,\n",
       "  '2013-07-05': 300,\n",
       "  '2013-07-06': 206,\n",
       "  '2013-07-07': 235,\n",
       "  '2013-07-08': 320,\n",
       "  '2013-07-09': 293,\n",
       "  '2013-07-10': 326,\n",
       "  '2013-07-11': 319,\n",
       "  '2013-07-12': 305,\n",
       "  '2013-07-13': 165,\n",
       "  '2013-07-14': 250,\n",
       "  '2013-07-15': 492,\n",
       "  '2013-07-16': 411,\n",
       "  '2013-07-17': 419,\n",
       "  '2013-07-18': 369,\n",
       "  '2013-07-19': 366,\n",
       "  '2013-07-20': 306,\n",
       "  '2013-07-21': 208,\n",
       "  '2013-07-22': 335,\n",
       "  '2013-07-23': 353,\n",
       "  '2013-07-24': 375,\n",
       "  '2013-07-25': 345,\n",
       "  '2013-07-26': 401,\n",
       "  '2013-07-27': 293,\n",
       "  '2013-07-28': 261,\n",
       "  '2013-07-29': 424,\n",
       "  '2013-07-30': 385,\n",
       "  '2013-07-31': 483},\n",
       " 'Siegen': {'2013-07-01': 401,\n",
       "  '2013-07-02': 357,\n",
       "  '2013-07-03': 554,\n",
       "  '2013-07-04': 395,\n",
       "  '2013-07-05': 509,\n",
       "  '2013-07-06': 374,\n",
       "  '2013-07-07': 295,\n",
       "  '2013-07-08': 326,\n",
       "  '2013-07-09': 508,\n",
       "  '2013-07-10': 497,\n",
       "  '2013-07-11': 469,\n",
       "  '2013-07-12': 457,\n",
       "  '2013-07-13': 348,\n",
       "  '2013-07-14': 287,\n",
       "  '2013-07-15': 448,\n",
       "  '2013-07-16': 500,\n",
       "  '2013-07-17': 377,\n",
       "  '2013-07-18': 474,\n",
       "  '2013-07-19': 365,\n",
       "  '2013-07-20': 379,\n",
       "  '2013-07-21': 446,\n",
       "  '2013-07-22': 416,\n",
       "  '2013-07-23': 420,\n",
       "  '2013-07-24': 390,\n",
       "  '2013-07-25': 485,\n",
       "  '2013-07-26': 490,\n",
       "  '2013-07-27': 449,\n",
       "  '2013-07-28': 511,\n",
       "  '2013-07-29': 503,\n",
       "  '2013-07-30': 474,\n",
       "  '2013-07-31': 429}}"
      ]
     },
     "execution_count": 78,
     "metadata": {},
     "output_type": "execute_result"
    }
   ],
   "source": [
    "cities_days = dict()\n",
    "for name, group in dfByCity:\n",
    "    dfByCityByDay = group.groupby('day')\n",
    "    temp = dict() #dict.fromkeys\n",
    "    for day_name, day_group in dfByCityByDay:    \n",
    "        temp[day_name] = len(day_group)\n",
    "    cities_days[name] = temp\n",
    "    \n",
    "cities_days"
   ]
  },
  {
   "cell_type": "code",
   "execution_count": 80,
   "metadata": {},
   "outputs": [
    {
     "data": {
      "text/plain": [
       "['Berlin',\n",
       " 'Bremerhaven',\n",
       " 'Darmstadt',\n",
       " 'Erlangen',\n",
       " 'Frankfurt_Am_Main',\n",
       " 'Hamburg',\n",
       " 'KÃ¶ln',\n",
       " 'Munich',\n",
       " 'Potsdam',\n",
       " 'Siegen']"
      ]
     },
     "execution_count": 80,
     "metadata": {},
     "output_type": "execute_result"
    }
   ],
   "source": [
    "labels = [name for name in cities_days.keys()]\n",
    "labels"
   ]
  },
  {
   "cell_type": "code",
   "execution_count": 113,
   "metadata": {},
   "outputs": [
    {
     "data": {
      "image/png": "[encoded data removed]",
      "text/plain": [
       "<Figure size 432x288 with 10 Axes>"
      ]
     },
     "metadata": {},
     "output_type": "display_data"
    }
   ],
   "source": [
    "for i in range(1, 11):\n",
    "    plt.subplot(5, 2, i)\n",
    "    plt.bar(range(len(cities_days[labels[i-1]].values())), cities_days[labels[i-1]].values())"
   ]
  },
  {
   "cell_type": "code",
   "execution_count": 110,
   "metadata": {},
   "outputs": [
    {
     "data": {
      "image/png": "[encoded data removed]",
      "text/plain": [
       "<Figure size 720x720 with 1 Axes>"
      ]
     },
     "metadata": {},
     "output_type": "display_data"
    },
    {
     "data": {
      "image/png": "[encoded data removed]",
      "text/plain": [
       "<Figure size 720x720 with 1 Axes>"
      ]
     },
     "metadata": {},
     "output_type": "display_data"
    },
    {
     "data": {
      "image/png": "[encoded data removed]",
      "text/plain": [
       "<Figure size 720x720 with 1 Axes>"
      ]
     },
     "metadata": {},
     "output_type": "display_data"
    },
    {
     "data": {
      "image/png": "[encoded data removed]",
      "text/plain": [
       "<Figure size 720x720 with 1 Axes>"
      ]
     },
     "metadata": {},
     "output_type": "display_data"
    },
    {
     "data": {
      "image/png": "[encoded data removed]",
      "text/plain": [
       "<Figure size 720x720 with 1 Axes>"
      ]
     },
     "metadata": {},
     "output_type": "display_data"
    },
    {
     "data": {
      "image/png": "[encoded data removed]",
      "text/plain": [
       "<Figure size 720x720 with 1 Axes>"
      ]
     },
     "metadata": {},
     "output_type": "display_data"
    },
    {
     "data": {
      "image/png": "[encoded data removed]",
      "text/plain": [
       "<Figure size 720x720 with 1 Axes>"
      ]
     },
     "metadata": {},
     "output_type": "display_data"
    },
    {
     "data": {
      "image/png": "[encoded data removed]",
      "text/plain": [
       "<Figure size 720x720 with 1 Axes>"
      ]
     },
     "metadata": {},
     "output_type": "display_data"
    },
    {
     "data": {
      "image/png": "[encoded data removed]",
      "text/plain": [
       "<Figure size 720x720 with 1 Axes>"
      ]
     },
     "metadata": {},
     "output_type": "display_data"
    },
    {
     "data": {
      "image/png": "[encoded data removed]",
      "text/plain": [
       "<Figure size 720x720 with 1 Axes>"
      ]
     },
     "metadata": {},
     "output_type": "display_data"
    }
   ],
   "source": [
    "for i in range(1, 11):\n",
    "    f, ax = plt.subplots(figsize=(10,10))\n",
    "    plt.subplot(5, 2, i)\n",
    "    plt.title(labels[i-1])\n",
    "    plt.tight_layout(pad=0.4, w_pad=0.5, h_pad=1.0)\n",
    "    plt.bar(range(len(cities_days[labels[i-1]].values())), cities_days[labels[i-1]].values())"
   ]
  },
  {
   "cell_type": "code",
   "execution_count": null,
   "metadata": {},
   "outputs": [],
   "source": []
  }
 ],
 "metadata": {
  "kernelspec": {
   "display_name": "Python 3",
   "language": "python",
   "name": "python3"
  },
  "language_info": {
   "codemirror_mode": {
    "name": "ipython",
    "version": 3
   },
   "file_extension": ".py",
   "mimetype": "text/x-python",
   "name": "python",
   "nbconvert_exporter": "python",
   "pygments_lexer": "ipython3",
   "version": "3.6.4"
  }
 },
 "nbformat": 4,
 "nbformat_minor": 2
}
